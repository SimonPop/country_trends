{
 "cells": [
  {
   "cell_type": "code",
   "execution_count": null,
   "metadata": {},
   "outputs": [],
   "source": [
    "import networkx as nx\n",
    "from config import CONFIG, Config\n",
    "from data.metro_dataset import MetroDataset\n",
    "from config import Line\n",
    "from pytorch_lightning import Trainer\n",
    "from model.metro_model import MetroModel\n",
    "from networkx.drawing.layout import *\n",
    "import numpy as np\n",
    "import torch\n",
    "torch.manual_seed(0)"
   ]
  },
  {
   "attachments": {},
   "cell_type": "markdown",
   "metadata": {},
   "source": [
    "# Dataset"
   ]
  },
  {
   "cell_type": "code",
   "execution_count": null,
   "metadata": {},
   "outputs": [],
   "source": [
    "dataset = MetroDataset(CONFIG.lines, init_nb=20)\n",
    "num_nodes = dataset.cg.num_nodes()\n",
    "dataset.cg.altair_graph(dataset.cg.graph, 10)"
   ]
  },
  {
   "cell_type": "code",
   "execution_count": null,
   "metadata": {},
   "outputs": [],
   "source": [
    "dataset.dataframes[0].plot()"
   ]
  },
  {
   "cell_type": "code",
   "execution_count": null,
   "metadata": {},
   "outputs": [],
   "source": [
    "from collections import defaultdict\n",
    "df = dataset.dataframes[0]\n",
    "node2station = nx.get_node_attributes(dataset.cg.graph, \"station\")\n",
    "station2series = defaultdict(list)\n",
    "for key, value in node2station.items():\n",
    "    station2series[str(value) + '_station'].append(key)\n",
    "\n",
    "import pandas as pd\n",
    "import matplotlib.pyplot as plt\n",
    "sumdf = pd.DataFrame()\n",
    "for i, (key, value) in enumerate(station2series.items()):\n",
    "    sumdf[\"station \" + str(i+1)] = df[value].sum(axis=1)\n",
    "\n",
    "plt.style.use('fivethirtyeight')\n",
    "\n",
    "sumdf.plot()\n",
    "plt.title('Synthetic Metro Traffic')"
   ]
  },
  {
   "attachments": {},
   "cell_type": "markdown",
   "metadata": {},
   "source": [
    "# Model"
   ]
  },
  {
   "cell_type": "code",
   "execution_count": null,
   "metadata": {},
   "outputs": [],
   "source": [
    "A_init = torch.tensor(dataset.cg.adjacency_matrix(), requires_grad=True).float()"
   ]
  },
  {
   "cell_type": "code",
   "execution_count": null,
   "metadata": {},
   "outputs": [],
   "source": [
    "model = MetroModel(embedding_size=8, num_nodes=num_nodes, neighbor_nb=2, input_size=1, gsl_mode=\"embedding\", lr=1e-3) # , "
   ]
  },
  {
   "attachments": {},
   "cell_type": "markdown",
   "metadata": {},
   "source": [
    "# Training"
   ]
  },
  {
   "cell_type": "code",
   "execution_count": null,
   "metadata": {},
   "outputs": [],
   "source": [
    "train_loader = torch.utils.data.DataLoader(dataset, batch_size=8)\n",
    "trainer = Trainer(max_epochs=100)\n",
    "trainer.fit(model, train_loader)"
   ]
  },
  {
   "attachments": {},
   "cell_type": "markdown",
   "metadata": {},
   "source": [
    "# Evaluation"
   ]
  },
  {
   "cell_type": "code",
   "execution_count": null,
   "metadata": {},
   "outputs": [],
   "source": [
    "A = model.graph_learning()\n",
    "\n",
    "dim=1\n",
    "values, indices = A.topk(k=2, dim=dim)\n",
    "mask = torch.zeros_like(A)\n",
    "mask.scatter_(dim, indices, values.fill_(1))\n",
    "A = A*mask\n",
    "\n",
    "A = A.detach().numpy()\n",
    "A = np.array(A)"
   ]
  },
  {
   "cell_type": "code",
   "execution_count": null,
   "metadata": {},
   "outputs": [],
   "source": [
    "B = A * (A > 0.1)"
   ]
  },
  {
   "cell_type": "code",
   "execution_count": null,
   "metadata": {},
   "outputs": [],
   "source": [
    "learned_graph = nx.from_numpy_array(A, nx.DiGraph)\n",
    "dataset.cg.altair_graph(learned_graph, 10)"
   ]
  },
  {
   "cell_type": "code",
   "execution_count": null,
   "metadata": {},
   "outputs": [],
   "source": [
    "# TODO: Essayer avec les embeddings\n",
    "# TODO: Essayer avec un graph bruité en entrée\n",
    "# TODO: Essayer avec des data bruitées\n",
    "# TODO: Essayer avec différents réseaux (de métro)\n",
    "# TODO: Essayer avec le graphe contracté "
   ]
  }
 ],
 "metadata": {
  "kernelspec": {
   "display_name": "Python 3",
   "language": "python",
   "name": "python3"
  },
  "language_info": {
   "codemirror_mode": {
    "name": "ipython",
    "version": 3
   },
   "file_extension": ".py",
   "mimetype": "text/x-python",
   "name": "python",
   "nbconvert_exporter": "python",
   "pygments_lexer": "ipython3",
   "version": "3.10.9"
  },
  "orig_nbformat": 4
 },
 "nbformat": 4,
 "nbformat_minor": 2
}
