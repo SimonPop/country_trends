{
 "cells": [
  {
   "cell_type": "code",
   "execution_count": 3,
   "metadata": {},
   "outputs": [
    {
     "data": {
      "text/plain": [
       "<torch._C.Generator at 0x2076df34250>"
      ]
     },
     "execution_count": 3,
     "metadata": {},
     "output_type": "execute_result"
    }
   ],
   "source": [
    "import networkx as nx\n",
    "from config import CONFIG\n",
    "from metro_dataset import MetroDataset\n",
    "from config import Line\n",
    "from pytorch_lightning import Trainer\n",
    "from metro_model import MetroModel\n",
    "from networkx.drawing.layout import *\n",
    "import numpy as np\n",
    "import torch\n",
    "torch.manual_seed(0)"
   ]
  },
  {
   "attachments": {},
   "cell_type": "markdown",
   "metadata": {},
   "source": [
    "# Dataset"
   ]
  },
  {
   "cell_type": "code",
   "execution_count": 4,
   "metadata": {},
   "outputs": [
    {
     "data": {
      "text/html": [
       "\n",
       "<div id=\"altair-viz-9f48d2e70992409bbbb7bb20072c9ef1\"></div>\n",
       "<script type=\"text/javascript\">\n",
       "  var VEGA_DEBUG = (typeof VEGA_DEBUG == \"undefined\") ? {} : VEGA_DEBUG;\n",
       "  (function(spec, embedOpt){\n",
       "    let outputDiv = document.currentScript.previousElementSibling;\n",
       "    if (outputDiv.id !== \"altair-viz-9f48d2e70992409bbbb7bb20072c9ef1\") {\n",
       "      outputDiv = document.getElementById(\"altair-viz-9f48d2e70992409bbbb7bb20072c9ef1\");\n",
       "    }\n",
       "    const paths = {\n",
       "      \"vega\": \"https://cdn.jsdelivr.net/npm//vega@5?noext\",\n",
       "      \"vega-lib\": \"https://cdn.jsdelivr.net/npm//vega-lib?noext\",\n",
       "      \"vega-lite\": \"https://cdn.jsdelivr.net/npm//vega-lite@4.17.0?noext\",\n",
       "      \"vega-embed\": \"https://cdn.jsdelivr.net/npm//vega-embed@6?noext\",\n",
       "    };\n",
       "\n",
       "    function maybeLoadScript(lib, version) {\n",
       "      var key = `${lib.replace(\"-\", \"\")}_version`;\n",
       "      return (VEGA_DEBUG[key] == version) ?\n",
       "        Promise.resolve(paths[lib]) :\n",
       "        new Promise(function(resolve, reject) {\n",
       "          var s = document.createElement('script');\n",
       "          document.getElementsByTagName(\"head\")[0].appendChild(s);\n",
       "          s.async = true;\n",
       "          s.onload = () => {\n",
       "            VEGA_DEBUG[key] = version;\n",
       "            return resolve(paths[lib]);\n",
       "          };\n",
       "          s.onerror = () => reject(`Error loading script: ${paths[lib]}`);\n",
       "          s.src = paths[lib];\n",
       "        });\n",
       "    }\n",
       "\n",
       "    function showError(err) {\n",
       "      outputDiv.innerHTML = `<div class=\"error\" style=\"color:red;\">${err}</div>`;\n",
       "      throw err;\n",
       "    }\n",
       "\n",
       "    function displayChart(vegaEmbed) {\n",
       "      vegaEmbed(outputDiv, spec, embedOpt)\n",
       "        .catch(err => showError(`Javascript Error: ${err.message}<br>This usually means there's a typo in your chart specification. See the javascript console for the full traceback.`));\n",
       "    }\n",
       "\n",
       "    if(typeof define === \"function\" && define.amd) {\n",
       "      requirejs.config({paths});\n",
       "      require([\"vega-embed\"], displayChart, err => showError(`Error loading script: ${err.message}`));\n",
       "    } else {\n",
       "      maybeLoadScript(\"vega\", \"5\")\n",
       "        .then(() => maybeLoadScript(\"vega-lite\", \"4.17.0\"))\n",
       "        .then(() => maybeLoadScript(\"vega-embed\", \"6\"))\n",
       "        .catch(showError)\n",
       "        .then(() => displayChart(vegaEmbed));\n",
       "    }\n",
       "  })({\"config\": {\"view\": {\"continuousWidth\": 400, \"continuousHeight\": 300}}, \"layer\": [{\"data\": {\"name\": \"data-cd294e0506c33503936450137b2c2ec7\"}, \"mark\": {\"type\": \"geoshape\", \"filled\": false}, \"encoding\": {\"color\": {\"field\": \"line\", \"type\": \"nominal\"}, \"size\": {\"field\": \"weight\", \"type\": \"quantitative\"}}}, {\"data\": {\"name\": \"data-4b7eac4fedadb9b915545ef898a15ccc\"}, \"mark\": {\"type\": \"geoshape\", \"filled\": false, \"strokeWidth\": 10}}], \"$schema\": \"https://vega.github.io/schema/vega-lite/v4.17.0.json\", \"datasets\": {\"data-cd294e0506c33503936450137b2c2ec7\": [{\"weight\": 0.3, \"line\": 1, \"type\": \"Feature\", \"geometry\": {\"type\": \"LineString\", \"coordinates\": [[0.0, 0.0], [2.0, 0.0]]}}, {\"weight\": 0.3, \"line\": 1, \"type\": \"Feature\", \"geometry\": {\"type\": \"LineString\", \"coordinates\": [[2.0, 0.0], [4.0, 0.0]]}}, {\"weight\": 0.2, \"line\": 3, \"type\": \"Feature\", \"geometry\": {\"type\": \"LineString\", \"coordinates\": [[2.0, 0.0], [2.0, 2.0]]}}, {\"weight\": 0.3, \"line\": 1, \"type\": \"Feature\", \"geometry\": {\"type\": \"LineString\", \"coordinates\": [[4.0, 0.0], [6.0, 0.0]]}}, {\"weight\": 0.3, \"line\": 1, \"type\": \"Feature\", \"geometry\": {\"type\": \"LineString\", \"coordinates\": [[6.0, 0.0], [8.0, 1.0]]}}, {\"weight\": 0.3, \"line\": 1, \"type\": \"Feature\", \"geometry\": {\"type\": \"LineString\", \"coordinates\": [[8.0, 1.0], [9.0, 3.0]]}}, {\"weight\": 0.3, \"line\": 1, \"type\": \"Feature\", \"geometry\": {\"type\": \"LineString\", \"coordinates\": [[9.0, 3.0], [9.0, 4.0]]}}, {\"weight\": 0.3, \"line\": 1, \"type\": \"Feature\", \"geometry\": {\"type\": \"LineString\", \"coordinates\": [[9.0, 4.0], [9.0, 5.0]]}}, {\"weight\": 0.3, \"line\": 2, \"type\": \"Feature\", \"geometry\": {\"type\": \"LineString\", \"coordinates\": [[0.0, 2.0], [2.0, 2.0]]}}, {\"weight\": 0.3, \"line\": 2, \"type\": \"Feature\", \"geometry\": {\"type\": \"LineString\", \"coordinates\": [[2.0, 2.0], [4.0, 2.0]]}}, {\"weight\": 0.2, \"line\": 3, \"type\": \"Feature\", \"geometry\": {\"type\": \"LineString\", \"coordinates\": [[2.0, 2.0], [2.0, 4.0]]}}], \"data-4b7eac4fedadb9b915545ef898a15ccc\": [{\"station\": 0, \"side\": 0, \"line\": 0, \"contraction\": {\"8\": {\"station\": 0, \"side\": 1, \"line\": 1}, \"9\": {\"station\": 0, \"side\": -1, \"line\": 1}}, \"nodeID\": 0, \"type\": \"Feature\", \"geometry\": {\"type\": \"Point\", \"coordinates\": [0.0, 0.0]}}, {\"station\": 2, \"side\": 0, \"line\": 0, \"contraction\": {\"10\": {\"station\": 2, \"side\": 1, \"line\": 1}, \"11\": {\"station\": 2, \"side\": -1, \"line\": 1}, \"38\": {\"station\": 2, \"side\": 1, \"line\": 3}, \"39\": {\"station\": 2, \"side\": -1, \"line\": 3}}, \"nodeID\": 1, \"type\": \"Feature\", \"geometry\": {\"type\": \"Point\", \"coordinates\": [2.0, 0.0]}}, {\"station\": 4, \"side\": 0, \"line\": 0, \"contraction\": {\"12\": {\"station\": 4, \"side\": 1, \"line\": 1}, \"13\": {\"station\": 4, \"side\": -1, \"line\": 1}}, \"nodeID\": 2, \"type\": \"Feature\", \"geometry\": {\"type\": \"Point\", \"coordinates\": [4.0, 0.0]}}, {\"station\": 6, \"side\": 0, \"line\": 0, \"contraction\": {\"14\": {\"station\": 6, \"side\": 1, \"line\": 1}, \"15\": {\"station\": 6, \"side\": -1, \"line\": 1}}, \"nodeID\": 3, \"type\": \"Feature\", \"geometry\": {\"type\": \"Point\", \"coordinates\": [6.0, 0.0]}}, {\"station\": 18, \"side\": 0, \"line\": 0, \"contraction\": {\"16\": {\"station\": 18, \"side\": 1, \"line\": 1}, \"17\": {\"station\": 18, \"side\": -1, \"line\": 1}}, \"nodeID\": 4, \"type\": \"Feature\", \"geometry\": {\"type\": \"Point\", \"coordinates\": [8.0, 1.0]}}, {\"station\": 39, \"side\": 0, \"line\": 0, \"contraction\": {\"18\": {\"station\": 39, \"side\": 1, \"line\": 1}, \"19\": {\"station\": 39, \"side\": -1, \"line\": 1}}, \"nodeID\": 5, \"type\": \"Feature\", \"geometry\": {\"type\": \"Point\", \"coordinates\": [9.0, 3.0]}}, {\"station\": 49, \"side\": 0, \"line\": 0, \"contraction\": {\"20\": {\"station\": 49, \"side\": 1, \"line\": 1}, \"21\": {\"station\": 49, \"side\": -1, \"line\": 1}}, \"nodeID\": 6, \"type\": \"Feature\", \"geometry\": {\"type\": \"Point\", \"coordinates\": [9.0, 4.0]}}, {\"station\": 59, \"side\": 0, \"line\": 0, \"contraction\": {\"22\": {\"station\": 59, \"side\": 1, \"line\": 1}, \"23\": {\"station\": 59, \"side\": -1, \"line\": 1}}, \"nodeID\": 7, \"type\": \"Feature\", \"geometry\": {\"type\": \"Point\", \"coordinates\": [9.0, 5.0]}}, {\"station\": 20, \"side\": 0, \"line\": 0, \"contraction\": {\"27\": {\"station\": 20, \"side\": 1, \"line\": 2}, \"28\": {\"station\": 20, \"side\": -1, \"line\": 2}}, \"nodeID\": 8, \"type\": \"Feature\", \"geometry\": {\"type\": \"Point\", \"coordinates\": [0.0, 2.0]}}, {\"station\": 22, \"side\": 0, \"line\": 0, \"contraction\": {\"29\": {\"station\": 22, \"side\": 1, \"line\": 2}, \"30\": {\"station\": 22, \"side\": -1, \"line\": 2}, \"36\": {\"station\": 22, \"side\": 1, \"line\": 3}, \"37\": {\"station\": 22, \"side\": -1, \"line\": 3}}, \"nodeID\": 9, \"type\": \"Feature\", \"geometry\": {\"type\": \"Point\", \"coordinates\": [2.0, 2.0]}}, {\"station\": 24, \"side\": 0, \"line\": 0, \"contraction\": {\"31\": {\"station\": 24, \"side\": 1, \"line\": 2}, \"32\": {\"station\": 24, \"side\": -1, \"line\": 2}}, \"nodeID\": 10, \"type\": \"Feature\", \"geometry\": {\"type\": \"Point\", \"coordinates\": [4.0, 2.0]}}, {\"station\": 42, \"side\": 0, \"line\": 0, \"contraction\": {\"34\": {\"station\": 42, \"side\": 1, \"line\": 3}, \"35\": {\"station\": 42, \"side\": -1, \"line\": 3}}, \"nodeID\": 11, \"type\": \"Feature\", \"geometry\": {\"type\": \"Point\", \"coordinates\": [2.0, 4.0]}}]}}, {\"mode\": \"vega-lite\"});\n",
       "</script>"
      ],
      "text/plain": [
       "alt.LayerChart(...)"
      ]
     },
     "execution_count": 4,
     "metadata": {},
     "output_type": "execute_result"
    }
   ],
   "source": [
    "dataset = MetroDataset(CONFIG.lines, init_nb=20)\n",
    "num_nodes = dataset.cg.num_nodes()\n",
    "dataset.cg.altair_graph(dataset.cg.graph, 10)"
   ]
  },
  {
   "attachments": {},
   "cell_type": "markdown",
   "metadata": {},
   "source": [
    "# Model"
   ]
  },
  {
   "cell_type": "code",
   "execution_count": 5,
   "metadata": {},
   "outputs": [],
   "source": [
    "A_init = torch.tensor(dataset.cg.adjacency_matrix(), requires_grad=True).float()"
   ]
  },
  {
   "cell_type": "code",
   "execution_count": 6,
   "metadata": {},
   "outputs": [],
   "source": [
    "model = MetroModel(embedding_size=8, num_nodes=num_nodes, neighbor_nb=2, input_size=1, gsl_mode=\"embedding\", lr=1e-3) # , "
   ]
  },
  {
   "attachments": {},
   "cell_type": "markdown",
   "metadata": {},
   "source": [
    "# Training"
   ]
  },
  {
   "cell_type": "code",
   "execution_count": 12,
   "metadata": {},
   "outputs": [
    {
     "name": "stderr",
     "output_type": "stream",
     "text": [
      "GPU available: True (cuda), used: False\n",
      "TPU available: False, using: 0 TPU cores\n",
      "IPU available: False, using: 0 IPUs\n",
      "HPU available: False, using: 0 HPUs\n",
      "\n",
      "  | Name                   | Type      | Params\n",
      "-----------------------------------------------------\n",
      "0 | node_embeddings_start  | Embedding | 320   \n",
      "1 | node_embeddings_target | Embedding | 320   \n",
      "2 | _linear1               | Linear    | 72    \n",
      "3 | _linear2               | Linear    | 72    \n",
      "4 | graph_layer            | GraphConv | 3     \n",
      "5 | linear                 | Linear    | 1.6 K \n",
      "6 | softmax                | Softmax   | 0     \n",
      "-----------------------------------------------------\n",
      "4.0 K     Trainable params\n",
      "0         Non-trainable params\n",
      "4.0 K     Total params\n",
      "0.016     Total estimated model params size (MB)\n"
     ]
    },
    {
     "name": "stdout",
     "output_type": "stream",
     "text": [
      "Epoch 99: 100%|██████████| 248/248 [00:01<00:00, 148.55it/s, loss=0.00711, v_num=51]"
     ]
    },
    {
     "name": "stderr",
     "output_type": "stream",
     "text": [
      "`Trainer.fit` stopped: `max_epochs=100` reached.\n"
     ]
    },
    {
     "name": "stdout",
     "output_type": "stream",
     "text": [
      "Epoch 99: 100%|██████████| 248/248 [00:01<00:00, 147.84it/s, loss=0.00711, v_num=51]\n"
     ]
    }
   ],
   "source": [
    "train_loader = torch.utils.data.DataLoader(dataset, batch_size=8)\n",
    "trainer = Trainer(max_epochs=100)\n",
    "trainer.fit(model, train_loader)"
   ]
  },
  {
   "attachments": {},
   "cell_type": "markdown",
   "metadata": {},
   "source": [
    "# Evaluation"
   ]
  },
  {
   "cell_type": "code",
   "execution_count": 18,
   "metadata": {},
   "outputs": [],
   "source": [
    "A = model.graph_learning()\n",
    "\n",
    "dim=1\n",
    "values, indices = A.topk(k=2, dim=dim)\n",
    "mask = torch.zeros_like(A)\n",
    "mask.scatter_(dim, indices, values.fill_(1))\n",
    "A = A*mask\n",
    "\n",
    "A = A.detach().numpy()\n",
    "A = np.array(A)"
   ]
  },
  {
   "cell_type": "code",
   "execution_count": 20,
   "metadata": {},
   "outputs": [],
   "source": [
    "B = A * (A > 0.1)"
   ]
  },
  {
   "cell_type": "code",
   "execution_count": 21,
   "metadata": {},
   "outputs": [
    {
     "data": {
      "text/html": [
       "\n",
       "<div id=\"altair-viz-b217450707994a41951f9d4c8b24810a\"></div>\n",
       "<script type=\"text/javascript\">\n",
       "  var VEGA_DEBUG = (typeof VEGA_DEBUG == \"undefined\") ? {} : VEGA_DEBUG;\n",
       "  (function(spec, embedOpt){\n",
       "    let outputDiv = document.currentScript.previousElementSibling;\n",
       "    if (outputDiv.id !== \"altair-viz-b217450707994a41951f9d4c8b24810a\") {\n",
       "      outputDiv = document.getElementById(\"altair-viz-b217450707994a41951f9d4c8b24810a\");\n",
       "    }\n",
       "    const paths = {\n",
       "      \"vega\": \"https://cdn.jsdelivr.net/npm//vega@5?noext\",\n",
       "      \"vega-lib\": \"https://cdn.jsdelivr.net/npm//vega-lib?noext\",\n",
       "      \"vega-lite\": \"https://cdn.jsdelivr.net/npm//vega-lite@4.17.0?noext\",\n",
       "      \"vega-embed\": \"https://cdn.jsdelivr.net/npm//vega-embed@6?noext\",\n",
       "    };\n",
       "\n",
       "    function maybeLoadScript(lib, version) {\n",
       "      var key = `${lib.replace(\"-\", \"\")}_version`;\n",
       "      return (VEGA_DEBUG[key] == version) ?\n",
       "        Promise.resolve(paths[lib]) :\n",
       "        new Promise(function(resolve, reject) {\n",
       "          var s = document.createElement('script');\n",
       "          document.getElementsByTagName(\"head\")[0].appendChild(s);\n",
       "          s.async = true;\n",
       "          s.onload = () => {\n",
       "            VEGA_DEBUG[key] = version;\n",
       "            return resolve(paths[lib]);\n",
       "          };\n",
       "          s.onerror = () => reject(`Error loading script: ${paths[lib]}`);\n",
       "          s.src = paths[lib];\n",
       "        });\n",
       "    }\n",
       "\n",
       "    function showError(err) {\n",
       "      outputDiv.innerHTML = `<div class=\"error\" style=\"color:red;\">${err}</div>`;\n",
       "      throw err;\n",
       "    }\n",
       "\n",
       "    function displayChart(vegaEmbed) {\n",
       "      vegaEmbed(outputDiv, spec, embedOpt)\n",
       "        .catch(err => showError(`Javascript Error: ${err.message}<br>This usually means there's a typo in your chart specification. See the javascript console for the full traceback.`));\n",
       "    }\n",
       "\n",
       "    if(typeof define === \"function\" && define.amd) {\n",
       "      requirejs.config({paths});\n",
       "      require([\"vega-embed\"], displayChart, err => showError(`Error loading script: ${err.message}`));\n",
       "    } else {\n",
       "      maybeLoadScript(\"vega\", \"5\")\n",
       "        .then(() => maybeLoadScript(\"vega-lite\", \"4.17.0\"))\n",
       "        .then(() => maybeLoadScript(\"vega-embed\", \"6\"))\n",
       "        .catch(showError)\n",
       "        .then(() => displayChart(vegaEmbed));\n",
       "    }\n",
       "  })({\"config\": {\"view\": {\"continuousWidth\": 400, \"continuousHeight\": 300}}, \"layer\": [{\"data\": {\"name\": \"data-57c1ad1e1a3a3ffd4a54c3454962ff04\"}, \"mark\": {\"type\": \"geoshape\", \"filled\": false}, \"encoding\": {\"color\": {\"field\": \"line\", \"type\": \"nominal\"}, \"size\": {\"field\": \"weight\", \"type\": \"quantitative\"}}}, {\"data\": {\"name\": \"data-53922df0a2fa5792bef407d0d0561e84\"}, \"mark\": {\"type\": \"geoshape\", \"filled\": false, \"strokeWidth\": 10}}], \"$schema\": \"https://vega.github.io/schema/vega-lite/v4.17.0.json\", \"datasets\": {\"data-57c1ad1e1a3a3ffd4a54c3454962ff04\": [{\"weight\": 0.14277641475200653, \"line\": 1, \"type\": \"Feature\", \"geometry\": {\"type\": \"LineString\", \"coordinates\": [[0.0, 0.0], [2.0, 0.0]]}}, {\"weight\": 0.13284316658973694, \"line\": 0, \"type\": \"Feature\", \"geometry\": {\"type\": \"LineString\", \"coordinates\": [[0.0, 0.0], [4.0, 0.0]]}}, {\"weight\": 0.0435757040977478, \"line\": 1, \"type\": \"Feature\", \"geometry\": {\"type\": \"LineString\", \"coordinates\": [[2.0, 0.0], [4.0, 0.0]]}}, {\"weight\": 0.15072771906852722, \"line\": 0, \"type\": \"Feature\", \"geometry\": {\"type\": \"LineString\", \"coordinates\": [[2.0, 0.0], [6.0, 0.0]]}}, {\"weight\": 0.19808609783649445, \"line\": 3, \"type\": \"Feature\", \"geometry\": {\"type\": \"LineString\", \"coordinates\": [[2.0, 0.0], [2.0, 2.0]]}}, {\"weight\": 0.1526978462934494, \"line\": 0, \"type\": \"Feature\", \"geometry\": {\"type\": \"LineString\", \"coordinates\": [[4.0, 0.0], [9.0, 4.0]]}}, {\"weight\": 0.1707545518875122, \"line\": 0, \"type\": \"Feature\", \"geometry\": {\"type\": \"LineString\", \"coordinates\": [[4.0, 0.0], [9.0, 3.0]]}}, {\"weight\": 0.07277577370405197, \"line\": 0, \"type\": \"Feature\", \"geometry\": {\"type\": \"LineString\", \"coordinates\": [[6.0, 0.0], [4.0, 2.0]]}}, {\"weight\": 0.2190837562084198, \"line\": 1, \"type\": \"Feature\", \"geometry\": {\"type\": \"LineString\", \"coordinates\": [[6.0, 0.0], [8.0, 1.0]]}}, {\"weight\": 0.04700793698430061, \"line\": 1, \"type\": \"Feature\", \"geometry\": {\"type\": \"LineString\", \"coordinates\": [[8.0, 1.0], [9.0, 3.0]]}}, {\"weight\": 0.1567271500825882, \"line\": 0, \"type\": \"Feature\", \"geometry\": {\"type\": \"LineString\", \"coordinates\": [[8.0, 1.0], [9.0, 4.0]]}}, {\"weight\": 0.17929445207118988, \"line\": 1, \"type\": \"Feature\", \"geometry\": {\"type\": \"LineString\", \"coordinates\": [[9.0, 3.0], [9.0, 4.0]]}}, {\"weight\": 0.09214847534894943, \"line\": 0, \"type\": \"Feature\", \"geometry\": {\"type\": \"LineString\", \"coordinates\": [[9.0, 3.0], [9.0, 5.0]]}}, {\"weight\": 0.2223750203847885, \"line\": 1, \"type\": \"Feature\", \"geometry\": {\"type\": \"LineString\", \"coordinates\": [[9.0, 4.0], [9.0, 5.0]]}}, {\"weight\": 0.20205312967300415, \"line\": 0, \"type\": \"Feature\", \"geometry\": {\"type\": \"LineString\", \"coordinates\": [[9.0, 5.0], [4.0, 2.0]]}}, {\"weight\": 0.04987160861492157, \"line\": 0, \"type\": \"Feature\", \"geometry\": {\"type\": \"LineString\", \"coordinates\": [[9.0, 5.0], [2.0, 4.0]]}}, {\"weight\": 0.09025154262781143, \"line\": 0, \"type\": \"Feature\", \"geometry\": {\"type\": \"LineString\", \"coordinates\": [[0.0, 2.0], [4.0, 2.0]]}}, {\"weight\": 0.16408805549144745, \"line\": 2, \"type\": \"Feature\", \"geometry\": {\"type\": \"LineString\", \"coordinates\": [[0.0, 2.0], [2.0, 2.0]]}}, {\"weight\": 0.05493859574198723, \"line\": 2, \"type\": \"Feature\", \"geometry\": {\"type\": \"LineString\", \"coordinates\": [[2.0, 2.0], [4.0, 2.0]]}}, {\"weight\": 0.24024194478988647, \"line\": 3, \"type\": \"Feature\", \"geometry\": {\"type\": \"LineString\", \"coordinates\": [[2.0, 2.0], [2.0, 4.0]]}}], \"data-53922df0a2fa5792bef407d0d0561e84\": [{\"contraction\": {\"8\": {}, \"9\": {}}, \"nodeID\": 0, \"type\": \"Feature\", \"geometry\": {\"type\": \"Point\", \"coordinates\": [0.0, 0.0]}}, {\"contraction\": {\"10\": {}, \"11\": {}, \"38\": {}, \"39\": {}}, \"nodeID\": 1, \"type\": \"Feature\", \"geometry\": {\"type\": \"Point\", \"coordinates\": [2.0, 0.0]}}, {\"contraction\": {\"12\": {}, \"13\": {}}, \"nodeID\": 2, \"type\": \"Feature\", \"geometry\": {\"type\": \"Point\", \"coordinates\": [4.0, 0.0]}}, {\"contraction\": {\"14\": {}, \"15\": {}}, \"nodeID\": 3, \"type\": \"Feature\", \"geometry\": {\"type\": \"Point\", \"coordinates\": [6.0, 0.0]}}, {\"contraction\": {\"16\": {}, \"17\": {}}, \"nodeID\": 4, \"type\": \"Feature\", \"geometry\": {\"type\": \"Point\", \"coordinates\": [8.0, 1.0]}}, {\"contraction\": {\"18\": {}, \"19\": {}}, \"nodeID\": 5, \"type\": \"Feature\", \"geometry\": {\"type\": \"Point\", \"coordinates\": [9.0, 3.0]}}, {\"contraction\": {\"20\": {}, \"21\": {}}, \"nodeID\": 6, \"type\": \"Feature\", \"geometry\": {\"type\": \"Point\", \"coordinates\": [9.0, 4.0]}}, {\"contraction\": {\"22\": {}, \"23\": {}}, \"nodeID\": 7, \"type\": \"Feature\", \"geometry\": {\"type\": \"Point\", \"coordinates\": [9.0, 5.0]}}, {\"contraction\": {\"27\": {}, \"28\": {}}, \"nodeID\": 8, \"type\": \"Feature\", \"geometry\": {\"type\": \"Point\", \"coordinates\": [0.0, 2.0]}}, {\"contraction\": {\"29\": {}, \"30\": {}, \"36\": {}, \"37\": {}}, \"nodeID\": 9, \"type\": \"Feature\", \"geometry\": {\"type\": \"Point\", \"coordinates\": [2.0, 2.0]}}, {\"contraction\": {\"31\": {}, \"32\": {}}, \"nodeID\": 10, \"type\": \"Feature\", \"geometry\": {\"type\": \"Point\", \"coordinates\": [4.0, 2.0]}}, {\"contraction\": {\"34\": {}, \"35\": {}}, \"nodeID\": 11, \"type\": \"Feature\", \"geometry\": {\"type\": \"Point\", \"coordinates\": [2.0, 4.0]}}]}}, {\"mode\": \"vega-lite\"});\n",
       "</script>"
      ],
      "text/plain": [
       "alt.LayerChart(...)"
      ]
     },
     "execution_count": 21,
     "metadata": {},
     "output_type": "execute_result"
    }
   ],
   "source": [
    "learned_graph = nx.from_numpy_array(A, nx.DiGraph)\n",
    "dataset.cg.altair_graph(learned_graph, 10)"
   ]
  },
  {
   "cell_type": "code",
   "execution_count": 11,
   "metadata": {},
   "outputs": [],
   "source": [
    "# TODO: Essayer avec les embeddings\n",
    "# TODO: Essayer avec un graph bruité en entrée\n",
    "# TODO: Essayer avec des data bruitées\n",
    "# TODO: Essayer avec différents réseaux (de métro)\n",
    "# TODO: Essayer avec le graphe contracté "
   ]
  }
 ],
 "metadata": {
  "kernelspec": {
   "display_name": "Python 3",
   "language": "python",
   "name": "python3"
  },
  "language_info": {
   "codemirror_mode": {
    "name": "ipython",
    "version": 3
   },
   "file_extension": ".py",
   "mimetype": "text/x-python",
   "name": "python",
   "nbconvert_exporter": "python",
   "pygments_lexer": "ipython3",
   "version": "3.10.9"
  },
  "orig_nbformat": 4
 },
 "nbformat": 4,
 "nbformat_minor": 2
}
