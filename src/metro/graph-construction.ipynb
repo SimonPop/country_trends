{
 "cells": [
  {
   "attachments": {},
   "cell_type": "markdown",
   "metadata": {},
   "source": [
    "# Graph Construction\n",
    "\n",
    "In this notebook, we are exploring the standard construction of the Graph using a GNN + GSL model."
   ]
  },
  {
   "cell_type": "code",
   "execution_count": 1,
   "metadata": {},
   "outputs": [
    {
     "name": "stderr",
     "output_type": "stream",
     "text": [
      "c:\\Users\\simon\\Projets\\CountryTrends\\.conda\\lib\\site-packages\\tqdm\\auto.py:21: TqdmWarning: IProgress not found. Please update jupyter and ipywidgets. See https://ipywidgets.readthedocs.io/en/stable/user_install.html\n",
      "  from .autonotebook import tqdm as notebook_tqdm\n",
      "c:\\Users\\simon\\Projets\\CountryTrends\\.conda\\lib\\site-packages\\geopandas\\_compat.py:123: UserWarning: The Shapely GEOS version (3.11.1-CAPI-1.17.1) is incompatible with the GEOS version PyGEOS was compiled with (3.10.4-CAPI-1.16.2). Conversions between both will be slow.\n",
      "  warnings.warn(\n",
      "c:\\Users\\simon\\Projets\\CountryTrends\\.conda\\lib\\site-packages\\momepy\\coins.py:15: UserWarning: Shapely 2.0 is installed, but because PyGEOS is also installed, GeoPandas will still use PyGEOS by default for now. To force to use and test Shapely 2.0, you have to set the environment variable USE_PYGEOS=0. You can do this before starting the Python process, or in your code before importing geopandas:\n",
      "\n",
      "import os\n",
      "os.environ['USE_PYGEOS'] = '0'\n",
      "import geopandas\n",
      "\n",
      "In a future release, GeoPandas will switch to using Shapely by default. If you are using PyGEOS directly (calling PyGEOS functions on geometries from GeoPandas), this will then stop working and you are encouraged to migrate from PyGEOS to Shapely 2.0 (https://shapely.readthedocs.io/en/latest/migration_pygeos.html).\n",
      "  import geopandas as gpd\n"
     ]
    },
    {
     "data": {
      "text/plain": [
       "<torch._C.Generator at 0x155d1c9bbb0>"
      ]
     },
     "execution_count": 1,
     "metadata": {},
     "output_type": "execute_result"
    }
   ],
   "source": [
    "from config import CONFIG\n",
    "from model.metro_model import MetroModel\n",
    "from data.metro_dataset import MetroDataset\n",
    "\n",
    "import torch\n",
    "from pytorch_lightning import Trainer\n",
    "from pytorch_lightning.callbacks import ModelCheckpoint\n",
    "import os\n",
    "from pathlib import Path\n",
    "import networkx as nx\n",
    "import numpy as np\n",
    "from sklearn.metrics import precision_score, recall_score\n",
    "import matplotlib.pyplot as plt\n",
    "\n",
    "torch.manual_seed(0)"
   ]
  },
  {
   "cell_type": "code",
   "execution_count": 2,
   "metadata": {},
   "outputs": [
    {
     "name": "stderr",
     "output_type": "stream",
     "text": [
      "c:\\Users\\simon\\Projets\\CountryTrends\\.conda\\lib\\site-packages\\momepy\\utils.py:430: UserWarning: Approach is not set. Defaulting to 'primal'.\n",
      "  warnings.warn(\"Approach is not set. Defaulting to 'primal'.\")\n"
     ]
    },
    {
     "data": {
      "text/html": [
       "\n",
       "<div id=\"altair-viz-3f468277e04a4133a92676756f1f4776\"></div>\n",
       "<script type=\"text/javascript\">\n",
       "  var VEGA_DEBUG = (typeof VEGA_DEBUG == \"undefined\") ? {} : VEGA_DEBUG;\n",
       "  (function(spec, embedOpt){\n",
       "    let outputDiv = document.currentScript.previousElementSibling;\n",
       "    if (outputDiv.id !== \"altair-viz-3f468277e04a4133a92676756f1f4776\") {\n",
       "      outputDiv = document.getElementById(\"altair-viz-3f468277e04a4133a92676756f1f4776\");\n",
       "    }\n",
       "    const paths = {\n",
       "      \"vega\": \"https://cdn.jsdelivr.net/npm//vega@5?noext\",\n",
       "      \"vega-lib\": \"https://cdn.jsdelivr.net/npm//vega-lib?noext\",\n",
       "      \"vega-lite\": \"https://cdn.jsdelivr.net/npm//vega-lite@4.17.0?noext\",\n",
       "      \"vega-embed\": \"https://cdn.jsdelivr.net/npm//vega-embed@6?noext\",\n",
       "    };\n",
       "\n",
       "    function maybeLoadScript(lib, version) {\n",
       "      var key = `${lib.replace(\"-\", \"\")}_version`;\n",
       "      return (VEGA_DEBUG[key] == version) ?\n",
       "        Promise.resolve(paths[lib]) :\n",
       "        new Promise(function(resolve, reject) {\n",
       "          var s = document.createElement('script');\n",
       "          document.getElementsByTagName(\"head\")[0].appendChild(s);\n",
       "          s.async = true;\n",
       "          s.onload = () => {\n",
       "            VEGA_DEBUG[key] = version;\n",
       "            return resolve(paths[lib]);\n",
       "          };\n",
       "          s.onerror = () => reject(`Error loading script: ${paths[lib]}`);\n",
       "          s.src = paths[lib];\n",
       "        });\n",
       "    }\n",
       "\n",
       "    function showError(err) {\n",
       "      outputDiv.innerHTML = `<div class=\"error\" style=\"color:red;\">${err}</div>`;\n",
       "      throw err;\n",
       "    }\n",
       "\n",
       "    function displayChart(vegaEmbed) {\n",
       "      vegaEmbed(outputDiv, spec, embedOpt)\n",
       "        .catch(err => showError(`Javascript Error: ${err.message}<br>This usually means there's a typo in your chart specification. See the javascript console for the full traceback.`));\n",
       "    }\n",
       "\n",
       "    if(typeof define === \"function\" && define.amd) {\n",
       "      requirejs.config({paths});\n",
       "      require([\"vega-embed\"], displayChart, err => showError(`Error loading script: ${err.message}`));\n",
       "    } else {\n",
       "      maybeLoadScript(\"vega\", \"5\")\n",
       "        .then(() => maybeLoadScript(\"vega-lite\", \"4.17.0\"))\n",
       "        .then(() => maybeLoadScript(\"vega-embed\", \"6\"))\n",
       "        .catch(showError)\n",
       "        .then(() => displayChart(vegaEmbed));\n",
       "    }\n",
       "  })({\"config\": {\"view\": {\"continuousWidth\": 400, \"continuousHeight\": 300}}, \"layer\": [{\"data\": {\"name\": \"data-b11d9738cd9d38cf607b5117656f3004\"}, \"mark\": {\"type\": \"geoshape\", \"filled\": false}, \"encoding\": {\"color\": {\"field\": \"line\", \"type\": \"nominal\"}, \"size\": {\"field\": \"weight\", \"type\": \"quantitative\"}}}, {\"data\": {\"name\": \"data-bbd0c593ad1b441fce4aa0c07f409180\"}, \"mark\": {\"type\": \"geoshape\", \"filled\": false, \"strokeWidth\": 10}}], \"$schema\": \"https://vega.github.io/schema/vega-lite/v4.17.0.json\", \"datasets\": {\"data-b11d9738cd9d38cf607b5117656f3004\": [{\"weight\": 0.3, \"line\": 1, \"type\": \"Feature\", \"geometry\": {\"type\": \"LineString\", \"coordinates\": [[0.0, 0.0], [2.0, 0.0]]}}, {\"weight\": 0.3, \"line\": 1, \"type\": \"Feature\", \"geometry\": {\"type\": \"LineString\", \"coordinates\": [[2.0, 0.0], [4.0, 0.0]]}}, {\"weight\": 0.2, \"line\": 3, \"type\": \"Feature\", \"geometry\": {\"type\": \"LineString\", \"coordinates\": [[2.0, 0.0], [2.0, 2.0]]}}, {\"weight\": 0.3, \"line\": 1, \"type\": \"Feature\", \"geometry\": {\"type\": \"LineString\", \"coordinates\": [[4.0, 0.0], [6.0, 0.0]]}}, {\"weight\": 0.3, \"line\": 1, \"type\": \"Feature\", \"geometry\": {\"type\": \"LineString\", \"coordinates\": [[6.0, 0.0], [8.0, 1.0]]}}, {\"weight\": 0.3, \"line\": 1, \"type\": \"Feature\", \"geometry\": {\"type\": \"LineString\", \"coordinates\": [[8.0, 1.0], [9.0, 3.0]]}}, {\"weight\": 0.3, \"line\": 1, \"type\": \"Feature\", \"geometry\": {\"type\": \"LineString\", \"coordinates\": [[9.0, 3.0], [9.0, 5.0]]}}, {\"weight\": 0.3, \"line\": 2, \"type\": \"Feature\", \"geometry\": {\"type\": \"LineString\", \"coordinates\": [[0.0, 2.0], [2.0, 2.0]]}}, {\"weight\": 0.3, \"line\": 2, \"type\": \"Feature\", \"geometry\": {\"type\": \"LineString\", \"coordinates\": [[2.0, 2.0], [4.0, 2.0]]}}, {\"weight\": 0.2, \"line\": 3, \"type\": \"Feature\", \"geometry\": {\"type\": \"LineString\", \"coordinates\": [[2.0, 2.0], [2.0, 4.0]]}}], \"data-bbd0c593ad1b441fce4aa0c07f409180\": [{\"station\": 0, \"side\": 0, \"line\": 0, \"contraction\": {\"7\": {\"station\": 0, \"side\": 1, \"line\": 1}, \"8\": {\"station\": 0, \"side\": -1, \"line\": 1}}, \"nodeID\": 0, \"type\": \"Feature\", \"geometry\": {\"type\": \"Point\", \"coordinates\": [0.0, 0.0]}}, {\"station\": 2, \"side\": 0, \"line\": 0, \"contraction\": {\"9\": {\"station\": 2, \"side\": 1, \"line\": 1}, \"10\": {\"station\": 2, \"side\": -1, \"line\": 1}, \"35\": {\"station\": 2, \"side\": 1, \"line\": 3}, \"36\": {\"station\": 2, \"side\": -1, \"line\": 3}}, \"nodeID\": 1, \"type\": \"Feature\", \"geometry\": {\"type\": \"Point\", \"coordinates\": [2.0, 0.0]}}, {\"station\": 4, \"side\": 0, \"line\": 0, \"contraction\": {\"11\": {\"station\": 4, \"side\": 1, \"line\": 1}, \"12\": {\"station\": 4, \"side\": -1, \"line\": 1}}, \"nodeID\": 2, \"type\": \"Feature\", \"geometry\": {\"type\": \"Point\", \"coordinates\": [4.0, 0.0]}}, {\"station\": 6, \"side\": 0, \"line\": 0, \"contraction\": {\"13\": {\"station\": 6, \"side\": 1, \"line\": 1}, \"14\": {\"station\": 6, \"side\": -1, \"line\": 1}}, \"nodeID\": 3, \"type\": \"Feature\", \"geometry\": {\"type\": \"Point\", \"coordinates\": [6.0, 0.0]}}, {\"station\": 18, \"side\": 0, \"line\": 0, \"contraction\": {\"15\": {\"station\": 18, \"side\": 1, \"line\": 1}, \"16\": {\"station\": 18, \"side\": -1, \"line\": 1}}, \"nodeID\": 4, \"type\": \"Feature\", \"geometry\": {\"type\": \"Point\", \"coordinates\": [8.0, 1.0]}}, {\"station\": 39, \"side\": 0, \"line\": 0, \"contraction\": {\"17\": {\"station\": 39, \"side\": 1, \"line\": 1}, \"18\": {\"station\": 39, \"side\": -1, \"line\": 1}}, \"nodeID\": 5, \"type\": \"Feature\", \"geometry\": {\"type\": \"Point\", \"coordinates\": [9.0, 3.0]}}, {\"station\": 59, \"side\": 0, \"line\": 0, \"contraction\": {\"19\": {\"station\": 59, \"side\": 1, \"line\": 1}, \"20\": {\"station\": 59, \"side\": -1, \"line\": 1}}, \"nodeID\": 6, \"type\": \"Feature\", \"geometry\": {\"type\": \"Point\", \"coordinates\": [9.0, 5.0]}}, {\"station\": 20, \"side\": 0, \"line\": 0, \"contraction\": {\"24\": {\"station\": 20, \"side\": 1, \"line\": 2}, \"25\": {\"station\": 20, \"side\": -1, \"line\": 2}}, \"nodeID\": 7, \"type\": \"Feature\", \"geometry\": {\"type\": \"Point\", \"coordinates\": [0.0, 2.0]}}, {\"station\": 22, \"side\": 0, \"line\": 0, \"contraction\": {\"26\": {\"station\": 22, \"side\": 1, \"line\": 2}, \"27\": {\"station\": 22, \"side\": -1, \"line\": 2}, \"33\": {\"station\": 22, \"side\": 1, \"line\": 3}, \"34\": {\"station\": 22, \"side\": -1, \"line\": 3}}, \"nodeID\": 8, \"type\": \"Feature\", \"geometry\": {\"type\": \"Point\", \"coordinates\": [2.0, 2.0]}}, {\"station\": 24, \"side\": 0, \"line\": 0, \"contraction\": {\"28\": {\"station\": 24, \"side\": 1, \"line\": 2}, \"29\": {\"station\": 24, \"side\": -1, \"line\": 2}}, \"nodeID\": 9, \"type\": \"Feature\", \"geometry\": {\"type\": \"Point\", \"coordinates\": [4.0, 2.0]}}, {\"station\": 42, \"side\": 0, \"line\": 0, \"contraction\": {\"31\": {\"station\": 42, \"side\": 1, \"line\": 3}, \"32\": {\"station\": 42, \"side\": -1, \"line\": 3}}, \"nodeID\": 10, \"type\": \"Feature\", \"geometry\": {\"type\": \"Point\", \"coordinates\": [2.0, 4.0]}}]}}, {\"mode\": \"vega-lite\"});\n",
       "</script>"
      ],
      "text/plain": [
       "alt.LayerChart(...)"
      ]
     },
     "execution_count": 2,
     "metadata": {},
     "output_type": "execute_result"
    }
   ],
   "source": [
    "dataset = MetroDataset(CONFIG.lines, init_nb=20)\n",
    "num_nodes = dataset.cg.num_nodes()\n",
    "dataset.cg.altair_graph(dataset.cg.graph, 10)"
   ]
  },
  {
   "attachments": {},
   "cell_type": "markdown",
   "metadata": {},
   "source": [
    "## Model"
   ]
  },
  {
   "cell_type": "code",
   "execution_count": 3,
   "metadata": {},
   "outputs": [],
   "source": [
    "model = MetroModel(embedding_size=8, num_nodes=num_nodes, neighbor_nb=1, input_size=1, gsl_mode=\"matrix\")"
   ]
  },
  {
   "attachments": {},
   "cell_type": "markdown",
   "metadata": {},
   "source": [
    "## Training"
   ]
  },
  {
   "cell_type": "code",
   "execution_count": 4,
   "metadata": {},
   "outputs": [
    {
     "name": "stderr",
     "output_type": "stream",
     "text": [
      "GPU available: True (cuda), used: False\n",
      "TPU available: False, using: 0 TPU cores\n",
      "IPU available: False, using: 0 IPUs\n",
      "HPU available: False, using: 0 HPUs\n",
      "c:\\Users\\simon\\Projets\\CountryTrends\\.conda\\lib\\site-packages\\pytorch_lightning\\trainer\\setup.py:176: PossibleUserWarning: GPU available but not used. Set `accelerator` and `devices` using `Trainer(accelerator='gpu', devices=1)`.\n",
      "  rank_zero_warn(\n",
      "c:\\Users\\simon\\Projets\\CountryTrends\\.conda\\lib\\site-packages\\pytorch_lightning\\trainer\\connectors\\logger_connector\\logger_connector.py:67: UserWarning: Starting from v1.9.0, `tensorboardX` has been removed as a dependency of the `pytorch_lightning` package, due to potential conflicts with other packages in the ML ecosystem. For this reason, `logger=True` will use `CSVLogger` as the default logger, unless the `tensorboard` or `tensorboardX` packages are found. Please `pip install lightning[extra]` or one of them to enable TensorBoard support by default\n",
      "  warning_cache.warn(\n",
      "\n",
      "  | Name                   | Type      | Params\n",
      "-----------------------------------------------------\n",
      "0 | node_embeddings_start  | Embedding | 296   \n",
      "1 | node_embeddings_target | Embedding | 296   \n",
      "2 | _linear1               | Linear    | 72    \n",
      "3 | _linear2               | Linear    | 72    \n",
      "4 | graph_layer            | GraphConv | 3     \n",
      "5 | linear                 | Linear    | 1.4 K \n",
      "6 | softmax                | Softmax   | 0     \n",
      "-----------------------------------------------------\n",
      "3.5 K     Trainable params\n",
      "0         Non-trainable params\n",
      "3.5 K     Total params\n",
      "0.014     Total estimated model params size (MB)\n",
      "c:\\Users\\simon\\Projets\\CountryTrends\\.conda\\lib\\site-packages\\pytorch_lightning\\trainer\\connectors\\data_connector.py:224: PossibleUserWarning: The dataloader, train_dataloader, does not have many workers which may be a bottleneck. Consider increasing the value of the `num_workers` argument` (try 12 which is the number of cpus on this machine) in the `DataLoader` init to improve performance.\n",
      "  rank_zero_warn(\n"
     ]
    },
    {
     "name": "stdout",
     "output_type": "stream",
     "text": [
      "Epoch 399: 100%|██████████| 248/248 [00:01<00:00, 174.28it/s, loss=1.36e-05, v_num=12]"
     ]
    },
    {
     "name": "stderr",
     "output_type": "stream",
     "text": [
      "`Trainer.fit` stopped: `max_epochs=400` reached.\n"
     ]
    },
    {
     "name": "stdout",
     "output_type": "stream",
     "text": [
      "Epoch 399: 100%|██████████| 248/248 [00:01<00:00, 170.92it/s, loss=1.36e-05, v_num=12]\n"
     ]
    }
   ],
   "source": [
    "train_loader = torch.utils.data.DataLoader(dataset, batch_size=8)\n",
    "checkpoint_callback = ModelCheckpoint(dirpath=\"checkpoints/\", save_top_k=1000 ,monitor=\"loss\") # , every_n_train_steps=100, \n",
    "trainer = Trainer(max_epochs=400, callbacks=[checkpoint_callback])\n",
    "trainer.fit(model, train_loader)"
   ]
  },
  {
   "attachments": {},
   "cell_type": "markdown",
   "metadata": {},
   "source": [
    "## Visualization of results"
   ]
  },
  {
   "cell_type": "code",
   "execution_count": 5,
   "metadata": {},
   "outputs": [],
   "source": [
    "A_reference = dataset.cg.adjacency_matrix().reshape(-1)"
   ]
  },
  {
   "cell_type": "code",
   "execution_count": 6,
   "metadata": {},
   "outputs": [
    {
     "name": "stderr",
     "output_type": "stream",
     "text": [
      "c:\\Users\\simon\\Projets\\CountryTrends\\.conda\\lib\\site-packages\\sklearn\\metrics\\_classification.py:1344: UndefinedMetricWarning: Precision is ill-defined and being set to 0.0 due to no predicted samples. Use `zero_division` parameter to control this behavior.\n",
      "  _warn_prf(average, modifier, msg_start, len(result))\n",
      "c:\\Users\\simon\\Projets\\CountryTrends\\.conda\\lib\\site-packages\\sklearn\\metrics\\_classification.py:1344: UndefinedMetricWarning: Precision is ill-defined and being set to 0.0 due to no predicted samples. Use `zero_division` parameter to control this behavior.\n",
      "  _warn_prf(average, modifier, msg_start, len(result))\n",
      "c:\\Users\\simon\\Projets\\CountryTrends\\.conda\\lib\\site-packages\\sklearn\\metrics\\_classification.py:1344: UndefinedMetricWarning: Precision is ill-defined and being set to 0.0 due to no predicted samples. Use `zero_division` parameter to control this behavior.\n",
      "  _warn_prf(average, modifier, msg_start, len(result))\n",
      "c:\\Users\\simon\\Projets\\CountryTrends\\.conda\\lib\\site-packages\\sklearn\\metrics\\_classification.py:1344: UndefinedMetricWarning: Precision is ill-defined and being set to 0.0 due to no predicted samples. Use `zero_division` parameter to control this behavior.\n",
      "  _warn_prf(average, modifier, msg_start, len(result))\n",
      "c:\\Users\\simon\\Projets\\CountryTrends\\.conda\\lib\\site-packages\\sklearn\\metrics\\_classification.py:1344: UndefinedMetricWarning: Precision is ill-defined and being set to 0.0 due to no predicted samples. Use `zero_division` parameter to control this behavior.\n",
      "  _warn_prf(average, modifier, msg_start, len(result))\n",
      "c:\\Users\\simon\\Projets\\CountryTrends\\.conda\\lib\\site-packages\\sklearn\\metrics\\_classification.py:1344: UndefinedMetricWarning: Precision is ill-defined and being set to 0.0 due to no predicted samples. Use `zero_division` parameter to control this behavior.\n",
      "  _warn_prf(average, modifier, msg_start, len(result))\n",
      "c:\\Users\\simon\\Projets\\CountryTrends\\.conda\\lib\\site-packages\\sklearn\\metrics\\_classification.py:1344: UndefinedMetricWarning: Precision is ill-defined and being set to 0.0 due to no predicted samples. Use `zero_division` parameter to control this behavior.\n",
      "  _warn_prf(average, modifier, msg_start, len(result))\n",
      "c:\\Users\\simon\\Projets\\CountryTrends\\.conda\\lib\\site-packages\\sklearn\\metrics\\_classification.py:1344: UndefinedMetricWarning: Precision is ill-defined and being set to 0.0 due to no predicted samples. Use `zero_division` parameter to control this behavior.\n",
      "  _warn_prf(average, modifier, msg_start, len(result))\n",
      "c:\\Users\\simon\\Projets\\CountryTrends\\.conda\\lib\\site-packages\\sklearn\\metrics\\_classification.py:1344: UndefinedMetricWarning: Precision is ill-defined and being set to 0.0 due to no predicted samples. Use `zero_division` parameter to control this behavior.\n",
      "  _warn_prf(average, modifier, msg_start, len(result))\n",
      "c:\\Users\\simon\\Projets\\CountryTrends\\.conda\\lib\\site-packages\\sklearn\\metrics\\_classification.py:1344: UndefinedMetricWarning: Precision is ill-defined and being set to 0.0 due to no predicted samples. Use `zero_division` parameter to control this behavior.\n",
      "  _warn_prf(average, modifier, msg_start, len(result))\n",
      "c:\\Users\\simon\\Projets\\CountryTrends\\.conda\\lib\\site-packages\\sklearn\\metrics\\_classification.py:1344: UndefinedMetricWarning: Precision is ill-defined and being set to 0.0 due to no predicted samples. Use `zero_division` parameter to control this behavior.\n",
      "  _warn_prf(average, modifier, msg_start, len(result))\n",
      "c:\\Users\\simon\\Projets\\CountryTrends\\.conda\\lib\\site-packages\\sklearn\\metrics\\_classification.py:1344: UndefinedMetricWarning: Precision is ill-defined and being set to 0.0 due to no predicted samples. Use `zero_division` parameter to control this behavior.\n",
      "  _warn_prf(average, modifier, msg_start, len(result))\n",
      "c:\\Users\\simon\\Projets\\CountryTrends\\.conda\\lib\\site-packages\\sklearn\\metrics\\_classification.py:1344: UndefinedMetricWarning: Precision is ill-defined and being set to 0.0 due to no predicted samples. Use `zero_division` parameter to control this behavior.\n",
      "  _warn_prf(average, modifier, msg_start, len(result))\n",
      "c:\\Users\\simon\\Projets\\CountryTrends\\.conda\\lib\\site-packages\\sklearn\\metrics\\_classification.py:1344: UndefinedMetricWarning: Precision is ill-defined and being set to 0.0 due to no predicted samples. Use `zero_division` parameter to control this behavior.\n",
      "  _warn_prf(average, modifier, msg_start, len(result))\n",
      "c:\\Users\\simon\\Projets\\CountryTrends\\.conda\\lib\\site-packages\\sklearn\\metrics\\_classification.py:1344: UndefinedMetricWarning: Precision is ill-defined and being set to 0.0 due to no predicted samples. Use `zero_division` parameter to control this behavior.\n",
      "  _warn_prf(average, modifier, msg_start, len(result))\n",
      "c:\\Users\\simon\\Projets\\CountryTrends\\.conda\\lib\\site-packages\\sklearn\\metrics\\_classification.py:1344: UndefinedMetricWarning: Precision is ill-defined and being set to 0.0 due to no predicted samples. Use `zero_division` parameter to control this behavior.\n",
      "  _warn_prf(average, modifier, msg_start, len(result))\n",
      "c:\\Users\\simon\\Projets\\CountryTrends\\.conda\\lib\\site-packages\\sklearn\\metrics\\_classification.py:1344: UndefinedMetricWarning: Precision is ill-defined and being set to 0.0 due to no predicted samples. Use `zero_division` parameter to control this behavior.\n",
      "  _warn_prf(average, modifier, msg_start, len(result))\n",
      "c:\\Users\\simon\\Projets\\CountryTrends\\.conda\\lib\\site-packages\\sklearn\\metrics\\_classification.py:1344: UndefinedMetricWarning: Precision is ill-defined and being set to 0.0 due to no predicted samples. Use `zero_division` parameter to control this behavior.\n",
      "  _warn_prf(average, modifier, msg_start, len(result))\n",
      "c:\\Users\\simon\\Projets\\CountryTrends\\.conda\\lib\\site-packages\\sklearn\\metrics\\_classification.py:1344: UndefinedMetricWarning: Precision is ill-defined and being set to 0.0 due to no predicted samples. Use `zero_division` parameter to control this behavior.\n",
      "  _warn_prf(average, modifier, msg_start, len(result))\n",
      "c:\\Users\\simon\\Projets\\CountryTrends\\.conda\\lib\\site-packages\\sklearn\\metrics\\_classification.py:1344: UndefinedMetricWarning: Precision is ill-defined and being set to 0.0 due to no predicted samples. Use `zero_division` parameter to control this behavior.\n",
      "  _warn_prf(average, modifier, msg_start, len(result))\n",
      "c:\\Users\\simon\\Projets\\CountryTrends\\.conda\\lib\\site-packages\\sklearn\\metrics\\_classification.py:1344: UndefinedMetricWarning: Precision is ill-defined and being set to 0.0 due to no predicted samples. Use `zero_division` parameter to control this behavior.\n",
      "  _warn_prf(average, modifier, msg_start, len(result))\n",
      "c:\\Users\\simon\\Projets\\CountryTrends\\.conda\\lib\\site-packages\\sklearn\\metrics\\_classification.py:1344: UndefinedMetricWarning: Precision is ill-defined and being set to 0.0 due to no predicted samples. Use `zero_division` parameter to control this behavior.\n",
      "  _warn_prf(average, modifier, msg_start, len(result))\n",
      "c:\\Users\\simon\\Projets\\CountryTrends\\.conda\\lib\\site-packages\\sklearn\\metrics\\_classification.py:1344: UndefinedMetricWarning: Precision is ill-defined and being set to 0.0 due to no predicted samples. Use `zero_division` parameter to control this behavior.\n",
      "  _warn_prf(average, modifier, msg_start, len(result))\n",
      "c:\\Users\\simon\\Projets\\CountryTrends\\.conda\\lib\\site-packages\\sklearn\\metrics\\_classification.py:1344: UndefinedMetricWarning: Precision is ill-defined and being set to 0.0 due to no predicted samples. Use `zero_division` parameter to control this behavior.\n",
      "  _warn_prf(average, modifier, msg_start, len(result))\n",
      "c:\\Users\\simon\\Projets\\CountryTrends\\.conda\\lib\\site-packages\\sklearn\\metrics\\_classification.py:1344: UndefinedMetricWarning: Precision is ill-defined and being set to 0.0 due to no predicted samples. Use `zero_division` parameter to control this behavior.\n",
      "  _warn_prf(average, modifier, msg_start, len(result))\n",
      "c:\\Users\\simon\\Projets\\CountryTrends\\.conda\\lib\\site-packages\\sklearn\\metrics\\_classification.py:1344: UndefinedMetricWarning: Precision is ill-defined and being set to 0.0 due to no predicted samples. Use `zero_division` parameter to control this behavior.\n",
      "  _warn_prf(average, modifier, msg_start, len(result))\n",
      "c:\\Users\\simon\\Projets\\CountryTrends\\.conda\\lib\\site-packages\\sklearn\\metrics\\_classification.py:1344: UndefinedMetricWarning: Precision is ill-defined and being set to 0.0 due to no predicted samples. Use `zero_division` parameter to control this behavior.\n",
      "  _warn_prf(average, modifier, msg_start, len(result))\n",
      "c:\\Users\\simon\\Projets\\CountryTrends\\.conda\\lib\\site-packages\\sklearn\\metrics\\_classification.py:1344: UndefinedMetricWarning: Precision is ill-defined and being set to 0.0 due to no predicted samples. Use `zero_division` parameter to control this behavior.\n",
      "  _warn_prf(average, modifier, msg_start, len(result))\n",
      "c:\\Users\\simon\\Projets\\CountryTrends\\.conda\\lib\\site-packages\\sklearn\\metrics\\_classification.py:1344: UndefinedMetricWarning: Precision is ill-defined and being set to 0.0 due to no predicted samples. Use `zero_division` parameter to control this behavior.\n",
      "  _warn_prf(average, modifier, msg_start, len(result))\n",
      "c:\\Users\\simon\\Projets\\CountryTrends\\.conda\\lib\\site-packages\\sklearn\\metrics\\_classification.py:1344: UndefinedMetricWarning: Precision is ill-defined and being set to 0.0 due to no predicted samples. Use `zero_division` parameter to control this behavior.\n",
      "  _warn_prf(average, modifier, msg_start, len(result))\n",
      "c:\\Users\\simon\\Projets\\CountryTrends\\.conda\\lib\\site-packages\\sklearn\\metrics\\_classification.py:1344: UndefinedMetricWarning: Precision is ill-defined and being set to 0.0 due to no predicted samples. Use `zero_division` parameter to control this behavior.\n",
      "  _warn_prf(average, modifier, msg_start, len(result))\n",
      "c:\\Users\\simon\\Projets\\CountryTrends\\.conda\\lib\\site-packages\\sklearn\\metrics\\_classification.py:1344: UndefinedMetricWarning: Precision is ill-defined and being set to 0.0 due to no predicted samples. Use `zero_division` parameter to control this behavior.\n",
      "  _warn_prf(average, modifier, msg_start, len(result))\n",
      "c:\\Users\\simon\\Projets\\CountryTrends\\.conda\\lib\\site-packages\\sklearn\\metrics\\_classification.py:1344: UndefinedMetricWarning: Precision is ill-defined and being set to 0.0 due to no predicted samples. Use `zero_division` parameter to control this behavior.\n",
      "  _warn_prf(average, modifier, msg_start, len(result))\n",
      "c:\\Users\\simon\\Projets\\CountryTrends\\.conda\\lib\\site-packages\\sklearn\\metrics\\_classification.py:1344: UndefinedMetricWarning: Precision is ill-defined and being set to 0.0 due to no predicted samples. Use `zero_division` parameter to control this behavior.\n",
      "  _warn_prf(average, modifier, msg_start, len(result))\n",
      "c:\\Users\\simon\\Projets\\CountryTrends\\.conda\\lib\\site-packages\\sklearn\\metrics\\_classification.py:1344: UndefinedMetricWarning: Precision is ill-defined and being set to 0.0 due to no predicted samples. Use `zero_division` parameter to control this behavior.\n",
      "  _warn_prf(average, modifier, msg_start, len(result))\n",
      "c:\\Users\\simon\\Projets\\CountryTrends\\.conda\\lib\\site-packages\\sklearn\\metrics\\_classification.py:1344: UndefinedMetricWarning: Precision is ill-defined and being set to 0.0 due to no predicted samples. Use `zero_division` parameter to control this behavior.\n",
      "  _warn_prf(average, modifier, msg_start, len(result))\n"
     ]
    }
   ],
   "source": [
    "def load_model(path):\n",
    "    checkpoint = torch.load(path)\n",
    "    model = MetroModel(embedding_size=8, num_nodes=num_nodes, neighbor_nb=1, input_size=1, gsl_mode=\"matrix\")\n",
    "    model.load_state_dict(checkpoint['state_dict'])\n",
    "    return model\n",
    "\n",
    "def viz(checkpoint, threshold = 0):\n",
    "    model = load_model(checkpoint)\n",
    "\n",
    "    A = model.graph_matrix_learning().detach().numpy()\n",
    "    A = np.array(A) > threshold\n",
    "\n",
    "    learned_graph = nx.from_numpy_array(A, nx.DiGraph)\n",
    "    return dataset.cg.altair_graph(learned_graph, 10)\n",
    "\n",
    "def precision_recall(checkpoint, threshold = 0):\n",
    "    model = load_model(checkpoint)\n",
    "\n",
    "    A = model.graph_matrix_learning().detach().numpy()\n",
    "    A = np.array(A).reshape(-1)\n",
    "    A = A > threshold\n",
    "    precision = precision_score(A_reference > 0, A)  \n",
    "    recall = recall_score(A_reference > 0, A) \n",
    "    return precision, recall\n",
    "\n",
    "def graph_edit_distance(checkpoint):\n",
    "    model = load_model(checkpoint)\n",
    "    A = model.graph_matrix_learning().detach().numpy()\n",
    "    A = np.array(A) \n",
    "    learned_graph = nx.from_numpy_array(A, nx.DiGraph)\n",
    "    return nx.graph_edit_distance(dataset.cg.graph, learned_graph)\n",
    "\n",
    "\n",
    "recalls = {}\n",
    "precisions = {}\n",
    "for path in sorted(os.listdir('checkpoints')):\n",
    "    checkpoint = Path('checkpoints') / path\n",
    "    number = path.split(\"=\")[1][:-5]\n",
    "    precision, recall = precision_recall(checkpoint, 0.075)\n",
    "    precisions[int(number)] = precision\n",
    "    recalls[int(number)] = recall"
   ]
  },
  {
   "cell_type": "code",
   "execution_count": 11,
   "metadata": {},
   "outputs": [
    {
     "data": {
      "image/png": "[encoded data removed]",
      "text/plain": [
       "<Figure size 640x480 with 1 Axes>"
      ]
     },
     "metadata": {},
     "output_type": "display_data"
    }
   ],
   "source": [
    "plt.style.use('fivethirtyeight')\n",
    "plt.plot(sorted(recalls.keys()), [x for _, x in sorted(zip(recalls.keys(), recalls.values()))], label=\"Recall\")\n",
    "plt.plot(sorted(precisions.keys()), [x for _, x in sorted(zip(precisions.keys(), precisions.values()))], label=\"Precision\")\n",
    "plt.title('Graph reconstruction during training')\n",
    "plt.legend()\n",
    "plt.savefig('reconstruction-steps.png', dpi=300)\n",
    "plt.show()"
   ]
  },
  {
   "cell_type": "code",
   "execution_count": 8,
   "metadata": {},
   "outputs": [
    {
     "name": "stdout",
     "output_type": "stream",
     "text": [
      "(0.07596785975164354, 1.0)\n"
     ]
    },
    {
     "name": "stderr",
     "output_type": "stream",
     "text": [
      "c:\\Users\\simon\\Projets\\CountryTrends\\.conda\\lib\\site-packages\\momepy\\utils.py:430: UserWarning: Approach is not set. Defaulting to 'primal'.\n",
      "  warnings.warn(\"Approach is not set. Defaulting to 'primal'.\")\n"
     ]
    },
    {
     "data": {
      "text/html": [
       "\n",
       "<div id=\"altair-viz-faa435bc060d4052be60a0812786b052\"></div>\n",
       "<script type=\"text/javascript\">\n",
       "  var VEGA_DEBUG = (typeof VEGA_DEBUG == \"undefined\") ? {} : VEGA_DEBUG;\n",
       "  (function(spec, embedOpt){\n",
       "    let outputDiv = document.currentScript.previousElementSibling;\n",
       "    if (outputDiv.id !== \"altair-viz-faa435bc060d4052be60a0812786b052\") {\n",
       "      outputDiv = document.getElementById(\"altair-viz-faa435bc060d4052be60a0812786b052\");\n",
       "    }\n",
       "    const paths = {\n",
       "      \"vega\": \"https://cdn.jsdelivr.net/npm//vega@5?noext\",\n",
       "      \"vega-lib\": \"https://cdn.jsdelivr.net/npm//vega-lib?noext\",\n",
       "      \"vega-lite\": \"https://cdn.jsdelivr.net/npm//vega-lite@4.17.0?noext\",\n",
       "      \"vega-embed\": \"https://cdn.jsdelivr.net/npm//vega-embed@6?noext\",\n",
       "    };\n",
       "\n",
       "    function maybeLoadScript(lib, version) {\n",
       "      var key = `${lib.replace(\"-\", \"\")}_version`;\n",
       "      return (VEGA_DEBUG[key] == version) ?\n",
       "        Promise.resolve(paths[lib]) :\n",
       "        new Promise(function(resolve, reject) {\n",
       "          var s = document.createElement('script');\n",
       "          document.getElementsByTagName(\"head\")[0].appendChild(s);\n",
       "          s.async = true;\n",
       "          s.onload = () => {\n",
       "            VEGA_DEBUG[key] = version;\n",
       "            return resolve(paths[lib]);\n",
       "          };\n",
       "          s.onerror = () => reject(`Error loading script: ${paths[lib]}`);\n",
       "          s.src = paths[lib];\n",
       "        });\n",
       "    }\n",
       "\n",
       "    function showError(err) {\n",
       "      outputDiv.innerHTML = `<div class=\"error\" style=\"color:red;\">${err}</div>`;\n",
       "      throw err;\n",
       "    }\n",
       "\n",
       "    function displayChart(vegaEmbed) {\n",
       "      vegaEmbed(outputDiv, spec, embedOpt)\n",
       "        .catch(err => showError(`Javascript Error: ${err.message}<br>This usually means there's a typo in your chart specification. See the javascript console for the full traceback.`));\n",
       "    }\n",
       "\n",
       "    if(typeof define === \"function\" && define.amd) {\n",
       "      requirejs.config({paths});\n",
       "      require([\"vega-embed\"], displayChart, err => showError(`Error loading script: ${err.message}`));\n",
       "    } else {\n",
       "      maybeLoadScript(\"vega\", \"5\")\n",
       "        .then(() => maybeLoadScript(\"vega-lite\", \"4.17.0\"))\n",
       "        .then(() => maybeLoadScript(\"vega-embed\", \"6\"))\n",
       "        .catch(showError)\n",
       "        .then(() => displayChart(vegaEmbed));\n",
       "    }\n",
       "  })({\"config\": {\"view\": {\"continuousWidth\": 400, \"continuousHeight\": 300}}, \"layer\": [{\"data\": {\"name\": \"data-3f86064363f21971fad1eb6ad8b26d24\"}, \"mark\": {\"type\": \"geoshape\", \"filled\": false}, \"encoding\": {\"color\": {\"field\": \"line\", \"type\": \"nominal\"}, \"size\": {\"field\": \"weight\", \"type\": \"nominal\"}}}, {\"data\": {\"name\": \"data-7731f6354deb2228d357d0ead68fa8af\"}, \"mark\": {\"type\": \"geoshape\", \"filled\": false, \"strokeWidth\": 10}}], \"$schema\": \"https://vega.github.io/schema/vega-lite/v4.17.0.json\", \"datasets\": {\"data-3f86064363f21971fad1eb6ad8b26d24\": [{\"weight\": true, \"line\": 1, \"type\": \"Feature\", \"geometry\": {\"type\": \"LineString\", \"coordinates\": [[0.0, 0.0], [2.0, 0.0]]}}, {\"weight\": true, \"line\": 0, \"type\": \"Feature\", \"geometry\": {\"type\": \"LineString\", \"coordinates\": [[0.0, 0.0], [4.0, 0.0]]}}, {\"weight\": true, \"line\": 0, \"type\": \"Feature\", \"geometry\": {\"type\": \"LineString\", \"coordinates\": [[0.0, 0.0], [6.0, 0.0]]}}, {\"weight\": true, \"line\": 0, \"type\": \"Feature\", \"geometry\": {\"type\": \"LineString\", \"coordinates\": [[0.0, 0.0], [8.0, 1.0]]}}, {\"weight\": true, \"line\": 0, \"type\": \"Feature\", \"geometry\": {\"type\": \"LineString\", \"coordinates\": [[0.0, 0.0], [9.0, 3.0]]}}, {\"weight\": true, \"line\": 0, \"type\": \"Feature\", \"geometry\": {\"type\": \"LineString\", \"coordinates\": [[0.0, 0.0], [9.0, 5.0]]}}, {\"weight\": true, \"line\": 0, \"type\": \"Feature\", \"geometry\": {\"type\": \"LineString\", \"coordinates\": [[0.0, 0.0], [0.0, 2.0]]}}, {\"weight\": true, \"line\": 0, \"type\": \"Feature\", \"geometry\": {\"type\": \"LineString\", \"coordinates\": [[0.0, 0.0], [2.0, 2.0]]}}, {\"weight\": true, \"line\": 0, \"type\": \"Feature\", \"geometry\": {\"type\": \"LineString\", \"coordinates\": [[0.0, 0.0], [4.0, 2.0]]}}, {\"weight\": true, \"line\": 0, \"type\": \"Feature\", \"geometry\": {\"type\": \"LineString\", \"coordinates\": [[0.0, 0.0], [2.0, 4.0]]}}, {\"weight\": true, \"line\": 1, \"type\": \"Feature\", \"geometry\": {\"type\": \"LineString\", \"coordinates\": [[2.0, 0.0], [4.0, 0.0]]}}, {\"weight\": true, \"line\": 0, \"type\": \"Feature\", \"geometry\": {\"type\": \"LineString\", \"coordinates\": [[2.0, 0.0], [6.0, 0.0]]}}, {\"weight\": true, \"line\": 0, \"type\": \"Feature\", \"geometry\": {\"type\": \"LineString\", \"coordinates\": [[2.0, 0.0], [8.0, 1.0]]}}, {\"weight\": true, \"line\": 0, \"type\": \"Feature\", \"geometry\": {\"type\": \"LineString\", \"coordinates\": [[2.0, 0.0], [9.0, 3.0]]}}, {\"weight\": true, \"line\": 0, \"type\": \"Feature\", \"geometry\": {\"type\": \"LineString\", \"coordinates\": [[2.0, 0.0], [9.0, 5.0]]}}, {\"weight\": true, \"line\": 0, \"type\": \"Feature\", \"geometry\": {\"type\": \"LineString\", \"coordinates\": [[2.0, 0.0], [0.0, 2.0]]}}, {\"weight\": true, \"line\": 3, \"type\": \"Feature\", \"geometry\": {\"type\": \"LineString\", \"coordinates\": [[2.0, 0.0], [2.0, 2.0]]}}, {\"weight\": true, \"line\": 0, \"type\": \"Feature\", \"geometry\": {\"type\": \"LineString\", \"coordinates\": [[2.0, 0.0], [4.0, 2.0]]}}, {\"weight\": true, \"line\": 0, \"type\": \"Feature\", \"geometry\": {\"type\": \"LineString\", \"coordinates\": [[2.0, 0.0], [2.0, 4.0]]}}, {\"weight\": true, \"line\": 1, \"type\": \"Feature\", \"geometry\": {\"type\": \"LineString\", \"coordinates\": [[4.0, 0.0], [6.0, 0.0]]}}, {\"weight\": true, \"line\": 0, \"type\": \"Feature\", \"geometry\": {\"type\": \"LineString\", \"coordinates\": [[4.0, 0.0], [8.0, 1.0]]}}, {\"weight\": true, \"line\": 0, \"type\": \"Feature\", \"geometry\": {\"type\": \"LineString\", \"coordinates\": [[4.0, 0.0], [9.0, 3.0]]}}, {\"weight\": true, \"line\": 0, \"type\": \"Feature\", \"geometry\": {\"type\": \"LineString\", \"coordinates\": [[4.0, 0.0], [9.0, 5.0]]}}, {\"weight\": true, \"line\": 0, \"type\": \"Feature\", \"geometry\": {\"type\": \"LineString\", \"coordinates\": [[4.0, 0.0], [0.0, 2.0]]}}, {\"weight\": true, \"line\": 0, \"type\": \"Feature\", \"geometry\": {\"type\": \"LineString\", \"coordinates\": [[4.0, 0.0], [2.0, 2.0]]}}, {\"weight\": true, \"line\": 0, \"type\": \"Feature\", \"geometry\": {\"type\": \"LineString\", \"coordinates\": [[4.0, 0.0], [4.0, 2.0]]}}, {\"weight\": true, \"line\": 0, \"type\": \"Feature\", \"geometry\": {\"type\": \"LineString\", \"coordinates\": [[4.0, 0.0], [2.0, 4.0]]}}, {\"weight\": true, \"line\": 1, \"type\": \"Feature\", \"geometry\": {\"type\": \"LineString\", \"coordinates\": [[6.0, 0.0], [8.0, 1.0]]}}, {\"weight\": true, \"line\": 0, \"type\": \"Feature\", \"geometry\": {\"type\": \"LineString\", \"coordinates\": [[6.0, 0.0], [9.0, 3.0]]}}, {\"weight\": true, \"line\": 0, \"type\": \"Feature\", \"geometry\": {\"type\": \"LineString\", \"coordinates\": [[6.0, 0.0], [9.0, 5.0]]}}, {\"weight\": true, \"line\": 0, \"type\": \"Feature\", \"geometry\": {\"type\": \"LineString\", \"coordinates\": [[6.0, 0.0], [0.0, 2.0]]}}, {\"weight\": true, \"line\": 0, \"type\": \"Feature\", \"geometry\": {\"type\": \"LineString\", \"coordinates\": [[6.0, 0.0], [2.0, 2.0]]}}, {\"weight\": true, \"line\": 0, \"type\": \"Feature\", \"geometry\": {\"type\": \"LineString\", \"coordinates\": [[6.0, 0.0], [4.0, 2.0]]}}, {\"weight\": true, \"line\": 0, \"type\": \"Feature\", \"geometry\": {\"type\": \"LineString\", \"coordinates\": [[6.0, 0.0], [2.0, 4.0]]}}, {\"weight\": true, \"line\": 1, \"type\": \"Feature\", \"geometry\": {\"type\": \"LineString\", \"coordinates\": [[8.0, 1.0], [9.0, 3.0]]}}, {\"weight\": true, \"line\": 0, \"type\": \"Feature\", \"geometry\": {\"type\": \"LineString\", \"coordinates\": [[8.0, 1.0], [9.0, 5.0]]}}, {\"weight\": true, \"line\": 0, \"type\": \"Feature\", \"geometry\": {\"type\": \"LineString\", \"coordinates\": [[8.0, 1.0], [0.0, 2.0]]}}, {\"weight\": true, \"line\": 0, \"type\": \"Feature\", \"geometry\": {\"type\": \"LineString\", \"coordinates\": [[8.0, 1.0], [2.0, 2.0]]}}, {\"weight\": true, \"line\": 0, \"type\": \"Feature\", \"geometry\": {\"type\": \"LineString\", \"coordinates\": [[8.0, 1.0], [4.0, 2.0]]}}, {\"weight\": true, \"line\": 0, \"type\": \"Feature\", \"geometry\": {\"type\": \"LineString\", \"coordinates\": [[8.0, 1.0], [2.0, 4.0]]}}, {\"weight\": true, \"line\": 1, \"type\": \"Feature\", \"geometry\": {\"type\": \"LineString\", \"coordinates\": [[9.0, 3.0], [9.0, 5.0]]}}, {\"weight\": true, \"line\": 0, \"type\": \"Feature\", \"geometry\": {\"type\": \"LineString\", \"coordinates\": [[9.0, 3.0], [0.0, 2.0]]}}, {\"weight\": true, \"line\": 0, \"type\": \"Feature\", \"geometry\": {\"type\": \"LineString\", \"coordinates\": [[9.0, 3.0], [2.0, 2.0]]}}, {\"weight\": true, \"line\": 0, \"type\": \"Feature\", \"geometry\": {\"type\": \"LineString\", \"coordinates\": [[9.0, 3.0], [4.0, 2.0]]}}, {\"weight\": true, \"line\": 0, \"type\": \"Feature\", \"geometry\": {\"type\": \"LineString\", \"coordinates\": [[9.0, 3.0], [2.0, 4.0]]}}, {\"weight\": true, \"line\": 0, \"type\": \"Feature\", \"geometry\": {\"type\": \"LineString\", \"coordinates\": [[9.0, 5.0], [0.0, 2.0]]}}, {\"weight\": true, \"line\": 0, \"type\": \"Feature\", \"geometry\": {\"type\": \"LineString\", \"coordinates\": [[9.0, 5.0], [2.0, 2.0]]}}, {\"weight\": true, \"line\": 0, \"type\": \"Feature\", \"geometry\": {\"type\": \"LineString\", \"coordinates\": [[9.0, 5.0], [4.0, 2.0]]}}, {\"weight\": true, \"line\": 0, \"type\": \"Feature\", \"geometry\": {\"type\": \"LineString\", \"coordinates\": [[9.0, 5.0], [2.0, 4.0]]}}, {\"weight\": true, \"line\": 2, \"type\": \"Feature\", \"geometry\": {\"type\": \"LineString\", \"coordinates\": [[0.0, 2.0], [2.0, 2.0]]}}, {\"weight\": true, \"line\": 0, \"type\": \"Feature\", \"geometry\": {\"type\": \"LineString\", \"coordinates\": [[0.0, 2.0], [4.0, 2.0]]}}, {\"weight\": true, \"line\": 0, \"type\": \"Feature\", \"geometry\": {\"type\": \"LineString\", \"coordinates\": [[0.0, 2.0], [2.0, 4.0]]}}, {\"weight\": true, \"line\": 2, \"type\": \"Feature\", \"geometry\": {\"type\": \"LineString\", \"coordinates\": [[2.0, 2.0], [4.0, 2.0]]}}, {\"weight\": true, \"line\": 3, \"type\": \"Feature\", \"geometry\": {\"type\": \"LineString\", \"coordinates\": [[2.0, 2.0], [2.0, 4.0]]}}, {\"weight\": true, \"line\": 0, \"type\": \"Feature\", \"geometry\": {\"type\": \"LineString\", \"coordinates\": [[4.0, 2.0], [2.0, 4.0]]}}], \"data-7731f6354deb2228d357d0ead68fa8af\": [{\"contraction\": {\"7\": {}, \"8\": {}}, \"nodeID\": 0, \"type\": \"Feature\", \"geometry\": {\"type\": \"Point\", \"coordinates\": [0.0, 0.0]}}, {\"contraction\": {\"9\": {}, \"10\": {}, \"35\": {}, \"36\": {}}, \"nodeID\": 1, \"type\": \"Feature\", \"geometry\": {\"type\": \"Point\", \"coordinates\": [2.0, 0.0]}}, {\"contraction\": {\"11\": {}, \"12\": {}}, \"nodeID\": 2, \"type\": \"Feature\", \"geometry\": {\"type\": \"Point\", \"coordinates\": [4.0, 0.0]}}, {\"contraction\": {\"13\": {}, \"14\": {}}, \"nodeID\": 3, \"type\": \"Feature\", \"geometry\": {\"type\": \"Point\", \"coordinates\": [6.0, 0.0]}}, {\"contraction\": {\"15\": {}, \"16\": {}}, \"nodeID\": 4, \"type\": \"Feature\", \"geometry\": {\"type\": \"Point\", \"coordinates\": [8.0, 1.0]}}, {\"contraction\": {\"17\": {}, \"18\": {}}, \"nodeID\": 5, \"type\": \"Feature\", \"geometry\": {\"type\": \"Point\", \"coordinates\": [9.0, 3.0]}}, {\"contraction\": {\"19\": {}, \"20\": {}}, \"nodeID\": 6, \"type\": \"Feature\", \"geometry\": {\"type\": \"Point\", \"coordinates\": [9.0, 5.0]}}, {\"contraction\": {\"24\": {}, \"25\": {}}, \"nodeID\": 7, \"type\": \"Feature\", \"geometry\": {\"type\": \"Point\", \"coordinates\": [0.0, 2.0]}}, {\"contraction\": {\"26\": {}, \"27\": {}, \"33\": {}, \"34\": {}}, \"nodeID\": 8, \"type\": \"Feature\", \"geometry\": {\"type\": \"Point\", \"coordinates\": [2.0, 2.0]}}, {\"contraction\": {\"28\": {}, \"29\": {}}, \"nodeID\": 9, \"type\": \"Feature\", \"geometry\": {\"type\": \"Point\", \"coordinates\": [4.0, 2.0]}}, {\"contraction\": {\"31\": {}, \"32\": {}}, \"nodeID\": 10, \"type\": \"Feature\", \"geometry\": {\"type\": \"Point\", \"coordinates\": [2.0, 4.0]}}]}}, {\"mode\": \"vega-lite\"});\n",
       "</script>"
      ],
      "text/plain": [
       "alt.LayerChart(...)"
      ]
     },
     "execution_count": 8,
     "metadata": {},
     "output_type": "execute_result"
    }
   ],
   "source": [
    "print(precision_recall(\"checkpoints\\epoch=0-step=248.ckpt\"))\n",
    "viz(\"checkpoints\\epoch=0-step=248.ckpt\", 0.075)"
   ]
  },
  {
   "cell_type": "code",
   "execution_count": 24,
   "metadata": {},
   "outputs": [
    {
     "data": {
      "text/html": [
       "\n",
       "<div id=\"altair-viz-c380ca8696704b3985196b29536d7c5c\"></div>\n",
       "<script type=\"text/javascript\">\n",
       "  var VEGA_DEBUG = (typeof VEGA_DEBUG == \"undefined\") ? {} : VEGA_DEBUG;\n",
       "  (function(spec, embedOpt){\n",
       "    let outputDiv = document.currentScript.previousElementSibling;\n",
       "    if (outputDiv.id !== \"altair-viz-c380ca8696704b3985196b29536d7c5c\") {\n",
       "      outputDiv = document.getElementById(\"altair-viz-c380ca8696704b3985196b29536d7c5c\");\n",
       "    }\n",
       "    const paths = {\n",
       "      \"vega\": \"https://cdn.jsdelivr.net/npm//vega@5?noext\",\n",
       "      \"vega-lib\": \"https://cdn.jsdelivr.net/npm//vega-lib?noext\",\n",
       "      \"vega-lite\": \"https://cdn.jsdelivr.net/npm//vega-lite@4.17.0?noext\",\n",
       "      \"vega-embed\": \"https://cdn.jsdelivr.net/npm//vega-embed@6?noext\",\n",
       "    };\n",
       "\n",
       "    function maybeLoadScript(lib, version) {\n",
       "      var key = `${lib.replace(\"-\", \"\")}_version`;\n",
       "      return (VEGA_DEBUG[key] == version) ?\n",
       "        Promise.resolve(paths[lib]) :\n",
       "        new Promise(function(resolve, reject) {\n",
       "          var s = document.createElement('script');\n",
       "          document.getElementsByTagName(\"head\")[0].appendChild(s);\n",
       "          s.async = true;\n",
       "          s.onload = () => {\n",
       "            VEGA_DEBUG[key] = version;\n",
       "            return resolve(paths[lib]);\n",
       "          };\n",
       "          s.onerror = () => reject(`Error loading script: ${paths[lib]}`);\n",
       "          s.src = paths[lib];\n",
       "        });\n",
       "    }\n",
       "\n",
       "    function showError(err) {\n",
       "      outputDiv.innerHTML = `<div class=\"error\" style=\"color:red;\">${err}</div>`;\n",
       "      throw err;\n",
       "    }\n",
       "\n",
       "    function displayChart(vegaEmbed) {\n",
       "      vegaEmbed(outputDiv, spec, embedOpt)\n",
       "        .catch(err => showError(`Javascript Error: ${err.message}<br>This usually means there's a typo in your chart specification. See the javascript console for the full traceback.`));\n",
       "    }\n",
       "\n",
       "    if(typeof define === \"function\" && define.amd) {\n",
       "      requirejs.config({paths});\n",
       "      require([\"vega-embed\"], displayChart, err => showError(`Error loading script: ${err.message}`));\n",
       "    } else {\n",
       "      maybeLoadScript(\"vega\", \"5\")\n",
       "        .then(() => maybeLoadScript(\"vega-lite\", \"4.17.0\"))\n",
       "        .then(() => maybeLoadScript(\"vega-embed\", \"6\"))\n",
       "        .catch(showError)\n",
       "        .then(() => displayChart(vegaEmbed));\n",
       "    }\n",
       "  })({\"config\": {\"view\": {\"continuousWidth\": 400, \"continuousHeight\": 300}}, \"hconcat\": [{\"layer\": [{\"data\": {\"name\": \"data-3f86064363f21971fad1eb6ad8b26d24\"}, \"mark\": {\"type\": \"geoshape\", \"filled\": false}, \"encoding\": {\"color\": {\"field\": \"line\", \"type\": \"nominal\"}, \"size\": {\"field\": \"weight\", \"type\": \"nominal\"}}}, {\"data\": {\"name\": \"data-7731f6354deb2228d357d0ead68fa8af\"}, \"mark\": {\"type\": \"geoshape\", \"filled\": false, \"strokeWidth\": 10}}]}, {\"layer\": [{\"data\": {\"name\": \"data-8542ef3aadd7783582828f400cb8603c\"}, \"mark\": {\"type\": \"geoshape\", \"filled\": false}, \"encoding\": {\"color\": {\"field\": \"line\", \"type\": \"nominal\"}, \"size\": {\"field\": \"weight\", \"type\": \"nominal\"}}}, {\"data\": {\"name\": \"data-7731f6354deb2228d357d0ead68fa8af\"}, \"mark\": {\"type\": \"geoshape\", \"filled\": false, \"strokeWidth\": 10}}]}, {\"layer\": [{\"data\": {\"name\": \"data-876602459c6431d2e22a9457f2628a8a\"}, \"mark\": {\"type\": \"geoshape\", \"filled\": false}, \"encoding\": {\"color\": {\"field\": \"line\", \"type\": \"nominal\"}, \"size\": {\"field\": \"weight\", \"type\": \"nominal\"}}}, {\"data\": {\"name\": \"data-7731f6354deb2228d357d0ead68fa8af\"}, \"mark\": {\"type\": \"geoshape\", \"filled\": false, \"strokeWidth\": 10}}]}], \"$schema\": \"https://vega.github.io/schema/vega-lite/v4.17.0.json\", \"datasets\": {\"data-3f86064363f21971fad1eb6ad8b26d24\": [{\"weight\": true, \"line\": 1, \"type\": \"Feature\", \"geometry\": {\"type\": \"LineString\", \"coordinates\": [[0.0, 0.0], [2.0, 0.0]]}}, {\"weight\": true, \"line\": 0, \"type\": \"Feature\", \"geometry\": {\"type\": \"LineString\", \"coordinates\": [[0.0, 0.0], [4.0, 0.0]]}}, {\"weight\": true, \"line\": 0, \"type\": \"Feature\", \"geometry\": {\"type\": \"LineString\", \"coordinates\": [[0.0, 0.0], [6.0, 0.0]]}}, {\"weight\": true, \"line\": 0, \"type\": \"Feature\", \"geometry\": {\"type\": \"LineString\", \"coordinates\": [[0.0, 0.0], [8.0, 1.0]]}}, {\"weight\": true, \"line\": 0, \"type\": \"Feature\", \"geometry\": {\"type\": \"LineString\", \"coordinates\": [[0.0, 0.0], [9.0, 3.0]]}}, {\"weight\": true, \"line\": 0, \"type\": \"Feature\", \"geometry\": {\"type\": \"LineString\", \"coordinates\": [[0.0, 0.0], [9.0, 5.0]]}}, {\"weight\": true, \"line\": 0, \"type\": \"Feature\", \"geometry\": {\"type\": \"LineString\", \"coordinates\": [[0.0, 0.0], [0.0, 2.0]]}}, {\"weight\": true, \"line\": 0, \"type\": \"Feature\", \"geometry\": {\"type\": \"LineString\", \"coordinates\": [[0.0, 0.0], [2.0, 2.0]]}}, {\"weight\": true, \"line\": 0, \"type\": \"Feature\", \"geometry\": {\"type\": \"LineString\", \"coordinates\": [[0.0, 0.0], [4.0, 2.0]]}}, {\"weight\": true, \"line\": 0, \"type\": \"Feature\", \"geometry\": {\"type\": \"LineString\", \"coordinates\": [[0.0, 0.0], [2.0, 4.0]]}}, {\"weight\": true, \"line\": 1, \"type\": \"Feature\", \"geometry\": {\"type\": \"LineString\", \"coordinates\": [[2.0, 0.0], [4.0, 0.0]]}}, {\"weight\": true, \"line\": 0, \"type\": \"Feature\", \"geometry\": {\"type\": \"LineString\", \"coordinates\": [[2.0, 0.0], [6.0, 0.0]]}}, {\"weight\": true, \"line\": 0, \"type\": \"Feature\", \"geometry\": {\"type\": \"LineString\", \"coordinates\": [[2.0, 0.0], [8.0, 1.0]]}}, {\"weight\": true, \"line\": 0, \"type\": \"Feature\", \"geometry\": {\"type\": \"LineString\", \"coordinates\": [[2.0, 0.0], [9.0, 3.0]]}}, {\"weight\": true, \"line\": 0, \"type\": \"Feature\", \"geometry\": {\"type\": \"LineString\", \"coordinates\": [[2.0, 0.0], [9.0, 5.0]]}}, {\"weight\": true, \"line\": 0, \"type\": \"Feature\", \"geometry\": {\"type\": \"LineString\", \"coordinates\": [[2.0, 0.0], [0.0, 2.0]]}}, {\"weight\": true, \"line\": 3, \"type\": \"Feature\", \"geometry\": {\"type\": \"LineString\", \"coordinates\": [[2.0, 0.0], [2.0, 2.0]]}}, {\"weight\": true, \"line\": 0, \"type\": \"Feature\", \"geometry\": {\"type\": \"LineString\", \"coordinates\": [[2.0, 0.0], [4.0, 2.0]]}}, {\"weight\": true, \"line\": 0, \"type\": \"Feature\", \"geometry\": {\"type\": \"LineString\", \"coordinates\": [[2.0, 0.0], [2.0, 4.0]]}}, {\"weight\": true, \"line\": 1, \"type\": \"Feature\", \"geometry\": {\"type\": \"LineString\", \"coordinates\": [[4.0, 0.0], [6.0, 0.0]]}}, {\"weight\": true, \"line\": 0, \"type\": \"Feature\", \"geometry\": {\"type\": \"LineString\", \"coordinates\": [[4.0, 0.0], [8.0, 1.0]]}}, {\"weight\": true, \"line\": 0, \"type\": \"Feature\", \"geometry\": {\"type\": \"LineString\", \"coordinates\": [[4.0, 0.0], [9.0, 3.0]]}}, {\"weight\": true, \"line\": 0, \"type\": \"Feature\", \"geometry\": {\"type\": \"LineString\", \"coordinates\": [[4.0, 0.0], [9.0, 5.0]]}}, {\"weight\": true, \"line\": 0, \"type\": \"Feature\", \"geometry\": {\"type\": \"LineString\", \"coordinates\": [[4.0, 0.0], [0.0, 2.0]]}}, {\"weight\": true, \"line\": 0, \"type\": \"Feature\", \"geometry\": {\"type\": \"LineString\", \"coordinates\": [[4.0, 0.0], [2.0, 2.0]]}}, {\"weight\": true, \"line\": 0, \"type\": \"Feature\", \"geometry\": {\"type\": \"LineString\", \"coordinates\": [[4.0, 0.0], [4.0, 2.0]]}}, {\"weight\": true, \"line\": 0, \"type\": \"Feature\", \"geometry\": {\"type\": \"LineString\", \"coordinates\": [[4.0, 0.0], [2.0, 4.0]]}}, {\"weight\": true, \"line\": 1, \"type\": \"Feature\", \"geometry\": {\"type\": \"LineString\", \"coordinates\": [[6.0, 0.0], [8.0, 1.0]]}}, {\"weight\": true, \"line\": 0, \"type\": \"Feature\", \"geometry\": {\"type\": \"LineString\", \"coordinates\": [[6.0, 0.0], [9.0, 3.0]]}}, {\"weight\": true, \"line\": 0, \"type\": \"Feature\", \"geometry\": {\"type\": \"LineString\", \"coordinates\": [[6.0, 0.0], [9.0, 5.0]]}}, {\"weight\": true, \"line\": 0, \"type\": \"Feature\", \"geometry\": {\"type\": \"LineString\", \"coordinates\": [[6.0, 0.0], [0.0, 2.0]]}}, {\"weight\": true, \"line\": 0, \"type\": \"Feature\", \"geometry\": {\"type\": \"LineString\", \"coordinates\": [[6.0, 0.0], [2.0, 2.0]]}}, {\"weight\": true, \"line\": 0, \"type\": \"Feature\", \"geometry\": {\"type\": \"LineString\", \"coordinates\": [[6.0, 0.0], [4.0, 2.0]]}}, {\"weight\": true, \"line\": 0, \"type\": \"Feature\", \"geometry\": {\"type\": \"LineString\", \"coordinates\": [[6.0, 0.0], [2.0, 4.0]]}}, {\"weight\": true, \"line\": 1, \"type\": \"Feature\", \"geometry\": {\"type\": \"LineString\", \"coordinates\": [[8.0, 1.0], [9.0, 3.0]]}}, {\"weight\": true, \"line\": 0, \"type\": \"Feature\", \"geometry\": {\"type\": \"LineString\", \"coordinates\": [[8.0, 1.0], [9.0, 5.0]]}}, {\"weight\": true, \"line\": 0, \"type\": \"Feature\", \"geometry\": {\"type\": \"LineString\", \"coordinates\": [[8.0, 1.0], [0.0, 2.0]]}}, {\"weight\": true, \"line\": 0, \"type\": \"Feature\", \"geometry\": {\"type\": \"LineString\", \"coordinates\": [[8.0, 1.0], [2.0, 2.0]]}}, {\"weight\": true, \"line\": 0, \"type\": \"Feature\", \"geometry\": {\"type\": \"LineString\", \"coordinates\": [[8.0, 1.0], [4.0, 2.0]]}}, {\"weight\": true, \"line\": 0, \"type\": \"Feature\", \"geometry\": {\"type\": \"LineString\", \"coordinates\": [[8.0, 1.0], [2.0, 4.0]]}}, {\"weight\": true, \"line\": 1, \"type\": \"Feature\", \"geometry\": {\"type\": \"LineString\", \"coordinates\": [[9.0, 3.0], [9.0, 5.0]]}}, {\"weight\": true, \"line\": 0, \"type\": \"Feature\", \"geometry\": {\"type\": \"LineString\", \"coordinates\": [[9.0, 3.0], [0.0, 2.0]]}}, {\"weight\": true, \"line\": 0, \"type\": \"Feature\", \"geometry\": {\"type\": \"LineString\", \"coordinates\": [[9.0, 3.0], [2.0, 2.0]]}}, {\"weight\": true, \"line\": 0, \"type\": \"Feature\", \"geometry\": {\"type\": \"LineString\", \"coordinates\": [[9.0, 3.0], [4.0, 2.0]]}}, {\"weight\": true, \"line\": 0, \"type\": \"Feature\", \"geometry\": {\"type\": \"LineString\", \"coordinates\": [[9.0, 3.0], [2.0, 4.0]]}}, {\"weight\": true, \"line\": 0, \"type\": \"Feature\", \"geometry\": {\"type\": \"LineString\", \"coordinates\": [[9.0, 5.0], [0.0, 2.0]]}}, {\"weight\": true, \"line\": 0, \"type\": \"Feature\", \"geometry\": {\"type\": \"LineString\", \"coordinates\": [[9.0, 5.0], [2.0, 2.0]]}}, {\"weight\": true, \"line\": 0, \"type\": \"Feature\", \"geometry\": {\"type\": \"LineString\", \"coordinates\": [[9.0, 5.0], [4.0, 2.0]]}}, {\"weight\": true, \"line\": 0, \"type\": \"Feature\", \"geometry\": {\"type\": \"LineString\", \"coordinates\": [[9.0, 5.0], [2.0, 4.0]]}}, {\"weight\": true, \"line\": 2, \"type\": \"Feature\", \"geometry\": {\"type\": \"LineString\", \"coordinates\": [[0.0, 2.0], [2.0, 2.0]]}}, {\"weight\": true, \"line\": 0, \"type\": \"Feature\", \"geometry\": {\"type\": \"LineString\", \"coordinates\": [[0.0, 2.0], [4.0, 2.0]]}}, {\"weight\": true, \"line\": 0, \"type\": \"Feature\", \"geometry\": {\"type\": \"LineString\", \"coordinates\": [[0.0, 2.0], [2.0, 4.0]]}}, {\"weight\": true, \"line\": 2, \"type\": \"Feature\", \"geometry\": {\"type\": \"LineString\", \"coordinates\": [[2.0, 2.0], [4.0, 2.0]]}}, {\"weight\": true, \"line\": 3, \"type\": \"Feature\", \"geometry\": {\"type\": \"LineString\", \"coordinates\": [[2.0, 2.0], [2.0, 4.0]]}}, {\"weight\": true, \"line\": 0, \"type\": \"Feature\", \"geometry\": {\"type\": \"LineString\", \"coordinates\": [[4.0, 2.0], [2.0, 4.0]]}}], \"data-7731f6354deb2228d357d0ead68fa8af\": [{\"contraction\": {\"7\": {}, \"8\": {}}, \"nodeID\": 0, \"type\": \"Feature\", \"geometry\": {\"type\": \"Point\", \"coordinates\": [0.0, 0.0]}}, {\"contraction\": {\"9\": {}, \"10\": {}, \"35\": {}, \"36\": {}}, \"nodeID\": 1, \"type\": \"Feature\", \"geometry\": {\"type\": \"Point\", \"coordinates\": [2.0, 0.0]}}, {\"contraction\": {\"11\": {}, \"12\": {}}, \"nodeID\": 2, \"type\": \"Feature\", \"geometry\": {\"type\": \"Point\", \"coordinates\": [4.0, 0.0]}}, {\"contraction\": {\"13\": {}, \"14\": {}}, \"nodeID\": 3, \"type\": \"Feature\", \"geometry\": {\"type\": \"Point\", \"coordinates\": [6.0, 0.0]}}, {\"contraction\": {\"15\": {}, \"16\": {}}, \"nodeID\": 4, \"type\": \"Feature\", \"geometry\": {\"type\": \"Point\", \"coordinates\": [8.0, 1.0]}}, {\"contraction\": {\"17\": {}, \"18\": {}}, \"nodeID\": 5, \"type\": \"Feature\", \"geometry\": {\"type\": \"Point\", \"coordinates\": [9.0, 3.0]}}, {\"contraction\": {\"19\": {}, \"20\": {}}, \"nodeID\": 6, \"type\": \"Feature\", \"geometry\": {\"type\": \"Point\", \"coordinates\": [9.0, 5.0]}}, {\"contraction\": {\"24\": {}, \"25\": {}}, \"nodeID\": 7, \"type\": \"Feature\", \"geometry\": {\"type\": \"Point\", \"coordinates\": [0.0, 2.0]}}, {\"contraction\": {\"26\": {}, \"27\": {}, \"33\": {}, \"34\": {}}, \"nodeID\": 8, \"type\": \"Feature\", \"geometry\": {\"type\": \"Point\", \"coordinates\": [2.0, 2.0]}}, {\"contraction\": {\"28\": {}, \"29\": {}}, \"nodeID\": 9, \"type\": \"Feature\", \"geometry\": {\"type\": \"Point\", \"coordinates\": [4.0, 2.0]}}, {\"contraction\": {\"31\": {}, \"32\": {}}, \"nodeID\": 10, \"type\": \"Feature\", \"geometry\": {\"type\": \"Point\", \"coordinates\": [2.0, 4.0]}}], \"data-8542ef3aadd7783582828f400cb8603c\": [{\"weight\": true, \"line\": 1, \"type\": \"Feature\", \"geometry\": {\"type\": \"LineString\", \"coordinates\": [[0.0, 0.0], [2.0, 0.0]]}}, {\"weight\": true, \"line\": 1, \"type\": \"Feature\", \"geometry\": {\"type\": \"LineString\", \"coordinates\": [[8.0, 1.0], [9.0, 3.0]]}}, {\"weight\": true, \"line\": 0, \"type\": \"Feature\", \"geometry\": {\"type\": \"LineString\", \"coordinates\": [[0.0, 2.0], [4.0, 2.0]]}}, {\"weight\": true, \"line\": 2, \"type\": \"Feature\", \"geometry\": {\"type\": \"LineString\", \"coordinates\": [[0.0, 2.0], [2.0, 2.0]]}}, {\"weight\": true, \"line\": 2, \"type\": \"Feature\", \"geometry\": {\"type\": \"LineString\", \"coordinates\": [[2.0, 2.0], [4.0, 2.0]]}}, {\"weight\": true, \"line\": 3, \"type\": \"Feature\", \"geometry\": {\"type\": \"LineString\", \"coordinates\": [[2.0, 2.0], [2.0, 4.0]]}}], \"data-876602459c6431d2e22a9457f2628a8a\": [{\"weight\": true, \"line\": 1, \"type\": \"Feature\", \"geometry\": {\"type\": \"LineString\", \"coordinates\": [[0.0, 0.0], [2.0, 0.0]]}}, {\"weight\": true, \"line\": 0, \"type\": \"Feature\", \"geometry\": {\"type\": \"LineString\", \"coordinates\": [[0.0, 0.0], [4.0, 0.0]]}}, {\"weight\": true, \"line\": 0, \"type\": \"Feature\", \"geometry\": {\"type\": \"LineString\", \"coordinates\": [[0.0, 0.0], [6.0, 0.0]]}}, {\"weight\": true, \"line\": 1, \"type\": \"Feature\", \"geometry\": {\"type\": \"LineString\", \"coordinates\": [[2.0, 0.0], [4.0, 0.0]]}}, {\"weight\": true, \"line\": 3, \"type\": \"Feature\", \"geometry\": {\"type\": \"LineString\", \"coordinates\": [[2.0, 0.0], [2.0, 2.0]]}}, {\"weight\": true, \"line\": 1, \"type\": \"Feature\", \"geometry\": {\"type\": \"LineString\", \"coordinates\": [[4.0, 0.0], [6.0, 0.0]]}}, {\"weight\": true, \"line\": 1, \"type\": \"Feature\", \"geometry\": {\"type\": \"LineString\", \"coordinates\": [[6.0, 0.0], [8.0, 1.0]]}}, {\"weight\": true, \"line\": 1, \"type\": \"Feature\", \"geometry\": {\"type\": \"LineString\", \"coordinates\": [[8.0, 1.0], [9.0, 3.0]]}}, {\"weight\": true, \"line\": 1, \"type\": \"Feature\", \"geometry\": {\"type\": \"LineString\", \"coordinates\": [[9.0, 3.0], [9.0, 5.0]]}}, {\"weight\": true, \"line\": 0, \"type\": \"Feature\", \"geometry\": {\"type\": \"LineString\", \"coordinates\": [[0.0, 2.0], [4.0, 2.0]]}}, {\"weight\": true, \"line\": 2, \"type\": \"Feature\", \"geometry\": {\"type\": \"LineString\", \"coordinates\": [[0.0, 2.0], [2.0, 2.0]]}}, {\"weight\": true, \"line\": 2, \"type\": \"Feature\", \"geometry\": {\"type\": \"LineString\", \"coordinates\": [[2.0, 2.0], [4.0, 2.0]]}}, {\"weight\": true, \"line\": 3, \"type\": \"Feature\", \"geometry\": {\"type\": \"LineString\", \"coordinates\": [[2.0, 2.0], [2.0, 4.0]]}}]}}, {\"mode\": \"vega-lite\"});\n",
       "</script>"
      ],
      "text/plain": [
       "alt.HConcatChart(...)"
      ]
     },
     "execution_count": 24,
     "metadata": {},
     "output_type": "execute_result"
    }
   ],
   "source": [
    "viz(\"checkpoints\\epoch=0-step=248.ckpt\", 0.075) | viz(\"checkpoints\\epoch=90-step=22568.ckpt\", 0.075) | viz(\"checkpoints\\epoch=99-step=24800.ckpt\", 0.07)"
   ]
  }
 ],
 "metadata": {
  "kernelspec": {
   "display_name": "Python 3",
   "language": "python",
   "name": "python3"
  },
  "language_info": {
   "codemirror_mode": {
    "name": "ipython",
    "version": 3
   },
   "file_extension": ".py",
   "mimetype": "text/x-python",
   "name": "python",
   "nbconvert_exporter": "python",
   "pygments_lexer": "ipython3",
   "version": "3.10.9"
  },
  "orig_nbformat": 4
 },
 "nbformat": 4,
 "nbformat_minor": 2
}
