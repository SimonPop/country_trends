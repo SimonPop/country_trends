{
 "cells": [
  {
   "cell_type": "code",
   "execution_count": 14,
   "metadata": {},
   "outputs": [
    {
     "data": {
      "text/plain": [
       "<torch._C.Generator at 0x2124a804e30>"
      ]
     },
     "execution_count": 14,
     "metadata": {},
     "output_type": "execute_result"
    }
   ],
   "source": [
    "import networkx as nx\n",
    "from config import CONFIG\n",
    "from metro_dataset import MetroDataset\n",
    "from config import Line\n",
    "from pytorch_lightning import Trainer\n",
    "from metro_model import MetroModel\n",
    "from networkx.drawing.layout import *\n",
    "from collections import defaultdict\n",
    "import numpy as np\n",
    "import umap\n",
    "import matplotlib.pyplot as plt\n",
    "import torch\n",
    "torch.manual_seed(0)"
   ]
  },
  {
   "cell_type": "code",
   "execution_count": 3,
   "metadata": {},
   "outputs": [
    {
     "name": "stderr",
     "output_type": "stream",
     "text": [
      "c:\\Users\\simon\\Projets\\CountryTrends\\.conda\\lib\\site-packages\\momepy\\utils.py:430: UserWarning: Approach is not set. Defaulting to 'primal'.\n",
      "  warnings.warn(\"Approach is not set. Defaulting to 'primal'.\")\n"
     ]
    },
    {
     "data": {
      "text/html": [
       "\n",
       "<div id=\"altair-viz-baa4f01932c3497f8891a5db7b64ce59\"></div>\n",
       "<script type=\"text/javascript\">\n",
       "  var VEGA_DEBUG = (typeof VEGA_DEBUG == \"undefined\") ? {} : VEGA_DEBUG;\n",
       "  (function(spec, embedOpt){\n",
       "    let outputDiv = document.currentScript.previousElementSibling;\n",
       "    if (outputDiv.id !== \"altair-viz-baa4f01932c3497f8891a5db7b64ce59\") {\n",
       "      outputDiv = document.getElementById(\"altair-viz-baa4f01932c3497f8891a5db7b64ce59\");\n",
       "    }\n",
       "    const paths = {\n",
       "      \"vega\": \"https://cdn.jsdelivr.net/npm//vega@5?noext\",\n",
       "      \"vega-lib\": \"https://cdn.jsdelivr.net/npm//vega-lib?noext\",\n",
       "      \"vega-lite\": \"https://cdn.jsdelivr.net/npm//vega-lite@4.17.0?noext\",\n",
       "      \"vega-embed\": \"https://cdn.jsdelivr.net/npm//vega-embed@6?noext\",\n",
       "    };\n",
       "\n",
       "    function maybeLoadScript(lib, version) {\n",
       "      var key = `${lib.replace(\"-\", \"\")}_version`;\n",
       "      return (VEGA_DEBUG[key] == version) ?\n",
       "        Promise.resolve(paths[lib]) :\n",
       "        new Promise(function(resolve, reject) {\n",
       "          var s = document.createElement('script');\n",
       "          document.getElementsByTagName(\"head\")[0].appendChild(s);\n",
       "          s.async = true;\n",
       "          s.onload = () => {\n",
       "            VEGA_DEBUG[key] = version;\n",
       "            return resolve(paths[lib]);\n",
       "          };\n",
       "          s.onerror = () => reject(`Error loading script: ${paths[lib]}`);\n",
       "          s.src = paths[lib];\n",
       "        });\n",
       "    }\n",
       "\n",
       "    function showError(err) {\n",
       "      outputDiv.innerHTML = `<div class=\"error\" style=\"color:red;\">${err}</div>`;\n",
       "      throw err;\n",
       "    }\n",
       "\n",
       "    function displayChart(vegaEmbed) {\n",
       "      vegaEmbed(outputDiv, spec, embedOpt)\n",
       "        .catch(err => showError(`Javascript Error: ${err.message}<br>This usually means there's a typo in your chart specification. See the javascript console for the full traceback.`));\n",
       "    }\n",
       "\n",
       "    if(typeof define === \"function\" && define.amd) {\n",
       "      requirejs.config({paths});\n",
       "      require([\"vega-embed\"], displayChart, err => showError(`Error loading script: ${err.message}`));\n",
       "    } else {\n",
       "      maybeLoadScript(\"vega\", \"5\")\n",
       "        .then(() => maybeLoadScript(\"vega-lite\", \"4.17.0\"))\n",
       "        .then(() => maybeLoadScript(\"vega-embed\", \"6\"))\n",
       "        .catch(showError)\n",
       "        .then(() => displayChart(vegaEmbed));\n",
       "    }\n",
       "  })({\"config\": {\"view\": {\"continuousWidth\": 400, \"continuousHeight\": 300}}, \"layer\": [{\"data\": {\"name\": \"data-b11d9738cd9d38cf607b5117656f3004\"}, \"mark\": {\"type\": \"geoshape\", \"filled\": false}, \"encoding\": {\"color\": {\"field\": \"line\", \"type\": \"nominal\"}, \"size\": {\"field\": \"weight\", \"type\": \"quantitative\"}}}, {\"data\": {\"name\": \"data-bbd0c593ad1b441fce4aa0c07f409180\"}, \"mark\": {\"type\": \"geoshape\", \"filled\": false, \"strokeWidth\": 10}}], \"$schema\": \"https://vega.github.io/schema/vega-lite/v4.17.0.json\", \"datasets\": {\"data-b11d9738cd9d38cf607b5117656f3004\": [{\"weight\": 0.3, \"line\": 1, \"type\": \"Feature\", \"geometry\": {\"type\": \"LineString\", \"coordinates\": [[0.0, 0.0], [2.0, 0.0]]}}, {\"weight\": 0.3, \"line\": 1, \"type\": \"Feature\", \"geometry\": {\"type\": \"LineString\", \"coordinates\": [[2.0, 0.0], [4.0, 0.0]]}}, {\"weight\": 0.2, \"line\": 3, \"type\": \"Feature\", \"geometry\": {\"type\": \"LineString\", \"coordinates\": [[2.0, 0.0], [2.0, 2.0]]}}, {\"weight\": 0.3, \"line\": 1, \"type\": \"Feature\", \"geometry\": {\"type\": \"LineString\", \"coordinates\": [[4.0, 0.0], [6.0, 0.0]]}}, {\"weight\": 0.3, \"line\": 1, \"type\": \"Feature\", \"geometry\": {\"type\": \"LineString\", \"coordinates\": [[6.0, 0.0], [8.0, 1.0]]}}, {\"weight\": 0.3, \"line\": 1, \"type\": \"Feature\", \"geometry\": {\"type\": \"LineString\", \"coordinates\": [[8.0, 1.0], [9.0, 3.0]]}}, {\"weight\": 0.3, \"line\": 1, \"type\": \"Feature\", \"geometry\": {\"type\": \"LineString\", \"coordinates\": [[9.0, 3.0], [9.0, 5.0]]}}, {\"weight\": 0.3, \"line\": 2, \"type\": \"Feature\", \"geometry\": {\"type\": \"LineString\", \"coordinates\": [[0.0, 2.0], [2.0, 2.0]]}}, {\"weight\": 0.3, \"line\": 2, \"type\": \"Feature\", \"geometry\": {\"type\": \"LineString\", \"coordinates\": [[2.0, 2.0], [4.0, 2.0]]}}, {\"weight\": 0.2, \"line\": 3, \"type\": \"Feature\", \"geometry\": {\"type\": \"LineString\", \"coordinates\": [[2.0, 2.0], [2.0, 4.0]]}}], \"data-bbd0c593ad1b441fce4aa0c07f409180\": [{\"station\": 0, \"side\": 0, \"line\": 0, \"contraction\": {\"7\": {\"station\": 0, \"side\": 1, \"line\": 1}, \"8\": {\"station\": 0, \"side\": -1, \"line\": 1}}, \"nodeID\": 0, \"type\": \"Feature\", \"geometry\": {\"type\": \"Point\", \"coordinates\": [0.0, 0.0]}}, {\"station\": 2, \"side\": 0, \"line\": 0, \"contraction\": {\"9\": {\"station\": 2, \"side\": 1, \"line\": 1}, \"10\": {\"station\": 2, \"side\": -1, \"line\": 1}, \"35\": {\"station\": 2, \"side\": 1, \"line\": 3}, \"36\": {\"station\": 2, \"side\": -1, \"line\": 3}}, \"nodeID\": 1, \"type\": \"Feature\", \"geometry\": {\"type\": \"Point\", \"coordinates\": [2.0, 0.0]}}, {\"station\": 4, \"side\": 0, \"line\": 0, \"contraction\": {\"11\": {\"station\": 4, \"side\": 1, \"line\": 1}, \"12\": {\"station\": 4, \"side\": -1, \"line\": 1}}, \"nodeID\": 2, \"type\": \"Feature\", \"geometry\": {\"type\": \"Point\", \"coordinates\": [4.0, 0.0]}}, {\"station\": 6, \"side\": 0, \"line\": 0, \"contraction\": {\"13\": {\"station\": 6, \"side\": 1, \"line\": 1}, \"14\": {\"station\": 6, \"side\": -1, \"line\": 1}}, \"nodeID\": 3, \"type\": \"Feature\", \"geometry\": {\"type\": \"Point\", \"coordinates\": [6.0, 0.0]}}, {\"station\": 18, \"side\": 0, \"line\": 0, \"contraction\": {\"15\": {\"station\": 18, \"side\": 1, \"line\": 1}, \"16\": {\"station\": 18, \"side\": -1, \"line\": 1}}, \"nodeID\": 4, \"type\": \"Feature\", \"geometry\": {\"type\": \"Point\", \"coordinates\": [8.0, 1.0]}}, {\"station\": 39, \"side\": 0, \"line\": 0, \"contraction\": {\"17\": {\"station\": 39, \"side\": 1, \"line\": 1}, \"18\": {\"station\": 39, \"side\": -1, \"line\": 1}}, \"nodeID\": 5, \"type\": \"Feature\", \"geometry\": {\"type\": \"Point\", \"coordinates\": [9.0, 3.0]}}, {\"station\": 59, \"side\": 0, \"line\": 0, \"contraction\": {\"19\": {\"station\": 59, \"side\": 1, \"line\": 1}, \"20\": {\"station\": 59, \"side\": -1, \"line\": 1}}, \"nodeID\": 6, \"type\": \"Feature\", \"geometry\": {\"type\": \"Point\", \"coordinates\": [9.0, 5.0]}}, {\"station\": 20, \"side\": 0, \"line\": 0, \"contraction\": {\"24\": {\"station\": 20, \"side\": 1, \"line\": 2}, \"25\": {\"station\": 20, \"side\": -1, \"line\": 2}}, \"nodeID\": 7, \"type\": \"Feature\", \"geometry\": {\"type\": \"Point\", \"coordinates\": [0.0, 2.0]}}, {\"station\": 22, \"side\": 0, \"line\": 0, \"contraction\": {\"26\": {\"station\": 22, \"side\": 1, \"line\": 2}, \"27\": {\"station\": 22, \"side\": -1, \"line\": 2}, \"33\": {\"station\": 22, \"side\": 1, \"line\": 3}, \"34\": {\"station\": 22, \"side\": -1, \"line\": 3}}, \"nodeID\": 8, \"type\": \"Feature\", \"geometry\": {\"type\": \"Point\", \"coordinates\": [2.0, 2.0]}}, {\"station\": 24, \"side\": 0, \"line\": 0, \"contraction\": {\"28\": {\"station\": 24, \"side\": 1, \"line\": 2}, \"29\": {\"station\": 24, \"side\": -1, \"line\": 2}}, \"nodeID\": 9, \"type\": \"Feature\", \"geometry\": {\"type\": \"Point\", \"coordinates\": [4.0, 2.0]}}, {\"station\": 42, \"side\": 0, \"line\": 0, \"contraction\": {\"31\": {\"station\": 42, \"side\": 1, \"line\": 3}, \"32\": {\"station\": 42, \"side\": -1, \"line\": 3}}, \"nodeID\": 10, \"type\": \"Feature\", \"geometry\": {\"type\": \"Point\", \"coordinates\": [2.0, 4.0]}}]}}, {\"mode\": \"vega-lite\"});\n",
       "</script>"
      ],
      "text/plain": [
       "alt.LayerChart(...)"
      ]
     },
     "execution_count": 3,
     "metadata": {},
     "output_type": "execute_result"
    }
   ],
   "source": [
    "dataset = MetroDataset(CONFIG.lines, init_nb=20)\n",
    "num_nodes = dataset.cg.num_nodes()\n",
    "dataset.cg.altair_graph(dataset.cg.graph, 10)"
   ]
  },
  {
   "cell_type": "code",
   "execution_count": 8,
   "metadata": {},
   "outputs": [],
   "source": [
    "model = MetroModel(embedding_size=8, num_nodes=num_nodes, neighbor_nb=2, input_size=1, gsl_mode=\"embedding\", lr=1e-3)"
   ]
  },
  {
   "cell_type": "code",
   "execution_count": 32,
   "metadata": {},
   "outputs": [
    {
     "name": "stderr",
     "output_type": "stream",
     "text": [
      "GPU available: True (cuda), used: False\n",
      "TPU available: False, using: 0 TPU cores\n",
      "IPU available: False, using: 0 IPUs\n",
      "HPU available: False, using: 0 HPUs\n",
      "c:\\Users\\simon\\Projets\\CountryTrends\\.conda\\lib\\site-packages\\pytorch_lightning\\trainer\\setup.py:176: PossibleUserWarning: GPU available but not used. Set `accelerator` and `devices` using `Trainer(accelerator='gpu', devices=1)`.\n",
      "  rank_zero_warn(\n",
      "c:\\Users\\simon\\Projets\\CountryTrends\\.conda\\lib\\site-packages\\pytorch_lightning\\trainer\\connectors\\logger_connector\\logger_connector.py:67: UserWarning: Starting from v1.9.0, `tensorboardX` has been removed as a dependency of the `pytorch_lightning` package, due to potential conflicts with other packages in the ML ecosystem. For this reason, `logger=True` will use `CSVLogger` as the default logger, unless the `tensorboard` or `tensorboardX` packages are found. Please `pip install lightning[extra]` or one of them to enable TensorBoard support by default\n",
      "  warning_cache.warn(\n",
      "\n",
      "  | Name                   | Type      | Params\n",
      "-----------------------------------------------------\n",
      "0 | node_embeddings_start  | Embedding | 296   \n",
      "1 | node_embeddings_target | Embedding | 296   \n",
      "2 | _linear1               | Linear    | 72    \n",
      "3 | _linear2               | Linear    | 72    \n",
      "4 | graph_layer            | GraphConv | 3     \n",
      "5 | linear                 | Linear    | 1.4 K \n",
      "6 | softmax                | Softmax   | 0     \n",
      "-----------------------------------------------------\n",
      "3.5 K     Trainable params\n",
      "0         Non-trainable params\n",
      "3.5 K     Total params\n",
      "0.014     Total estimated model params size (MB)\n",
      "c:\\Users\\simon\\Projets\\CountryTrends\\.conda\\lib\\site-packages\\pytorch_lightning\\trainer\\connectors\\data_connector.py:224: PossibleUserWarning: The dataloader, train_dataloader, does not have many workers which may be a bottleneck. Consider increasing the value of the `num_workers` argument` (try 12 which is the number of cpus on this machine) in the `DataLoader` init to improve performance.\n",
      "  rank_zero_warn(\n"
     ]
    },
    {
     "name": "stdout",
     "output_type": "stream",
     "text": [
      "Epoch 99: 100%|██████████| 248/248 [00:01<00:00, 130.39it/s, loss=0.048, v_num=53]  "
     ]
    },
    {
     "name": "stderr",
     "output_type": "stream",
     "text": [
      "`Trainer.fit` stopped: `max_epochs=100` reached.\n"
     ]
    },
    {
     "name": "stdout",
     "output_type": "stream",
     "text": [
      "Epoch 99: 100%|██████████| 248/248 [00:01<00:00, 129.84it/s, loss=0.048, v_num=53]\n"
     ]
    }
   ],
   "source": [
    "train_loader = torch.utils.data.DataLoader(dataset, batch_size=8)\n",
    "trainer = Trainer(max_epochs=100)\n",
    "trainer.fit(model, train_loader)"
   ]
  },
  {
   "cell_type": "code",
   "execution_count": 33,
   "metadata": {},
   "outputs": [],
   "source": [
    "nodevec1 = model.node_embeddings_start(model._idx)\n",
    "nodevec2 = model.node_embeddings_target(model._idx)\n",
    "\n",
    "nodevec1 = torch.tanh(model._linear1(nodevec1)).detach().numpy()\n",
    "nodevec2 = torch.tanh(model._linear2(nodevec2)).detach().numpy()"
   ]
  },
  {
   "cell_type": "code",
   "execution_count": 34,
   "metadata": {},
   "outputs": [
    {
     "data": {
      "text/plain": [
       "(74, 2)"
      ]
     },
     "execution_count": 34,
     "metadata": {},
     "output_type": "execute_result"
    }
   ],
   "source": [
    "reducer = umap.UMAP()\n",
    "embedding = reducer.fit_transform(np.concatenate((nodevec1, nodevec2)))\n",
    "embedding.shape"
   ]
  },
  {
   "cell_type": "code",
   "execution_count": 38,
   "metadata": {},
   "outputs": [],
   "source": [
    "node2line = nx.get_node_attributes(dataset.cg.graph, \"line\")\n",
    "cmap = plt.get_cmap('Pastel1')\n",
    "c = [cmap(node2line[x]) for x in model._idx.detach().numpy()]\n",
    "\n",
    "node2station = nx.get_node_attributes(dataset.cg.graph, \"station\")\n",
    "cmap = plt.get_cmap('Pastel2')\n",
    "edgecolors = [cmap(node2station[x]) for x in model._idx.detach().numpy()]"
   ]
  },
  {
   "cell_type": "code",
   "execution_count": 39,
   "metadata": {},
   "outputs": [
    {
     "data": {
      "text/plain": [
       "Text(0.5, 1.0, 'UMAP projection of node embeddings')"
      ]
     },
     "execution_count": 39,
     "metadata": {},
     "output_type": "execute_result"
    },
    {
     "data": {
      "image/png": "[encoded data removed]",
      "text/plain": [
       "<Figure size 640x480 with 1 Axes>"
      ]
     },
     "metadata": {},
     "output_type": "display_data"
    }
   ],
   "source": [
    "plt.scatter(\n",
    "    embedding[len(c):, 0],\n",
    "    embedding[len(c):, 1],\n",
    "    c=c,\n",
    "    edgecolors=edgecolors,\n",
    "    marker='.', label=\"starts\")\n",
    "\n",
    "plt.scatter(\n",
    "    embedding[:len(c), 0],\n",
    "    embedding[:len(c), 1],\n",
    "    c=c,\n",
    "    edgecolors=edgecolors,\n",
    "    marker='*', label=\"targets\")\n",
    "\n",
    "plt.gca().set_aspect('equal', 'datalim')\n",
    "plt.legend()\n",
    "plt.title('UMAP projection of node embeddings', fontsize=24)"
   ]
  },
  {
   "cell_type": "code",
   "execution_count": 7,
   "metadata": {},
   "outputs": [
    {
     "data": {
      "text/plain": [
       "defaultdict(list,\n",
       "            {0: [0, 7, 8],\n",
       "             2: [1, 9, 10, 35, 36],\n",
       "             4: [2, 11, 12],\n",
       "             6: [3, 13, 14],\n",
       "             18: [4, 15, 16],\n",
       "             39: [5, 17, 18],\n",
       "             59: [6, 19, 20],\n",
       "             20: [21, 24, 25],\n",
       "             22: [22, 26, 27, 33, 34],\n",
       "             24: [23, 28, 29],\n",
       "             42: [30, 31, 32]})"
      ]
     },
     "execution_count": 7,
     "metadata": {},
     "output_type": "execute_result"
    }
   ],
   "source": [
    "station2nodes = defaultdict(list)\n",
    "\n",
    "for node, station in nx.get_node_attributes(dataset.cg.graph, \"station\").items():\n",
    "    station2nodes[station].append(node)"
   ]
  },
  {
   "cell_type": "code",
   "execution_count": null,
   "metadata": {},
   "outputs": [],
   "source": []
  },
  {
   "cell_type": "code",
   "execution_count": 44,
   "metadata": {},
   "outputs": [
    {
     "ename": "ValueError",
     "evalue": "operands could not be broadcast together with shapes (10,10) (10,0,10) ",
     "output_type": "error",
     "traceback": [
      "\u001b[1;31m---------------------------------------------------------------------------\u001b[0m",
      "\u001b[1;31mValueError\u001b[0m                                Traceback (most recent call last)",
      "Cell \u001b[1;32mIn[44], line 1\u001b[0m\n\u001b[1;32m----> 1\u001b[0m np\u001b[39m.\u001b[39;49meye(\u001b[39m10\u001b[39;49m) \u001b[39m*\u001b[39;49m np\u001b[39m.\u001b[39;49mrandom\u001b[39m.\u001b[39;49mrand(\u001b[39m10\u001b[39;49m, \u001b[39m0\u001b[39;49m, \u001b[39m10\u001b[39;49m)\n",
      "\u001b[1;31mValueError\u001b[0m: operands could not be broadcast together with shapes (10,10) (10,0,10) "
     ]
    }
   ],
   "source": [
    "np.eye(10) * np.random.rand(10, 0, 10)"
   ]
  }
 ],
 "metadata": {
  "kernelspec": {
   "display_name": "Python 3",
   "language": "python",
   "name": "python3"
  },
  "language_info": {
   "codemirror_mode": {
    "name": "ipython",
    "version": 3
   },
   "file_extension": ".py",
   "mimetype": "text/x-python",
   "name": "python",
   "nbconvert_exporter": "python",
   "pygments_lexer": "ipython3",
   "version": "3.10.9"
  },
  "orig_nbformat": 4
 },
 "nbformat": 4,
 "nbformat_minor": 2
}
