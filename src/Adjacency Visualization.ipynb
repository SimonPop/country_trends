{
 "cells": [
  {
   "attachments": {},
   "cell_type": "markdown",
   "metadata": {},
   "source": [
    "# Dataset"
   ]
  },
  {
   "cell_type": "code",
   "execution_count": null,
   "metadata": {},
   "outputs": [],
   "source": [
    "import torch\n",
    "import pandas as pd\n",
    "from whale_dataset import WhaleDataset\n",
    "from tslearn.clustering import TimeSeriesKMeans\n",
    "import networkx as nx\n",
    "from torch_geometric_temporal.nn import MTGNN\n",
    "from config import CONFIG\n",
    "from pathlib import Path\n",
    "import numpy as np\n",
    "import contextily as cx\n",
    "import matplotlib.pyplot as plt\n",
    "from pyproj import Proj"
   ]
  },
  {
   "attachments": {},
   "cell_type": "markdown",
   "metadata": {},
   "source": [
    "## Data & weights"
   ]
  },
  {
   "cell_type": "code",
   "execution_count": null,
   "metadata": {},
   "outputs": [],
   "source": [
    "dataset = WhaleDataset(CONFIG.model_config.seq_length - 1)"
   ]
  },
  {
   "cell_type": "code",
   "execution_count": null,
   "metadata": {},
   "outputs": [],
   "source": [
    "PATH = Path(\"../\") / \"artifacts\" / \"model.pt\"\n",
    "model_config = CONFIG.model_config\n",
    "model_config.num_nodes = len(dataset.dataframe.columns)\n",
    "model = MTGNN(**model_config.dict())\n",
    "model.load_state_dict(torch.load(PATH))\n",
    "model = model.eval()"
   ]
  },
  {
   "attachments": {},
   "cell_type": "markdown",
   "metadata": {},
   "source": [
    "## Time Series"
   ]
  },
  {
   "cell_type": "code",
   "execution_count": null,
   "metadata": {},
   "outputs": [],
   "source": [
    "# km = TimeSeriesKMeans(n_clusters=3, metric=\"dtw\")\n",
    "# labels = km.fit_predict(dataset.dataframe.values.T)\n",
    "# cmap = ['red', 'blue', 'green']\n",
    "# dataset.dataframe.plot(color=[cmap[i] for i in labels])"
   ]
  },
  {
   "attachments": {},
   "cell_type": "markdown",
   "metadata": {},
   "source": [
    "## Graph"
   ]
  },
  {
   "cell_type": "code",
   "execution_count": null,
   "metadata": {},
   "outputs": [],
   "source": [
    "A_tilde = model._graph_constructor(model._idx, FE=None)\n",
    "# A_tilde = dataset.A_pathway\n",
    "graph = nx.from_numpy_array(A_tilde.cpu().detach().numpy())"
   ]
  },
  {
   "cell_type": "code",
   "execution_count": null,
   "metadata": {},
   "outputs": [],
   "source": [
    "# Attributes\n",
    "edge_weights = nx.get_edge_attributes(graph, 'weight')\n",
    "labels = {x: c for x, c in  zip(graph.nodes, dataset.places)}\n",
    "p = Proj('EPSG:4326')\n",
    "cmap = plt.get_cmap('viridis')\n",
    "pos = [(pos[1], pos[0]) for _, _, pos, _ in dataset.places.values()]\n",
    "colors = [cmap(x) for x in edge_weights.values()]"
   ]
  },
  {
   "cell_type": "code",
   "execution_count": null,
   "metadata": {},
   "outputs": [],
   "source": [
    "fig, ax = plt.subplots(figsize=(20,6))\n",
    "nx.draw(graph, pos, labels=labels, node_size=0.1, with_labels=True, width=np.array(list(edge_weights.values())), ax=ax, edge_color=colors, connectionstyle=\"arc3,rad=0.1\")\n",
    "cx.add_basemap(ax, crs=\"EPSG:4326\")"
   ]
  }
 ],
 "metadata": {
  "kernelspec": {
   "display_name": "Python 3",
   "language": "python",
   "name": "python3"
  },
  "language_info": {
   "codemirror_mode": {
    "name": "ipython",
    "version": 3
   },
   "file_extension": ".py",
   "mimetype": "text/x-python",
   "name": "python",
   "nbconvert_exporter": "python",
   "pygments_lexer": "ipython3",
   "version": "3.10.9"
  },
  "orig_nbformat": 4
 },
 "nbformat": 4,
 "nbformat_minor": 2
}
