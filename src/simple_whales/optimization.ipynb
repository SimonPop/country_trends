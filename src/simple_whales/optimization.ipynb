{
 "cells": [
  {
   "cell_type": "code",
   "execution_count": 2,
   "metadata": {},
   "outputs": [],
   "source": [
    "import pandas as pd\n",
    "import numpy as np\n",
    "import matplotlib.pyplot as plt\n",
    "import requests"
   ]
  },
  {
   "cell_type": "code",
   "execution_count": 3,
   "metadata": {},
   "outputs": [],
   "source": [
    "results = requests.get('https://whaletrips.org/map/js/getallcountries.php')"
   ]
  },
  {
   "cell_type": "code",
   "execution_count": 25,
   "metadata": {},
   "outputs": [],
   "source": [
    "results.json()[0]\n",
    "\n",
    "pd.DataFrame()\n",
    "\n",
    "animals = [\n",
    "    'Orca',\n",
    "    'Glattwal',\n",
    "    'Buckelwal',\n",
    "    'Blauwal',\n",
    "    'Pottwal',\n",
    "    'Finnwal',\n",
    "    'Beluga',\n",
    "    'Narwal',\n",
    "    'Zwergwal',\n",
    "    'Grauwal'\n",
    "]\n",
    "\n",
    "season = [\n",
    "    'frühjahr',\n",
    "    'sommer',\n",
    "    'herbst',\n",
    "    'winter',\n",
    "]\n",
    "\n",
    "de2en = {\n",
    "    'Orca': 'Orca', \n",
    "    'Glattwal': 'Right Whale', \n",
    "    'Buckelwal': 'Humpback Whale', \n",
    "    'Blauwal': 'Blue Whale', \n",
    "    'Pottwal': 'Sperm Whale', \n",
    "    'Finnwal': 'Fin Whale', \n",
    "    'Beluga': 'Beluga',\n",
    "    'Narwal': 'Narwhal',\n",
    "    'Zwergwal': 'Minke Whale',\n",
    "    'Grauwal': 'Gray Whale',\n",
    "\n",
    "    'frühjahr': 'spring',\n",
    "    'sommer': 'summer',\n",
    "    'herbst': 'autumn',\n",
    "    'winter': 'winter'\n",
    "}\n",
    "\n",
    "columns = [\n",
    "    de2en[x] + '_' + de2en[y] for x in animals for y in season\n",
    "]\n",
    "\n",
    "rows = [\n",
    "    result['countryName'] for result in results.json()\n",
    "]\n",
    "\n",
    "animal2col = {\n",
    "    x: i for i, x in enumerate(animals)\n",
    "}\n",
    "\n",
    "season2col = {\n",
    "    x: i for i, x in enumerate(season)\n",
    "}\n",
    "\n",
    "values = np.zeros((len(rows), len(columns)))\n",
    "\n",
    "for i, result in enumerate(results.json()):\n",
    "    for x in result['filter']:\n",
    "        name = x['name']\n",
    "        col = 4*animal2col[name]\n",
    "        seasons = x['properties']\n",
    "        if type(seasons) == dict:\n",
    "            seasons = x['properties'].values()\n",
    "        for season in seasons:\n",
    "            values[i][col+season2col[season['season']]] = 1"
   ]
  },
  {
   "cell_type": "code",
   "execution_count": 34,
   "metadata": {},
   "outputs": [],
   "source": [
    "df = pd.DataFrame(\n",
    "    index=rows,\n",
    "    columns=columns,\n",
    ")\n",
    "\n",
    "df[columns] = values"
   ]
  },
  {
   "attachments": {},
   "cell_type": "markdown",
   "metadata": {},
   "source": [
    "# Fitness optimization"
   ]
  },
  {
   "cell_type": "code",
   "execution_count": 56,
   "metadata": {},
   "outputs": [],
   "source": [
    "from scipy.optimize import minimize, LinearConstraint"
   ]
  },
  {
   "cell_type": "code",
   "execution_count": 53,
   "metadata": {},
   "outputs": [],
   "source": [
    "def fitness(adj_array):\n",
    "    adj_matrix = adj_array.reshape(len(df), len(df))\n",
    "    external_sum = 0\n",
    "    for x_i in values.T:\n",
    "        internal_sum = 0\n",
    "        for x_j in values.T:\n",
    "            internal_sum += np.matmul(adj_matrix,x_j)\n",
    "        external_sum += np.linalg.norm(x_i - internal_sum)\n",
    "    return external_sum"
   ]
  },
  {
   "cell_type": "code",
   "execution_count": 61,
   "metadata": {},
   "outputs": [],
   "source": [
    "constraints = []\n",
    "\n",
    "# TODO: simplify to use (m, n) matrice instead\n",
    "\n",
    "# Constraints on columns = 1\n",
    "for i in range(len(df)):\n",
    "    constraint_sums_one = np.zeros((len(df), len(df)))\n",
    "    constraint_sums_one[:,i] = 1\n",
    "    constraints.append(LinearConstraint(constraint_sums_one.reshape(1, -1), lb=1, ub=1))\n",
    "\n",
    "# Constraints on a_i_j >= 0\n",
    "for i in range(len(df)):\n",
    "    for j in range(len(df)):\n",
    "        constraint_postive = np.zeros((len(df), len(df)))\n",
    "        constraint_postive[i,j] = 1\n",
    "        constraints.append(LinearConstraint(constraint_postive.reshape(1, -1), lb=0))"
   ]
  },
  {
   "cell_type": "code",
   "execution_count": 66,
   "metadata": {},
   "outputs": [
    {
     "data": {
      "text/plain": [
       " message: Optimization terminated successfully\n",
       " success: True\n",
       "  status: 0\n",
       "     fun: 801.880601633848\n",
       "       x: [ 4.613e-01  1.939e-02 ...  3.541e-02  5.195e-01]\n",
       "     nit: 31\n",
       "     jac: [ 5.225e+01  3.483e+01 ...  4.354e+01  1.742e+01]\n",
       "    nfev: 13752\n",
       "    njev: 31"
      ]
     },
     "execution_count": 66,
     "metadata": {},
     "output_type": "execute_result"
    }
   ],
   "source": [
    "minimize(fitness, np.identity(len(df)).reshape(-1), constraints=constraints)"
   ]
  }
 ],
 "metadata": {
  "kernelspec": {
   "display_name": "Python 3",
   "language": "python",
   "name": "python3"
  },
  "language_info": {
   "codemirror_mode": {
    "name": "ipython",
    "version": 3
   },
   "file_extension": ".py",
   "mimetype": "text/x-python",
   "name": "python",
   "nbconvert_exporter": "python",
   "pygments_lexer": "ipython3",
   "version": "3.10.9"
  },
  "orig_nbformat": 4
 },
 "nbformat": 4,
 "nbformat_minor": 2
}
