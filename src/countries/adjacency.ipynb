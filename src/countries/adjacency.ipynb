{
 "cells": [
  {
   "attachments": {},
   "cell_type": "markdown",
   "metadata": {},
   "source": [
    "# Adjacency Matrix visualization"
   ]
  },
  {
   "cell_type": "code",
   "execution_count": null,
   "metadata": {},
   "outputs": [],
   "source": [
    "import torch\n",
    "import pandas as pd\n",
    "from country_dataset import Dataset\n",
    "import networkx as nx\n",
    "from torch_geometric_temporal.nn import MTGNN\n",
    "from config import CONFIG\n",
    "from pathlib import Path\n",
    "import numpy as np\n",
    "import contextily as cx\n",
    "import matplotlib.pyplot as plt\n",
    "from pyproj import Proj"
   ]
  },
  {
   "attachments": {},
   "cell_type": "markdown",
   "metadata": {},
   "source": [
    "## Data & Weights"
   ]
  },
  {
   "cell_type": "code",
   "execution_count": null,
   "metadata": {},
   "outputs": [],
   "source": [
    "dataset = Dataset(CONFIG.model_config.seq_length - 1, countries=CONFIG.countries)"
   ]
  },
  {
   "cell_type": "code",
   "execution_count": null,
   "metadata": {},
   "outputs": [],
   "source": [
    "country_df = pd.read_csv('../country.csv', delimiter='\\t')\n",
    "pos_dict = country_df.set_index('name')[['latitude ', 'longitude ']].to_dict()"
   ]
  },
  {
   "cell_type": "code",
   "execution_count": null,
   "metadata": {},
   "outputs": [],
   "source": [
    "PATH = Path(\"../\") / \"artifacts\" / \"model.pt\"\n",
    "model_config = CONFIG.model_config\n",
    "model_config.num_nodes = len(dataset.dataframe.columns)\n",
    "model = MTGNN(**model_config.dict())\n",
    "model.load_state_dict(torch.load(PATH))\n",
    "model = model.eval()"
   ]
  },
  {
   "attachments": {},
   "cell_type": "markdown",
   "metadata": {},
   "source": [
    "## Graph"
   ]
  },
  {
   "cell_type": "code",
   "execution_count": null,
   "metadata": {},
   "outputs": [],
   "source": [
    "node_labels = dataset.dataframe.columns"
   ]
  },
  {
   "cell_type": "code",
   "execution_count": null,
   "metadata": {},
   "outputs": [],
   "source": [
    "A_tilde = model._graph_constructor(model._idx, FE=None)\n",
    "graph = nx.from_numpy_array(A_tilde.cpu().detach().numpy()) #TODO: utiliser un graph directed."
   ]
  },
  {
   "cell_type": "code",
   "execution_count": null,
   "metadata": {},
   "outputs": [],
   "source": [
    "# Attributes\n",
    "edge_weights = nx.get_edge_attributes(graph, 'weight')\n",
    "labels = {x: c for x, c in  zip(graph.nodes, node_labels)}\n",
    "p = Proj('EPSG:4326')\n",
    "cmap = plt.get_cmap('viridis')\n",
    "colors = [cmap(x) for x in edge_weights.values()]\n",
    "pos = {n: p(pos_dict['longitude '][c], pos_dict['latitude '][c]) for n, c in zip(graph.nodes, node_labels)}"
   ]
  },
  {
   "cell_type": "code",
   "execution_count": null,
   "metadata": {},
   "outputs": [],
   "source": [
    "fig, ax = plt.subplots(figsize=(20,6))\n",
    "nx.draw(graph, pos, labels=labels,  node_size=0.1, with_labels=True, width=np.array(list(edge_weights.values())), ax=ax, edge_color=colors, connectionstyle=\"arc3,rad=0.1\")\n",
    "cx.add_basemap(ax, crs=\"EPSG:4326\")"
   ]
  }
 ],
 "metadata": {
  "kernelspec": {
   "display_name": "Python 3",
   "language": "python",
   "name": "python3"
  },
  "language_info": {
   "codemirror_mode": {
    "name": "ipython",
    "version": 3
   },
   "file_extension": ".py",
   "mimetype": "text/x-python",
   "name": "python",
   "nbconvert_exporter": "python",
   "pygments_lexer": "ipython3",
   "version": "3.10.9"
  },
  "orig_nbformat": 4
 },
 "nbformat": 4,
 "nbformat_minor": 2
}
