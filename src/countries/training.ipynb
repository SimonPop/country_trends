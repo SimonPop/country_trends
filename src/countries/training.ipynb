{
 "cells": [
  {
   "attachments": {},
   "cell_type": "markdown",
   "metadata": {},
   "source": [
    "# Training"
   ]
  },
  {
   "cell_type": "code",
   "execution_count": 1,
   "metadata": {},
   "outputs": [
    {
     "name": "stderr",
     "output_type": "stream",
     "text": [
      "c:\\Users\\simon\\Projets\\CountryTrends\\.conda\\lib\\site-packages\\tqdm\\auto.py:21: TqdmWarning: IProgress not found. Please update jupyter and ipywidgets. See https://ipywidgets.readthedocs.io/en/stable/user_install.html\n",
      "  from .autonotebook import tqdm as notebook_tqdm\n"
     ]
    }
   ],
   "source": [
    "import pandas as pd\n",
    "import optuna\n",
    "import numpy as np\n",
    "import torch\n",
    "from dataset import Dataset\n",
    "from torch_geometric_temporal.nn import MTGNN\n",
    "from torch.utils.data import DataLoader\n",
    "import torch.optim as optim\n",
    "from tqdm import tqdm\n",
    "from config import CONFIG\n",
    "from pathlib import Path"
   ]
  },
  {
   "attachments": {},
   "cell_type": "markdown",
   "metadata": {},
   "source": [
    "## Dataset"
   ]
  },
  {
   "cell_type": "code",
   "execution_count": 2,
   "metadata": {},
   "outputs": [],
   "source": [
    "dataset = Dataset(CONFIG.model_config.seq_length - 1, countries=CONFIG.countries)\n",
    "train_dataset, val_dataset = torch.utils.data.random_split(dataset, [len(dataset)-100, 100])"
   ]
  },
  {
   "cell_type": "code",
   "execution_count": null,
   "metadata": {},
   "outputs": [],
   "source": [
    "num_nodes=len(dataset.dataframe.columns)"
   ]
  },
  {
   "cell_type": "code",
   "execution_count": null,
   "metadata": {},
   "outputs": [],
   "source": [
    "def train(model, optimizer, criterion, loader, epochs):\n",
    "    for epoch in range(epochs):\n",
    "        running_loss = 0.0\n",
    "        for i, (x, y) in enumerate(loader):\n",
    "            optimizer.zero_grad()\n",
    "            outputs = model(x)\n",
    "\n",
    "            loss = criterion(outputs, y)\n",
    "            loss.backward()\n",
    "            optimizer.step()\n",
    "            running_loss += loss.item()\n",
    "        # print(f'[{epoch + 1}, {i + 1:5d}] loss: {running_loss/len(loader):.3f}')\n",
    "    return running_loss / len(loader)"
   ]
  },
  {
   "cell_type": "code",
   "execution_count": null,
   "metadata": {},
   "outputs": [],
   "source": [
    "def objective(trial):\n",
    "    \n",
    "    batch_size = int(trial.suggest_discrete_uniform(\"batch_size\", 2, 8, 2))\n",
    "    train_loader = DataLoader(train_dataset, batch_size=batch_size)\n",
    "    val_loader = DataLoader(train_dataset, batch_size=batch_size)\n",
    "\n",
    "    model = MTGNN(\n",
    "        gcn_true=True,\n",
    "        build_adj=True,\n",
    "        num_nodes=num_nodes,\n",
    "        seq_length=dataset.input_length + 1,\n",
    "        kernel_set=[1], \n",
    "        kernel_size=1,\n",
    "        gcn_depth=trial.suggest_int(\"gcn_depth\", 1, 8),\n",
    "        dropout=0.3,\n",
    "        subgraph_size=trial.suggest_int(\"subgraph_size\", 1, 8),  # Warning: need to be lower than num_nodes, number of neighbors in the generated Adj matrix.\n",
    "        node_dim=4, \n",
    "        dilation_exponential=1, # Using small enough sequences that we do not need dilation.\n",
    "        conv_channels=trial.suggest_int(\"conv_channels\", 1, 32),\n",
    "        residual_channels=trial.suggest_int(\"residual_channels\", 1, 32),\n",
    "        skip_channels=trial.suggest_int(\"skip_channels\", 1, 32),\n",
    "        end_channels=trial.suggest_int(\"end_channels\", 1, 32),\n",
    "        in_dim=1, # Number of features per node (1 in our case) \n",
    "        out_dim=9, # Correspond to the seq length in y\n",
    "        layers=trial.suggest_int(\"layers\", 1, 8),\n",
    "        propalpha=0.05,\n",
    "        tanhalpha=3,\n",
    "        layer_norm_affline=True\n",
    "    )\n",
    "\n",
    "    criterion = torch.nn.L1Loss()\n",
    "    optimizer = optim.SGD(model.parameters(), lr=0.001, momentum=CONFIG.momentum)\n",
    "    \n",
    "    train_final_loss = train(model, optimizer, criterion, train_loader, 50)\n",
    "    eval_final_loss = train(model, optimizer, criterion, val_loader, 1)\n",
    "\n",
    "    return eval_final_loss"
   ]
  },
  {
   "cell_type": "code",
   "execution_count": null,
   "metadata": {},
   "outputs": [],
   "source": [
    "study = optuna.create_study(direction=\"minimize\")\n",
    "study.optimize(objective, n_trials=100)\n",
    "\n",
    "study.best_params"
   ]
  },
  {
   "cell_type": "code",
   "execution_count": null,
   "metadata": {},
   "outputs": [],
   "source": []
  },
  {
   "cell_type": "code",
   "execution_count": null,
   "metadata": {},
   "outputs": [],
   "source": []
  },
  {
   "cell_type": "code",
   "execution_count": null,
   "metadata": {},
   "outputs": [],
   "source": []
  },
  {
   "cell_type": "code",
   "execution_count": null,
   "metadata": {},
   "outputs": [],
   "source": []
  },
  {
   "cell_type": "code",
   "execution_count": null,
   "metadata": {},
   "outputs": [],
   "source": []
  }
 ],
 "metadata": {
  "kernelspec": {
   "display_name": "Python 3",
   "language": "python",
   "name": "python3"
  },
  "language_info": {
   "codemirror_mode": {
    "name": "ipython",
    "version": 3
   },
   "file_extension": ".py",
   "mimetype": "text/x-python",
   "name": "python",
   "nbconvert_exporter": "python",
   "pygments_lexer": "ipython3",
   "version": "3.10.9"
  },
  "orig_nbformat": 4
 },
 "nbformat": 4,
 "nbformat_minor": 2
}
