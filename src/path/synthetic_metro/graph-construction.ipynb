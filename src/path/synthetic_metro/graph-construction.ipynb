{
 "cells": [
  {
   "attachments": {},
   "cell_type": "markdown",
   "metadata": {},
   "source": [
    "# Graph Construction"
   ]
  },
  {
   "cell_type": "code",
   "execution_count": 1,
   "metadata": {},
   "outputs": [
    {
     "name": "stderr",
     "output_type": "stream",
     "text": [
      "c:\\Users\\simon\\Projets\\CountryTrends\\.conda\\lib\\site-packages\\tqdm\\auto.py:21: TqdmWarning: IProgress not found. Please update jupyter and ipywidgets. See https://ipywidgets.readthedocs.io/en/stable/user_install.html\n",
      "  from .autonotebook import tqdm as notebook_tqdm\n",
      "c:\\Users\\simon\\Projets\\CountryTrends\\.conda\\lib\\site-packages\\geopandas\\_compat.py:123: UserWarning: The Shapely GEOS version (3.11.1-CAPI-1.17.1) is incompatible with the GEOS version PyGEOS was compiled with (3.10.4-CAPI-1.16.2). Conversions between both will be slow.\n",
      "  warnings.warn(\n",
      "c:\\Users\\simon\\Projets\\CountryTrends\\.conda\\lib\\site-packages\\momepy\\coins.py:15: UserWarning: Shapely 2.0 is installed, but because PyGEOS is also installed, GeoPandas will still use PyGEOS by default for now. To force to use and test Shapely 2.0, you have to set the environment variable USE_PYGEOS=0. You can do this before starting the Python process, or in your code before importing geopandas:\n",
      "\n",
      "import os\n",
      "os.environ['USE_PYGEOS'] = '0'\n",
      "import geopandas\n",
      "\n",
      "In a future release, GeoPandas will switch to using Shapely by default. If you are using PyGEOS directly (calling PyGEOS functions on geometries from GeoPandas), this will then stop working and you are encouraged to migrate from PyGEOS to Shapely 2.0 (https://shapely.readthedocs.io/en/latest/migration_pygeos.html).\n",
      "  import geopandas as gpd\n"
     ]
    },
    {
     "data": {
      "text/plain": [
       "<torch._C.Generator at 0x1d11f657bd0>"
      ]
     },
     "execution_count": 1,
     "metadata": {},
     "output_type": "execute_result"
    }
   ],
   "source": [
    "from config import CONFIG\n",
    "from metro_model import MetroModel\n",
    "from metro_dataset import MetroDataset\n",
    "import torch\n",
    "from pytorch_lightning import Trainer\n",
    "from pytorch_lightning.callbacks import ModelCheckpoint\n",
    "import os\n",
    "from pathlib import Path\n",
    "import networkx as nx\n",
    "import numpy as np\n",
    "\n",
    "torch.manual_seed(0)"
   ]
  },
  {
   "cell_type": "code",
   "execution_count": 2,
   "metadata": {},
   "outputs": [
    {
     "name": "stderr",
     "output_type": "stream",
     "text": [
      "c:\\Users\\simon\\Projets\\CountryTrends\\.conda\\lib\\site-packages\\momepy\\utils.py:430: UserWarning: Approach is not set. Defaulting to 'primal'.\n",
      "  warnings.warn(\"Approach is not set. Defaulting to 'primal'.\")\n"
     ]
    },
    {
     "data": {
      "text/html": [
       "\n",
       "<div id=\"altair-viz-143c18ccadff4994ace9d64424f72416\"></div>\n",
       "<script type=\"text/javascript\">\n",
       "  var VEGA_DEBUG = (typeof VEGA_DEBUG == \"undefined\") ? {} : VEGA_DEBUG;\n",
       "  (function(spec, embedOpt){\n",
       "    let outputDiv = document.currentScript.previousElementSibling;\n",
       "    if (outputDiv.id !== \"altair-viz-143c18ccadff4994ace9d64424f72416\") {\n",
       "      outputDiv = document.getElementById(\"altair-viz-143c18ccadff4994ace9d64424f72416\");\n",
       "    }\n",
       "    const paths = {\n",
       "      \"vega\": \"https://cdn.jsdelivr.net/npm//vega@5?noext\",\n",
       "      \"vega-lib\": \"https://cdn.jsdelivr.net/npm//vega-lib?noext\",\n",
       "      \"vega-lite\": \"https://cdn.jsdelivr.net/npm//vega-lite@4.17.0?noext\",\n",
       "      \"vega-embed\": \"https://cdn.jsdelivr.net/npm//vega-embed@6?noext\",\n",
       "    };\n",
       "\n",
       "    function maybeLoadScript(lib, version) {\n",
       "      var key = `${lib.replace(\"-\", \"\")}_version`;\n",
       "      return (VEGA_DEBUG[key] == version) ?\n",
       "        Promise.resolve(paths[lib]) :\n",
       "        new Promise(function(resolve, reject) {\n",
       "          var s = document.createElement('script');\n",
       "          document.getElementsByTagName(\"head\")[0].appendChild(s);\n",
       "          s.async = true;\n",
       "          s.onload = () => {\n",
       "            VEGA_DEBUG[key] = version;\n",
       "            return resolve(paths[lib]);\n",
       "          };\n",
       "          s.onerror = () => reject(`Error loading script: ${paths[lib]}`);\n",
       "          s.src = paths[lib];\n",
       "        });\n",
       "    }\n",
       "\n",
       "    function showError(err) {\n",
       "      outputDiv.innerHTML = `<div class=\"error\" style=\"color:red;\">${err}</div>`;\n",
       "      throw err;\n",
       "    }\n",
       "\n",
       "    function displayChart(vegaEmbed) {\n",
       "      vegaEmbed(outputDiv, spec, embedOpt)\n",
       "        .catch(err => showError(`Javascript Error: ${err.message}<br>This usually means there's a typo in your chart specification. See the javascript console for the full traceback.`));\n",
       "    }\n",
       "\n",
       "    if(typeof define === \"function\" && define.amd) {\n",
       "      requirejs.config({paths});\n",
       "      require([\"vega-embed\"], displayChart, err => showError(`Error loading script: ${err.message}`));\n",
       "    } else {\n",
       "      maybeLoadScript(\"vega\", \"5\")\n",
       "        .then(() => maybeLoadScript(\"vega-lite\", \"4.17.0\"))\n",
       "        .then(() => maybeLoadScript(\"vega-embed\", \"6\"))\n",
       "        .catch(showError)\n",
       "        .then(() => displayChart(vegaEmbed));\n",
       "    }\n",
       "  })({\"config\": {\"view\": {\"continuousWidth\": 400, \"continuousHeight\": 300}}, \"layer\": [{\"data\": {\"name\": \"data-210615a89bbb3ea6b73d5265e29649ce\"}, \"mark\": {\"type\": \"geoshape\", \"filled\": false, \"strokeWidth\": 10}, \"encoding\": {\"color\": {\"field\": \"line\", \"type\": \"nominal\"}}}, {\"data\": {\"name\": \"data-bcab4cf699acef313f5d1960b2e2e5b1\"}, \"mark\": {\"type\": \"geoshape\", \"filled\": false, \"strokeWidth\": 10}}], \"$schema\": \"https://vega.github.io/schema/vega-lite/v4.17.0.json\", \"datasets\": {\"data-210615a89bbb3ea6b73d5265e29649ce\": [{\"weight\": 0.3, \"line\": 1, \"type\": \"Feature\", \"geometry\": {\"type\": \"LineString\", \"coordinates\": [[0.0, 0.0], [1.0, 0.0]]}}, {\"weight\": 0.3, \"line\": 1, \"type\": \"Feature\", \"geometry\": {\"type\": \"LineString\", \"coordinates\": [[1.0, 0.0], [2.0, 0.0]]}}, {\"weight\": 0.3, \"line\": 1, \"type\": \"Feature\", \"geometry\": {\"type\": \"LineString\", \"coordinates\": [[2.0, 0.0], [3.0, 0.0]]}}, {\"weight\": 0.3, \"line\": 1, \"type\": \"Feature\", \"geometry\": {\"type\": \"LineString\", \"coordinates\": [[3.0, 0.0], [4.0, 0.0]]}}, {\"weight\": 0.3, \"line\": 1, \"type\": \"Feature\", \"geometry\": {\"type\": \"LineString\", \"coordinates\": [[4.0, 0.0], [5.0, 0.0]]}}, {\"weight\": 0.3, \"line\": 4, \"type\": \"Feature\", \"geometry\": {\"type\": \"LineString\", \"coordinates\": [[4.0, 0.0], [4.0, 1.0]]}}, {\"weight\": 0.3, \"line\": 1, \"type\": \"Feature\", \"geometry\": {\"type\": \"LineString\", \"coordinates\": [[5.0, 0.0], [6.0, 0.0]]}}, {\"weight\": 0.3, \"line\": 1, \"type\": \"Feature\", \"geometry\": {\"type\": \"LineString\", \"coordinates\": [[6.0, 0.0], [7.0, 0.0]]}}, {\"weight\": 0.3, \"line\": 1, \"type\": \"Feature\", \"geometry\": {\"type\": \"LineString\", \"coordinates\": [[7.0, 0.0], [8.0, 0.0]]}}, {\"weight\": 0.3, \"line\": 1, \"type\": \"Feature\", \"geometry\": {\"type\": \"LineString\", \"coordinates\": [[8.0, 0.0], [9.0, 0.0]]}}, {\"weight\": 0.3, \"line\": 2, \"type\": \"Feature\", \"geometry\": {\"type\": \"LineString\", \"coordinates\": [[0.0, 1.0], [1.0, 1.0]]}}, {\"weight\": 0.3, \"line\": 2, \"type\": \"Feature\", \"geometry\": {\"type\": \"LineString\", \"coordinates\": [[1.0, 1.0], [2.0, 1.0]]}}, {\"weight\": 0.3, \"line\": 2, \"type\": \"Feature\", \"geometry\": {\"type\": \"LineString\", \"coordinates\": [[2.0, 1.0], [4.0, 1.0]]}}, {\"weight\": 0.3, \"line\": 3, \"type\": \"Feature\", \"geometry\": {\"type\": \"LineString\", \"coordinates\": [[4.0, 1.0], [5.0, 1.0]]}}, {\"weight\": 0.3, \"line\": 4, \"type\": \"Feature\", \"geometry\": {\"type\": \"LineString\", \"coordinates\": [[4.0, 1.0], [3.0, 2.0]]}}, {\"weight\": 0.3, \"line\": 3, \"type\": \"Feature\", \"geometry\": {\"type\": \"LineString\", \"coordinates\": [[5.0, 1.0], [6.0, 1.0]]}}, {\"weight\": 0.3, \"line\": 3, \"type\": \"Feature\", \"geometry\": {\"type\": \"LineString\", \"coordinates\": [[6.0, 1.0], [7.0, 2.0]]}}, {\"weight\": 0.3, \"line\": 3, \"type\": \"Feature\", \"geometry\": {\"type\": \"LineString\", \"coordinates\": [[7.0, 2.0], [8.0, 2.0]]}}, {\"weight\": 0.3, \"line\": 3, \"type\": \"Feature\", \"geometry\": {\"type\": \"LineString\", \"coordinates\": [[8.0, 2.0], [9.0, 2.0]]}}, {\"weight\": 0.3, \"line\": 4, \"type\": \"Feature\", \"geometry\": {\"type\": \"LineString\", \"coordinates\": [[1.0, 2.0], [3.0, 2.0]]}}], \"data-bcab4cf699acef313f5d1960b2e2e5b1\": [{\"station\": 0, \"side\": 0, \"line\": 0, \"contraction\": {\"10\": {\"station\": 0, \"side\": 1, \"line\": 1}, \"11\": {\"station\": 0, \"side\": -1, \"line\": 1}}, \"nodeID\": 0, \"type\": \"Feature\", \"geometry\": {\"type\": \"Point\", \"coordinates\": [0.0, 0.0]}}, {\"station\": 1, \"side\": 0, \"line\": 0, \"contraction\": {\"12\": {\"station\": 1, \"side\": 1, \"line\": 1}, \"13\": {\"station\": 1, \"side\": -1, \"line\": 1}}, \"nodeID\": 1, \"type\": \"Feature\", \"geometry\": {\"type\": \"Point\", \"coordinates\": [1.0, 0.0]}}, {\"station\": 2, \"side\": 0, \"line\": 0, \"contraction\": {\"14\": {\"station\": 2, \"side\": 1, \"line\": 1}, \"15\": {\"station\": 2, \"side\": -1, \"line\": 1}}, \"nodeID\": 2, \"type\": \"Feature\", \"geometry\": {\"type\": \"Point\", \"coordinates\": [2.0, 0.0]}}, {\"station\": 3, \"side\": 0, \"line\": 0, \"contraction\": {\"16\": {\"station\": 3, \"side\": 1, \"line\": 1}, \"17\": {\"station\": 3, \"side\": -1, \"line\": 1}}, \"nodeID\": 3, \"type\": \"Feature\", \"geometry\": {\"type\": \"Point\", \"coordinates\": [3.0, 0.0]}}, {\"station\": 4, \"side\": 0, \"line\": 0, \"contraction\": {\"18\": {\"station\": 4, \"side\": 1, \"line\": 1}, \"19\": {\"station\": 4, \"side\": -1, \"line\": 1}, \"67\": {\"station\": 4, \"side\": 1, \"line\": 4}, \"68\": {\"station\": 4, \"side\": -1, \"line\": 4}}, \"nodeID\": 4, \"type\": \"Feature\", \"geometry\": {\"type\": \"Point\", \"coordinates\": [4.0, 0.0]}}, {\"station\": 5, \"side\": 0, \"line\": 0, \"contraction\": {\"20\": {\"station\": 5, \"side\": 1, \"line\": 1}, \"21\": {\"station\": 5, \"side\": -1, \"line\": 1}}, \"nodeID\": 5, \"type\": \"Feature\", \"geometry\": {\"type\": \"Point\", \"coordinates\": [5.0, 0.0]}}, {\"station\": 6, \"side\": 0, \"line\": 0, \"contraction\": {\"22\": {\"station\": 6, \"side\": 1, \"line\": 1}, \"23\": {\"station\": 6, \"side\": -1, \"line\": 1}}, \"nodeID\": 6, \"type\": \"Feature\", \"geometry\": {\"type\": \"Point\", \"coordinates\": [6.0, 0.0]}}, {\"station\": 7, \"side\": 0, \"line\": 0, \"contraction\": {\"24\": {\"station\": 7, \"side\": 1, \"line\": 1}, \"25\": {\"station\": 7, \"side\": -1, \"line\": 1}}, \"nodeID\": 7, \"type\": \"Feature\", \"geometry\": {\"type\": \"Point\", \"coordinates\": [7.0, 0.0]}}, {\"station\": 8, \"side\": 0, \"line\": 0, \"contraction\": {\"26\": {\"station\": 8, \"side\": 1, \"line\": 1}, \"27\": {\"station\": 8, \"side\": -1, \"line\": 1}}, \"nodeID\": 8, \"type\": \"Feature\", \"geometry\": {\"type\": \"Point\", \"coordinates\": [8.0, 0.0]}}, {\"station\": 9, \"side\": 0, \"line\": 0, \"contraction\": {\"28\": {\"station\": 9, \"side\": 1, \"line\": 1}, \"29\": {\"station\": 9, \"side\": -1, \"line\": 1}}, \"nodeID\": 9, \"type\": \"Feature\", \"geometry\": {\"type\": \"Point\", \"coordinates\": [9.0, 0.0]}}, {\"station\": 10, \"side\": 0, \"line\": 0, \"contraction\": {\"34\": {\"station\": 10, \"side\": 1, \"line\": 2}, \"35\": {\"station\": 10, \"side\": -1, \"line\": 2}}, \"nodeID\": 10, \"type\": \"Feature\", \"geometry\": {\"type\": \"Point\", \"coordinates\": [0.0, 1.0]}}, {\"station\": 11, \"side\": 0, \"line\": 0, \"contraction\": {\"36\": {\"station\": 11, \"side\": 1, \"line\": 2}, \"37\": {\"station\": 11, \"side\": -1, \"line\": 2}}, \"nodeID\": 11, \"type\": \"Feature\", \"geometry\": {\"type\": \"Point\", \"coordinates\": [1.0, 1.0]}}, {\"station\": 12, \"side\": 0, \"line\": 0, \"contraction\": {\"38\": {\"station\": 12, \"side\": 1, \"line\": 2}, \"39\": {\"station\": 12, \"side\": -1, \"line\": 2}}, \"nodeID\": 12, \"type\": \"Feature\", \"geometry\": {\"type\": \"Point\", \"coordinates\": [2.0, 1.0]}}, {\"station\": 14, \"side\": 0, \"line\": 0, \"contraction\": {\"40\": {\"station\": 14, \"side\": 1, \"line\": 2}, \"41\": {\"station\": 14, \"side\": -1, \"line\": 2}, \"47\": {\"station\": 14, \"side\": 1, \"line\": 3}, \"48\": {\"station\": 14, \"side\": -1, \"line\": 3}, \"65\": {\"station\": 14, \"side\": 1, \"line\": 4}, \"66\": {\"station\": 14, \"side\": -1, \"line\": 4}}, \"nodeID\": 13, \"type\": \"Feature\", \"geometry\": {\"type\": \"Point\", \"coordinates\": [4.0, 1.0]}}, {\"station\": 15, \"side\": 0, \"line\": 0, \"contraction\": {\"49\": {\"station\": 15, \"side\": 1, \"line\": 3}, \"50\": {\"station\": 15, \"side\": -1, \"line\": 3}}, \"nodeID\": 14, \"type\": \"Feature\", \"geometry\": {\"type\": \"Point\", \"coordinates\": [5.0, 1.0]}}, {\"station\": 16, \"side\": 0, \"line\": 0, \"contraction\": {\"51\": {\"station\": 16, \"side\": 1, \"line\": 3}, \"52\": {\"station\": 16, \"side\": -1, \"line\": 3}}, \"nodeID\": 15, \"type\": \"Feature\", \"geometry\": {\"type\": \"Point\", \"coordinates\": [6.0, 1.0]}}, {\"station\": 27, \"side\": 0, \"line\": 0, \"contraction\": {\"53\": {\"station\": 27, \"side\": 1, \"line\": 3}, \"54\": {\"station\": 27, \"side\": -1, \"line\": 3}}, \"nodeID\": 16, \"type\": \"Feature\", \"geometry\": {\"type\": \"Point\", \"coordinates\": [7.0, 2.0]}}, {\"station\": 28, \"side\": 0, \"line\": 0, \"contraction\": {\"55\": {\"station\": 28, \"side\": 1, \"line\": 3}, \"56\": {\"station\": 28, \"side\": -1, \"line\": 3}}, \"nodeID\": 17, \"type\": \"Feature\", \"geometry\": {\"type\": \"Point\", \"coordinates\": [8.0, 2.0]}}, {\"station\": 29, \"side\": 0, \"line\": 0, \"contraction\": {\"57\": {\"station\": 29, \"side\": 1, \"line\": 3}, \"58\": {\"station\": 29, \"side\": -1, \"line\": 3}}, \"nodeID\": 18, \"type\": \"Feature\", \"geometry\": {\"type\": \"Point\", \"coordinates\": [9.0, 2.0]}}, {\"station\": 21, \"side\": 0, \"line\": 0, \"contraction\": {\"61\": {\"station\": 21, \"side\": 1, \"line\": 4}, \"62\": {\"station\": 21, \"side\": -1, \"line\": 4}}, \"nodeID\": 19, \"type\": \"Feature\", \"geometry\": {\"type\": \"Point\", \"coordinates\": [1.0, 2.0]}}, {\"station\": 23, \"side\": 0, \"line\": 0, \"contraction\": {\"63\": {\"station\": 23, \"side\": 1, \"line\": 4}, \"64\": {\"station\": 23, \"side\": -1, \"line\": 4}}, \"nodeID\": 20, \"type\": \"Feature\", \"geometry\": {\"type\": \"Point\", \"coordinates\": [3.0, 2.0]}}]}}, {\"mode\": \"vega-lite\"});\n",
       "</script>"
      ],
      "text/plain": [
       "alt.LayerChart(...)"
      ]
     },
     "execution_count": 2,
     "metadata": {},
     "output_type": "execute_result"
    }
   ],
   "source": [
    "dataset = MetroDataset(CONFIG.lines, init_nb=20)\n",
    "num_nodes = dataset.cg.num_nodes()\n",
    "dataset.cg.altair_graph(dataset.cg.graph, 10)"
   ]
  },
  {
   "attachments": {},
   "cell_type": "markdown",
   "metadata": {},
   "source": [
    "## Model"
   ]
  },
  {
   "cell_type": "code",
   "execution_count": 3,
   "metadata": {},
   "outputs": [],
   "source": [
    "model = MetroModel(embedding_size=8, num_nodes=num_nodes, neighbor_nb=1, input_size=1, gsl_mode=\"matrix\")"
   ]
  },
  {
   "attachments": {},
   "cell_type": "markdown",
   "metadata": {},
   "source": [
    "## Training"
   ]
  },
  {
   "cell_type": "code",
   "execution_count": 22,
   "metadata": {},
   "outputs": [
    {
     "name": "stderr",
     "output_type": "stream",
     "text": [
      "GPU available: True (cuda), used: False\n",
      "TPU available: False, using: 0 TPU cores\n",
      "IPU available: False, using: 0 IPUs\n",
      "HPU available: False, using: 0 HPUs\n",
      "\n",
      "  | Name                   | Type      | Params\n",
      "-----------------------------------------------------\n",
      "0 | node_embeddings_start  | Embedding | 552   \n",
      "1 | node_embeddings_target | Embedding | 552   \n",
      "2 | graph_layer            | GraphConv | 3     \n",
      "3 | _linear1               | Linear    | 72    \n",
      "4 | _linear2               | Linear    | 72    \n",
      "5 | linear                 | Linear    | 4.8 K \n",
      "6 | softmax                | Softmax   | 0     \n",
      "-----------------------------------------------------\n",
      "10.8 K    Trainable params\n",
      "0         Non-trainable params\n",
      "10.8 K    Total params\n",
      "0.043     Total estimated model params size (MB)\n"
     ]
    },
    {
     "name": "stdout",
     "output_type": "stream",
     "text": [
      "Epoch 49: 100%|██████████| 248/248 [00:01<00:00, 171.18it/s, loss=0.00379, v_num=19]"
     ]
    },
    {
     "name": "stderr",
     "output_type": "stream",
     "text": [
      "`Trainer.fit` stopped: `max_epochs=50` reached.\n"
     ]
    },
    {
     "name": "stdout",
     "output_type": "stream",
     "text": [
      "Epoch 49: 100%|██████████| 248/248 [00:01<00:00, 169.47it/s, loss=0.00379, v_num=19]\n"
     ]
    }
   ],
   "source": [
    "train_loader = torch.utils.data.DataLoader(dataset, batch_size=8)\n",
    "checkpoint_callback = ModelCheckpoint(dirpath=\"checkpoints/\", save_top_k=1000 ,monitor=\"loss\") # , every_n_train_steps=100, \n",
    "trainer = Trainer(max_epochs=50, callbacks=[checkpoint_callback])\n",
    "trainer.fit(model, train_loader)"
   ]
  },
  {
   "attachments": {},
   "cell_type": "markdown",
   "metadata": {},
   "source": [
    "## Visualization of results"
   ]
  },
  {
   "cell_type": "code",
   "execution_count": 23,
   "metadata": {},
   "outputs": [
    {
     "name": "stdout",
     "output_type": "stream",
     "text": [
      "checkpoints\\epoch=0-step=248.ckpt\n",
      "checkpoints\\epoch=1-step=496.ckpt\n",
      "checkpoints\\epoch=10-step=2728.ckpt\n",
      "checkpoints\\epoch=11-step=2976.ckpt\n",
      "checkpoints\\epoch=12-step=3224.ckpt\n",
      "checkpoints\\epoch=13-step=3472.ckpt\n",
      "checkpoints\\epoch=14-step=3720.ckpt\n",
      "checkpoints\\epoch=15-step=3968.ckpt\n",
      "checkpoints\\epoch=16-step=4216.ckpt\n",
      "checkpoints\\epoch=17-step=4464.ckpt\n",
      "checkpoints\\epoch=18-step=4712.ckpt\n",
      "checkpoints\\epoch=19-step=4960.ckpt\n",
      "checkpoints\\epoch=2-step=744.ckpt\n",
      "checkpoints\\epoch=20-step=5208.ckpt\n",
      "checkpoints\\epoch=21-step=5456.ckpt\n",
      "checkpoints\\epoch=22-step=5704.ckpt\n",
      "checkpoints\\epoch=23-step=5952.ckpt\n",
      "checkpoints\\epoch=24-step=6200.ckpt\n",
      "checkpoints\\epoch=25-step=6448.ckpt\n",
      "checkpoints\\epoch=26-step=6696.ckpt\n",
      "checkpoints\\epoch=27-step=6944.ckpt\n",
      "checkpoints\\epoch=28-step=7192.ckpt\n",
      "checkpoints\\epoch=29-step=7440.ckpt\n",
      "checkpoints\\epoch=3-step=992.ckpt\n",
      "checkpoints\\epoch=30-step=7688.ckpt\n",
      "checkpoints\\epoch=31-step=7936.ckpt\n",
      "checkpoints\\epoch=32-step=8184.ckpt\n",
      "checkpoints\\epoch=33-step=8432.ckpt\n",
      "checkpoints\\epoch=34-step=8680.ckpt\n",
      "checkpoints\\epoch=35-step=8928.ckpt\n",
      "checkpoints\\epoch=36-step=9176.ckpt\n",
      "checkpoints\\epoch=37-step=9424.ckpt\n",
      "checkpoints\\epoch=38-step=9672.ckpt\n",
      "checkpoints\\epoch=39-step=9920.ckpt\n",
      "checkpoints\\epoch=4-step=1240.ckpt\n",
      "checkpoints\\epoch=40-step=10168.ckpt\n",
      "checkpoints\\epoch=41-step=10416.ckpt\n",
      "checkpoints\\epoch=42-step=10664.ckpt\n",
      "checkpoints\\epoch=43-step=10912.ckpt\n",
      "checkpoints\\epoch=44-step=11160.ckpt\n",
      "checkpoints\\epoch=45-step=11408.ckpt\n",
      "checkpoints\\epoch=46-step=11656.ckpt\n",
      "checkpoints\\epoch=47-step=11904.ckpt\n",
      "checkpoints\\epoch=48-step=12152.ckpt\n",
      "checkpoints\\epoch=49-step=12400.ckpt\n",
      "checkpoints\\epoch=5-step=1488.ckpt\n",
      "checkpoints\\epoch=6-step=1736.ckpt\n",
      "checkpoints\\epoch=7-step=1984.ckpt\n",
      "checkpoints\\epoch=8-step=2232.ckpt\n",
      "checkpoints\\epoch=9-step=2480.ckpt\n"
     ]
    }
   ],
   "source": [
    "def load_model(path):\n",
    "    checkpoint = torch.load(path)\n",
    "    model = MetroModel(embedding_size=8, num_nodes=num_nodes, neighbor_nb=1, input_size=1, gsl_mode=\"matrix\")\n",
    "    model.load_state_dict(checkpoint['state_dict'])\n",
    "    return model\n",
    "\n",
    "def viz(checkpoint):\n",
    "    model = load_model(checkpoint)\n",
    "\n",
    "    A = model.graph_matrix_learning().detach().numpy()\n",
    "    A = np.array(A)\n",
    "\n",
    "    learned_graph = nx.from_numpy_array(A, nx.DiGraph)\n",
    "    return dataset.cg.altair_graph(learned_graph, 10)\n",
    "\n",
    "for path in os.listdir('checkpoints'):\n",
    "    checkpoint = Path('checkpoints') / path\n",
    "    print(checkpoint)"
   ]
  },
  {
   "cell_type": "code",
   "execution_count": 24,
   "metadata": {},
   "outputs": [
    {
     "name": "stdout",
     "output_type": "stream",
     "text": [
      "Epoch 2:  46%|████▌     | 113/248 [01:58<02:21,  1.05s/it, loss=0.261, v_num=18] \n"
     ]
    },
    {
     "data": {
      "text/html": [
       "\n",
       "<div id=\"altair-viz-cb8badccc64e4409b71d477fff567f1f\"></div>\n",
       "<script type=\"text/javascript\">\n",
       "  var VEGA_DEBUG = (typeof VEGA_DEBUG == \"undefined\") ? {} : VEGA_DEBUG;\n",
       "  (function(spec, embedOpt){\n",
       "    let outputDiv = document.currentScript.previousElementSibling;\n",
       "    if (outputDiv.id !== \"altair-viz-cb8badccc64e4409b71d477fff567f1f\") {\n",
       "      outputDiv = document.getElementById(\"altair-viz-cb8badccc64e4409b71d477fff567f1f\");\n",
       "    }\n",
       "    const paths = {\n",
       "      \"vega\": \"https://cdn.jsdelivr.net/npm//vega@5?noext\",\n",
       "      \"vega-lib\": \"https://cdn.jsdelivr.net/npm//vega-lib?noext\",\n",
       "      \"vega-lite\": \"https://cdn.jsdelivr.net/npm//vega-lite@4.17.0?noext\",\n",
       "      \"vega-embed\": \"https://cdn.jsdelivr.net/npm//vega-embed@6?noext\",\n",
       "    };\n",
       "\n",
       "    function maybeLoadScript(lib, version) {\n",
       "      var key = `${lib.replace(\"-\", \"\")}_version`;\n",
       "      return (VEGA_DEBUG[key] == version) ?\n",
       "        Promise.resolve(paths[lib]) :\n",
       "        new Promise(function(resolve, reject) {\n",
       "          var s = document.createElement('script');\n",
       "          document.getElementsByTagName(\"head\")[0].appendChild(s);\n",
       "          s.async = true;\n",
       "          s.onload = () => {\n",
       "            VEGA_DEBUG[key] = version;\n",
       "            return resolve(paths[lib]);\n",
       "          };\n",
       "          s.onerror = () => reject(`Error loading script: ${paths[lib]}`);\n",
       "          s.src = paths[lib];\n",
       "        });\n",
       "    }\n",
       "\n",
       "    function showError(err) {\n",
       "      outputDiv.innerHTML = `<div class=\"error\" style=\"color:red;\">${err}</div>`;\n",
       "      throw err;\n",
       "    }\n",
       "\n",
       "    function displayChart(vegaEmbed) {\n",
       "      vegaEmbed(outputDiv, spec, embedOpt)\n",
       "        .catch(err => showError(`Javascript Error: ${err.message}<br>This usually means there's a typo in your chart specification. See the javascript console for the full traceback.`));\n",
       "    }\n",
       "\n",
       "    if(typeof define === \"function\" && define.amd) {\n",
       "      requirejs.config({paths});\n",
       "      require([\"vega-embed\"], displayChart, err => showError(`Error loading script: ${err.message}`));\n",
       "    } else {\n",
       "      maybeLoadScript(\"vega\", \"5\")\n",
       "        .then(() => maybeLoadScript(\"vega-lite\", \"4.17.0\"))\n",
       "        .then(() => maybeLoadScript(\"vega-embed\", \"6\"))\n",
       "        .catch(showError)\n",
       "        .then(() => displayChart(vegaEmbed));\n",
       "    }\n",
       "  })({\"config\": {\"view\": {\"continuousWidth\": 400, \"continuousHeight\": 300}}, \"layer\": [{\"data\": {\"name\": \"data-96aff273bd804f5433c94e22d8123ce9\"}, \"mark\": {\"type\": \"geoshape\", \"filled\": false, \"strokeWidth\": 10}, \"encoding\": {\"color\": {\"field\": \"line\", \"type\": \"nominal\"}}}, {\"data\": {\"name\": \"data-96d8a832028d9f89c2d6375ba55ee08a\"}, \"mark\": {\"type\": \"geoshape\", \"filled\": false, \"strokeWidth\": 10}}], \"$schema\": \"https://vega.github.io/schema/vega-lite/v4.17.0.json\", \"datasets\": {\"data-96aff273bd804f5433c94e22d8123ce9\": [{\"weight\": 1.1484477519989014, \"line\": 0, \"type\": \"Feature\", \"geometry\": {\"type\": \"LineString\", \"coordinates\": [[0.0, 0.0], [6.0, 1.0]]}}, {\"weight\": 1.3417508602142334, \"line\": 1, \"type\": \"Feature\", \"geometry\": {\"type\": \"LineString\", \"coordinates\": [[0.0, 0.0], [1.0, 0.0]]}}, {\"weight\": 1.1832283735275269, \"line\": 0, \"type\": \"Feature\", \"geometry\": {\"type\": \"LineString\", \"coordinates\": [[0.0, 0.0], [7.0, 2.0]]}}, {\"weight\": 1.1746982336044312, \"line\": 0, \"type\": \"Feature\", \"geometry\": {\"type\": \"LineString\", \"coordinates\": [[1.0, 0.0], [8.0, 0.0]]}}, {\"weight\": 1.2435381412506104, \"line\": 1, \"type\": \"Feature\", \"geometry\": {\"type\": \"LineString\", \"coordinates\": [[1.0, 0.0], [2.0, 0.0]]}}, {\"weight\": 1.2419697046279907, \"line\": 0, \"type\": \"Feature\", \"geometry\": {\"type\": \"LineString\", \"coordinates\": [[2.0, 0.0], [4.0, 0.0]]}}, {\"weight\": 1.1548117399215698, \"line\": 0, \"type\": \"Feature\", \"geometry\": {\"type\": \"LineString\", \"coordinates\": [[2.0, 0.0], [1.0, 2.0]]}}, {\"weight\": 1.1736328601837158, \"line\": 0, \"type\": \"Feature\", \"geometry\": {\"type\": \"LineString\", \"coordinates\": [[3.0, 0.0], [3.0, 2.0]]}}, {\"weight\": 1.1566693782806396, \"line\": 1, \"type\": \"Feature\", \"geometry\": {\"type\": \"LineString\", \"coordinates\": [[3.0, 0.0], [4.0, 0.0]]}}, {\"weight\": 1.170254111289978, \"line\": 0, \"type\": \"Feature\", \"geometry\": {\"type\": \"LineString\", \"coordinates\": [[3.0, 0.0], [5.0, 0.0]]}}, {\"weight\": 1.2120630741119385, \"line\": 1, \"type\": \"Feature\", \"geometry\": {\"type\": \"LineString\", \"coordinates\": [[4.0, 0.0], [5.0, 0.0]]}}, {\"weight\": 1.23433518409729, \"line\": 4, \"type\": \"Feature\", \"geometry\": {\"type\": \"LineString\", \"coordinates\": [[4.0, 0.0], [4.0, 1.0]]}}, {\"weight\": 1.1801680326461792, \"line\": 0, \"type\": \"Feature\", \"geometry\": {\"type\": \"LineString\", \"coordinates\": [[4.0, 0.0], [5.0, 1.0]]}}, {\"weight\": 1.2224622964859009, \"line\": 1, \"type\": \"Feature\", \"geometry\": {\"type\": \"LineString\", \"coordinates\": [[5.0, 0.0], [6.0, 0.0]]}}, {\"weight\": 1.278928518295288, \"line\": 0, \"type\": \"Feature\", \"geometry\": {\"type\": \"LineString\", \"coordinates\": [[5.0, 0.0], [7.0, 0.0]]}}, {\"weight\": 1.1854616403579712, \"line\": 0, \"type\": \"Feature\", \"geometry\": {\"type\": \"LineString\", \"coordinates\": [[5.0, 0.0], [6.0, 1.0]]}}, {\"weight\": 1.2047858238220215, \"line\": 1, \"type\": \"Feature\", \"geometry\": {\"type\": \"LineString\", \"coordinates\": [[6.0, 0.0], [7.0, 0.0]]}}, {\"weight\": 1.2229284048080444, \"line\": 0, \"type\": \"Feature\", \"geometry\": {\"type\": \"LineString\", \"coordinates\": [[6.0, 0.0], [7.0, 2.0]]}}, {\"weight\": 1.1378662586212158, \"line\": 0, \"type\": \"Feature\", \"geometry\": {\"type\": \"LineString\", \"coordinates\": [[7.0, 0.0], [2.0, 1.0]]}}, {\"weight\": 1.3904833793640137, \"line\": 1, \"type\": \"Feature\", \"geometry\": {\"type\": \"LineString\", \"coordinates\": [[7.0, 0.0], [8.0, 0.0]]}}, {\"weight\": 1.1970292329788208, \"line\": 1, \"type\": \"Feature\", \"geometry\": {\"type\": \"LineString\", \"coordinates\": [[8.0, 0.0], [9.0, 0.0]]}}, {\"weight\": 1.2917742729187012, \"line\": 2, \"type\": \"Feature\", \"geometry\": {\"type\": \"LineString\", \"coordinates\": [[0.0, 1.0], [1.0, 1.0]]}}, {\"weight\": 1.2095791101455688, \"line\": 0, \"type\": \"Feature\", \"geometry\": {\"type\": \"LineString\", \"coordinates\": [[0.0, 1.0], [4.0, 1.0]]}}, {\"weight\": 1.1918885707855225, \"line\": 0, \"type\": \"Feature\", \"geometry\": {\"type\": \"LineString\", \"coordinates\": [[0.0, 1.0], [7.0, 2.0]]}}, {\"weight\": 1.151315689086914, \"line\": 2, \"type\": \"Feature\", \"geometry\": {\"type\": \"LineString\", \"coordinates\": [[1.0, 1.0], [2.0, 1.0]]}}, {\"weight\": 1.2989232540130615, \"line\": 2, \"type\": \"Feature\", \"geometry\": {\"type\": \"LineString\", \"coordinates\": [[2.0, 1.0], [4.0, 1.0]]}}, {\"weight\": 1.1503701210021973, \"line\": 0, \"type\": \"Feature\", \"geometry\": {\"type\": \"LineString\", \"coordinates\": [[4.0, 1.0], [7.0, 2.0]]}}, {\"weight\": 1.1863266229629517, \"line\": 3, \"type\": \"Feature\", \"geometry\": {\"type\": \"LineString\", \"coordinates\": [[4.0, 1.0], [5.0, 1.0]]}}, {\"weight\": 1.1541709899902344, \"line\": 0, \"type\": \"Feature\", \"geometry\": {\"type\": \"LineString\", \"coordinates\": [[4.0, 1.0], [6.0, 1.0]]}}, {\"weight\": 1.2985975742340088, \"line\": 4, \"type\": \"Feature\", \"geometry\": {\"type\": \"LineString\", \"coordinates\": [[4.0, 1.0], [3.0, 2.0]]}}, {\"weight\": 1.2798880338668823, \"line\": 3, \"type\": \"Feature\", \"geometry\": {\"type\": \"LineString\", \"coordinates\": [[5.0, 1.0], [6.0, 1.0]]}}, {\"weight\": 1.3900254964828491, \"line\": 3, \"type\": \"Feature\", \"geometry\": {\"type\": \"LineString\", \"coordinates\": [[6.0, 1.0], [7.0, 2.0]]}}, {\"weight\": 1.2641538381576538, \"line\": 3, \"type\": \"Feature\", \"geometry\": {\"type\": \"LineString\", \"coordinates\": [[7.0, 2.0], [8.0, 2.0]]}}, {\"weight\": 1.2820826768875122, \"line\": 3, \"type\": \"Feature\", \"geometry\": {\"type\": \"LineString\", \"coordinates\": [[8.0, 2.0], [9.0, 2.0]]}}, {\"weight\": 1.2332161664962769, \"line\": 4, \"type\": \"Feature\", \"geometry\": {\"type\": \"LineString\", \"coordinates\": [[1.0, 2.0], [3.0, 2.0]]}}], \"data-96d8a832028d9f89c2d6375ba55ee08a\": [{\"contraction\": {\"10\": {}, \"11\": {}}, \"nodeID\": 0, \"type\": \"Feature\", \"geometry\": {\"type\": \"Point\", \"coordinates\": [0.0, 0.0]}}, {\"contraction\": {\"12\": {}, \"13\": {}}, \"nodeID\": 1, \"type\": \"Feature\", \"geometry\": {\"type\": \"Point\", \"coordinates\": [1.0, 0.0]}}, {\"contraction\": {\"14\": {}, \"15\": {}}, \"nodeID\": 2, \"type\": \"Feature\", \"geometry\": {\"type\": \"Point\", \"coordinates\": [2.0, 0.0]}}, {\"contraction\": {\"16\": {}, \"17\": {}}, \"nodeID\": 3, \"type\": \"Feature\", \"geometry\": {\"type\": \"Point\", \"coordinates\": [3.0, 0.0]}}, {\"contraction\": {\"18\": {}, \"19\": {}, \"67\": {}, \"68\": {}}, \"nodeID\": 4, \"type\": \"Feature\", \"geometry\": {\"type\": \"Point\", \"coordinates\": [4.0, 0.0]}}, {\"contraction\": {\"20\": {}, \"21\": {}}, \"nodeID\": 5, \"type\": \"Feature\", \"geometry\": {\"type\": \"Point\", \"coordinates\": [5.0, 0.0]}}, {\"contraction\": {\"22\": {}, \"23\": {}}, \"nodeID\": 6, \"type\": \"Feature\", \"geometry\": {\"type\": \"Point\", \"coordinates\": [6.0, 0.0]}}, {\"contraction\": {\"24\": {}, \"25\": {}}, \"nodeID\": 7, \"type\": \"Feature\", \"geometry\": {\"type\": \"Point\", \"coordinates\": [7.0, 0.0]}}, {\"contraction\": {\"26\": {}, \"27\": {}}, \"nodeID\": 8, \"type\": \"Feature\", \"geometry\": {\"type\": \"Point\", \"coordinates\": [8.0, 0.0]}}, {\"contraction\": {\"28\": {}, \"29\": {}}, \"nodeID\": 9, \"type\": \"Feature\", \"geometry\": {\"type\": \"Point\", \"coordinates\": [9.0, 0.0]}}, {\"contraction\": {\"34\": {}, \"35\": {}}, \"nodeID\": 10, \"type\": \"Feature\", \"geometry\": {\"type\": \"Point\", \"coordinates\": [0.0, 1.0]}}, {\"contraction\": {\"36\": {}, \"37\": {}}, \"nodeID\": 11, \"type\": \"Feature\", \"geometry\": {\"type\": \"Point\", \"coordinates\": [1.0, 1.0]}}, {\"contraction\": {\"38\": {}, \"39\": {}}, \"nodeID\": 12, \"type\": \"Feature\", \"geometry\": {\"type\": \"Point\", \"coordinates\": [2.0, 1.0]}}, {\"contraction\": {\"40\": {}, \"41\": {}, \"47\": {}, \"48\": {}, \"65\": {}, \"66\": {}}, \"nodeID\": 13, \"type\": \"Feature\", \"geometry\": {\"type\": \"Point\", \"coordinates\": [4.0, 1.0]}}, {\"contraction\": {\"49\": {}, \"50\": {}}, \"nodeID\": 14, \"type\": \"Feature\", \"geometry\": {\"type\": \"Point\", \"coordinates\": [5.0, 1.0]}}, {\"contraction\": {\"51\": {}, \"52\": {}}, \"nodeID\": 15, \"type\": \"Feature\", \"geometry\": {\"type\": \"Point\", \"coordinates\": [6.0, 1.0]}}, {\"contraction\": {\"53\": {}, \"54\": {}}, \"nodeID\": 16, \"type\": \"Feature\", \"geometry\": {\"type\": \"Point\", \"coordinates\": [7.0, 2.0]}}, {\"contraction\": {\"55\": {}, \"56\": {}}, \"nodeID\": 17, \"type\": \"Feature\", \"geometry\": {\"type\": \"Point\", \"coordinates\": [8.0, 2.0]}}, {\"contraction\": {\"57\": {}, \"58\": {}}, \"nodeID\": 18, \"type\": \"Feature\", \"geometry\": {\"type\": \"Point\", \"coordinates\": [9.0, 2.0]}}, {\"contraction\": {\"61\": {}, \"62\": {}}, \"nodeID\": 19, \"type\": \"Feature\", \"geometry\": {\"type\": \"Point\", \"coordinates\": [1.0, 2.0]}}, {\"contraction\": {\"63\": {}, \"64\": {}}, \"nodeID\": 20, \"type\": \"Feature\", \"geometry\": {\"type\": \"Point\", \"coordinates\": [3.0, 2.0]}}]}}, {\"mode\": \"vega-lite\"});\n",
       "</script>"
      ],
      "text/plain": [
       "alt.LayerChart(...)"
      ]
     },
     "execution_count": 24,
     "metadata": {},
     "output_type": "execute_result"
    }
   ],
   "source": [
    "viz(\"checkpoints\\epoch=30-step=7688.ckpt\")"
   ]
  }
 ],
 "metadata": {
  "kernelspec": {
   "display_name": "Python 3",
   "language": "python",
   "name": "python3"
  },
  "language_info": {
   "codemirror_mode": {
    "name": "ipython",
    "version": 3
   },
   "file_extension": ".py",
   "mimetype": "text/x-python",
   "name": "python",
   "nbconvert_exporter": "python",
   "pygments_lexer": "ipython3",
   "version": "3.10.9"
  },
  "orig_nbformat": 4
 },
 "nbformat": 4,
 "nbformat_minor": 2
}
