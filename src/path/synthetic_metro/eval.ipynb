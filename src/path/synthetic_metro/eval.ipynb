{
 "cells": [
  {
   "cell_type": "code",
   "execution_count": 1,
   "metadata": {},
   "outputs": [
    {
     "name": "stderr",
     "output_type": "stream",
     "text": [
      "c:\\Users\\simon\\Projets\\CountryTrends\\.conda\\lib\\site-packages\\geopandas\\_compat.py:123: UserWarning: The Shapely GEOS version (3.11.1-CAPI-1.17.1) is incompatible with the GEOS version PyGEOS was compiled with (3.10.4-CAPI-1.16.2). Conversions between both will be slow.\n",
      "  warnings.warn(\n",
      "c:\\Users\\simon\\Projets\\CountryTrends\\.conda\\lib\\site-packages\\momepy\\coins.py:15: UserWarning: Shapely 2.0 is installed, but because PyGEOS is also installed, GeoPandas will still use PyGEOS by default for now. To force to use and test Shapely 2.0, you have to set the environment variable USE_PYGEOS=0. You can do this before starting the Python process, or in your code before importing geopandas:\n",
      "\n",
      "import os\n",
      "os.environ['USE_PYGEOS'] = '0'\n",
      "import geopandas\n",
      "\n",
      "In a future release, GeoPandas will switch to using Shapely by default. If you are using PyGEOS directly (calling PyGEOS functions on geometries from GeoPandas), this will then stop working and you are encouraged to migrate from PyGEOS to Shapely 2.0 (https://shapely.readthedocs.io/en/latest/migration_pygeos.html).\n",
      "  import geopandas as gpd\n",
      "c:\\Users\\simon\\Projets\\CountryTrends\\.conda\\lib\\site-packages\\tqdm\\auto.py:21: TqdmWarning: IProgress not found. Please update jupyter and ipywidgets. See https://ipywidgets.readthedocs.io/en/stable/user_install.html\n",
      "  from .autonotebook import tqdm as notebook_tqdm\n"
     ]
    },
    {
     "data": {
      "text/plain": [
       "<torch._C.Generator at 0x274ae0aaff0>"
      ]
     },
     "execution_count": 1,
     "metadata": {},
     "output_type": "execute_result"
    }
   ],
   "source": [
    "import networkx as nx\n",
    "import matplotlib.pyplot as plt\n",
    "from metro_dataset import MetroDataset, Line\n",
    "from pytorch_lightning import Trainer\n",
    "from metro_model import MetroModel\n",
    "from networkx.drawing.layout import *\n",
    "from icecream import ic\n",
    "import numpy as np\n",
    "import pandas as pd\n",
    "import torch\n",
    "torch.manual_seed(0)"
   ]
  },
  {
   "attachments": {},
   "cell_type": "markdown",
   "metadata": {},
   "source": [
    "# Cycles"
   ]
  },
  {
   "cell_type": "code",
   "execution_count": 2,
   "metadata": {},
   "outputs": [],
   "source": [
    "line_1 = Line(nodes=[0, 1, 2, 3, 4, 5, 6, 7, 8, 9], weight=0.3)\n",
    "line_2 = Line(nodes=[10, 11, 12], weight=0.3)\n",
    "line_3 = Line(nodes=[14, 15, 16], weight=0.3)\n",
    "line_4 = Line(nodes=[21,23,14,4], weight=0.4)"
   ]
  },
  {
   "attachments": {},
   "cell_type": "markdown",
   "metadata": {},
   "source": [
    "# Dataset"
   ]
  },
  {
   "cell_type": "code",
   "execution_count": 3,
   "metadata": {},
   "outputs": [],
   "source": [
    "dataset = MetroDataset([line_1, line_2, line_3, line_4], init_nb=20)\n",
    "num_nodes = dataset.cg.num_nodes()"
   ]
  },
  {
   "cell_type": "code",
   "execution_count": 4,
   "metadata": {},
   "outputs": [],
   "source": [
    "# G  = dataset.cg.graph\n",
    "# pos = {node: get_pos(x['station']) for node, x in G.nodes(data=True)}\n",
    "# labels = nx.get_node_attributes(G, \"station\")\n",
    "# nx.draw(G, pos, with_labels=True)"
   ]
  },
  {
   "cell_type": "code",
   "execution_count": 5,
   "metadata": {},
   "outputs": [
    {
     "data": {
      "image/png": "[encoded data removed]",
      "text/plain": [
       "<Figure size 640x480 with 1 Axes>"
      ]
     },
     "metadata": {},
     "output_type": "display_data"
    }
   ],
   "source": [
    "dataset.cg.visualize(dataset.cg.graph, 10)"
   ]
  },
  {
   "cell_type": "code",
   "execution_count": 6,
   "metadata": {},
   "outputs": [
    {
     "name": "stderr",
     "output_type": "stream",
     "text": [
      "c:\\Users\\simon\\Projets\\CountryTrends\\.conda\\lib\\site-packages\\momepy\\utils.py:430: UserWarning: Approach is not set. Defaulting to 'primal'.\n",
      "  warnings.warn(\"Approach is not set. Defaulting to 'primal'.\")\n"
     ]
    },
    {
     "data": {
      "text/html": [
       "\n",
       "<div id=\"altair-viz-81617855480c4029bfe7233e866b7a21\"></div>\n",
       "<script type=\"text/javascript\">\n",
       "  var VEGA_DEBUG = (typeof VEGA_DEBUG == \"undefined\") ? {} : VEGA_DEBUG;\n",
       "  (function(spec, embedOpt){\n",
       "    let outputDiv = document.currentScript.previousElementSibling;\n",
       "    if (outputDiv.id !== \"altair-viz-81617855480c4029bfe7233e866b7a21\") {\n",
       "      outputDiv = document.getElementById(\"altair-viz-81617855480c4029bfe7233e866b7a21\");\n",
       "    }\n",
       "    const paths = {\n",
       "      \"vega\": \"https://cdn.jsdelivr.net/npm//vega@5?noext\",\n",
       "      \"vega-lib\": \"https://cdn.jsdelivr.net/npm//vega-lib?noext\",\n",
       "      \"vega-lite\": \"https://cdn.jsdelivr.net/npm//vega-lite@4.17.0?noext\",\n",
       "      \"vega-embed\": \"https://cdn.jsdelivr.net/npm//vega-embed@6?noext\",\n",
       "    };\n",
       "\n",
       "    function maybeLoadScript(lib, version) {\n",
       "      var key = `${lib.replace(\"-\", \"\")}_version`;\n",
       "      return (VEGA_DEBUG[key] == version) ?\n",
       "        Promise.resolve(paths[lib]) :\n",
       "        new Promise(function(resolve, reject) {\n",
       "          var s = document.createElement('script');\n",
       "          document.getElementsByTagName(\"head\")[0].appendChild(s);\n",
       "          s.async = true;\n",
       "          s.onload = () => {\n",
       "            VEGA_DEBUG[key] = version;\n",
       "            return resolve(paths[lib]);\n",
       "          };\n",
       "          s.onerror = () => reject(`Error loading script: ${paths[lib]}`);\n",
       "          s.src = paths[lib];\n",
       "        });\n",
       "    }\n",
       "\n",
       "    function showError(err) {\n",
       "      outputDiv.innerHTML = `<div class=\"error\" style=\"color:red;\">${err}</div>`;\n",
       "      throw err;\n",
       "    }\n",
       "\n",
       "    function displayChart(vegaEmbed) {\n",
       "      vegaEmbed(outputDiv, spec, embedOpt)\n",
       "        .catch(err => showError(`Javascript Error: ${err.message}<br>This usually means there's a typo in your chart specification. See the javascript console for the full traceback.`));\n",
       "    }\n",
       "\n",
       "    if(typeof define === \"function\" && define.amd) {\n",
       "      requirejs.config({paths});\n",
       "      require([\"vega-embed\"], displayChart, err => showError(`Error loading script: ${err.message}`));\n",
       "    } else {\n",
       "      maybeLoadScript(\"vega\", \"5\")\n",
       "        .then(() => maybeLoadScript(\"vega-lite\", \"4.17.0\"))\n",
       "        .then(() => maybeLoadScript(\"vega-embed\", \"6\"))\n",
       "        .catch(showError)\n",
       "        .then(() => displayChart(vegaEmbed));\n",
       "    }\n",
       "  })({\"config\": {\"view\": {\"continuousWidth\": 400, \"continuousHeight\": 300}}, \"layer\": [{\"data\": {\"name\": \"data-7ffd900c369238bfa899dfd41cdf83cb\"}, \"mark\": {\"type\": \"geoshape\", \"filled\": false, \"strokeWidth\": 10}, \"encoding\": {\"color\": {\"field\": \"line\", \"type\": \"nominal\"}}}, {\"data\": {\"name\": \"data-8d2e0f44a6665194177df0a2ab386e24\"}, \"mark\": {\"type\": \"geoshape\", \"filled\": false, \"strokeWidth\": 10}}], \"$schema\": \"https://vega.github.io/schema/vega-lite/v4.17.0.json\", \"datasets\": {\"data-7ffd900c369238bfa899dfd41cdf83cb\": [{\"weight\": 0.3, \"line\": 1, \"node_start\": 0, \"node_end\": 1, \"type\": \"Feature\", \"geometry\": {\"type\": \"LineString\", \"coordinates\": [[0.0, 0.0], [1.0, 0.0]]}}, {\"weight\": 0.3, \"line\": 1, \"node_start\": 1, \"node_end\": 2, \"type\": \"Feature\", \"geometry\": {\"type\": \"LineString\", \"coordinates\": [[1.0, 0.0], [2.0, 0.0]]}}, {\"weight\": 0.3, \"line\": 1, \"node_start\": 2, \"node_end\": 3, \"type\": \"Feature\", \"geometry\": {\"type\": \"LineString\", \"coordinates\": [[2.0, 0.0], [3.0, 0.0]]}}, {\"weight\": 0.3, \"line\": 1, \"node_start\": 3, \"node_end\": 4, \"type\": \"Feature\", \"geometry\": {\"type\": \"LineString\", \"coordinates\": [[3.0, 0.0], [4.0, 0.0]]}}, {\"weight\": 0.3, \"line\": 1, \"node_start\": 4, \"node_end\": 5, \"type\": \"Feature\", \"geometry\": {\"type\": \"LineString\", \"coordinates\": [[4.0, 0.0], [5.0, 0.0]]}}, {\"weight\": 0.4, \"line\": 4, \"node_start\": 4, \"node_end\": 13, \"type\": \"Feature\", \"geometry\": {\"type\": \"LineString\", \"coordinates\": [[4.0, 0.0], [4.0, 1.0]]}}, {\"weight\": 0.3, \"line\": 1, \"node_start\": 5, \"node_end\": 6, \"type\": \"Feature\", \"geometry\": {\"type\": \"LineString\", \"coordinates\": [[5.0, 0.0], [6.0, 0.0]]}}, {\"weight\": 0.3, \"line\": 1, \"node_start\": 6, \"node_end\": 7, \"type\": \"Feature\", \"geometry\": {\"type\": \"LineString\", \"coordinates\": [[6.0, 0.0], [7.0, 0.0]]}}, {\"weight\": 0.3, \"line\": 1, \"node_start\": 7, \"node_end\": 8, \"type\": \"Feature\", \"geometry\": {\"type\": \"LineString\", \"coordinates\": [[7.0, 0.0], [8.0, 0.0]]}}, {\"weight\": 0.3, \"line\": 1, \"node_start\": 8, \"node_end\": 9, \"type\": \"Feature\", \"geometry\": {\"type\": \"LineString\", \"coordinates\": [[8.0, 0.0], [9.0, 0.0]]}}, {\"weight\": 0.3, \"line\": 2, \"node_start\": 10, \"node_end\": 11, \"type\": \"Feature\", \"geometry\": {\"type\": \"LineString\", \"coordinates\": [[0.0, 1.0], [1.0, 1.0]]}}, {\"weight\": 0.3, \"line\": 2, \"node_start\": 11, \"node_end\": 12, \"type\": \"Feature\", \"geometry\": {\"type\": \"LineString\", \"coordinates\": [[1.0, 1.0], [2.0, 1.0]]}}, {\"weight\": 0.3, \"line\": 3, \"node_start\": 13, \"node_end\": 14, \"type\": \"Feature\", \"geometry\": {\"type\": \"LineString\", \"coordinates\": [[4.0, 1.0], [5.0, 1.0]]}}, {\"weight\": 0.4, \"line\": 4, \"node_start\": 13, \"node_end\": 17, \"type\": \"Feature\", \"geometry\": {\"type\": \"LineString\", \"coordinates\": [[4.0, 1.0], [3.0, 2.0]]}}, {\"weight\": 0.3, \"line\": 3, \"node_start\": 14, \"node_end\": 15, \"type\": \"Feature\", \"geometry\": {\"type\": \"LineString\", \"coordinates\": [[5.0, 1.0], [6.0, 1.0]]}}, {\"weight\": 0.4, \"line\": 4, \"node_start\": 16, \"node_end\": 17, \"type\": \"Feature\", \"geometry\": {\"type\": \"LineString\", \"coordinates\": [[1.0, 2.0], [3.0, 2.0]]}}], \"data-8d2e0f44a6665194177df0a2ab386e24\": [{\"station\": 0, \"side\": 0, \"line\": 0, \"contraction\": {\"10\": {\"station\": 0, \"side\": 1, \"line\": 1}, \"11\": {\"station\": 0, \"side\": -1, \"line\": 1}}, \"nodeID\": 0, \"type\": \"Feature\", \"geometry\": {\"type\": \"Point\", \"coordinates\": [0.0, 0.0]}}, {\"station\": 1, \"side\": 0, \"line\": 0, \"contraction\": {\"12\": {\"station\": 1, \"side\": 1, \"line\": 1}, \"13\": {\"station\": 1, \"side\": -1, \"line\": 1}}, \"nodeID\": 1, \"type\": \"Feature\", \"geometry\": {\"type\": \"Point\", \"coordinates\": [1.0, 0.0]}}, {\"station\": 2, \"side\": 0, \"line\": 0, \"contraction\": {\"14\": {\"station\": 2, \"side\": 1, \"line\": 1}, \"15\": {\"station\": 2, \"side\": -1, \"line\": 1}}, \"nodeID\": 2, \"type\": \"Feature\", \"geometry\": {\"type\": \"Point\", \"coordinates\": [2.0, 0.0]}}, {\"station\": 3, \"side\": 0, \"line\": 0, \"contraction\": {\"16\": {\"station\": 3, \"side\": 1, \"line\": 1}, \"17\": {\"station\": 3, \"side\": -1, \"line\": 1}}, \"nodeID\": 3, \"type\": \"Feature\", \"geometry\": {\"type\": \"Point\", \"coordinates\": [3.0, 0.0]}}, {\"station\": 4, \"side\": 0, \"line\": 0, \"contraction\": {\"18\": {\"station\": 4, \"side\": 1, \"line\": 1}, \"19\": {\"station\": 4, \"side\": -1, \"line\": 1}, \"56\": {\"station\": 4, \"side\": 1, \"line\": 4}, \"57\": {\"station\": 4, \"side\": -1, \"line\": 4}}, \"nodeID\": 4, \"type\": \"Feature\", \"geometry\": {\"type\": \"Point\", \"coordinates\": [4.0, 0.0]}}, {\"station\": 5, \"side\": 0, \"line\": 0, \"contraction\": {\"20\": {\"station\": 5, \"side\": 1, \"line\": 1}, \"21\": {\"station\": 5, \"side\": -1, \"line\": 1}}, \"nodeID\": 5, \"type\": \"Feature\", \"geometry\": {\"type\": \"Point\", \"coordinates\": [5.0, 0.0]}}, {\"station\": 6, \"side\": 0, \"line\": 0, \"contraction\": {\"22\": {\"station\": 6, \"side\": 1, \"line\": 1}, \"23\": {\"station\": 6, \"side\": -1, \"line\": 1}}, \"nodeID\": 6, \"type\": \"Feature\", \"geometry\": {\"type\": \"Point\", \"coordinates\": [6.0, 0.0]}}, {\"station\": 7, \"side\": 0, \"line\": 0, \"contraction\": {\"24\": {\"station\": 7, \"side\": 1, \"line\": 1}, \"25\": {\"station\": 7, \"side\": -1, \"line\": 1}}, \"nodeID\": 7, \"type\": \"Feature\", \"geometry\": {\"type\": \"Point\", \"coordinates\": [7.0, 0.0]}}, {\"station\": 8, \"side\": 0, \"line\": 0, \"contraction\": {\"26\": {\"station\": 8, \"side\": 1, \"line\": 1}, \"27\": {\"station\": 8, \"side\": -1, \"line\": 1}}, \"nodeID\": 8, \"type\": \"Feature\", \"geometry\": {\"type\": \"Point\", \"coordinates\": [8.0, 0.0]}}, {\"station\": 9, \"side\": 0, \"line\": 0, \"contraction\": {\"28\": {\"station\": 9, \"side\": 1, \"line\": 1}, \"29\": {\"station\": 9, \"side\": -1, \"line\": 1}}, \"nodeID\": 9, \"type\": \"Feature\", \"geometry\": {\"type\": \"Point\", \"coordinates\": [9.0, 0.0]}}, {\"station\": 10, \"side\": 0, \"line\": 0, \"contraction\": {\"33\": {\"station\": 10, \"side\": 1, \"line\": 2}, \"34\": {\"station\": 10, \"side\": -1, \"line\": 2}}, \"nodeID\": 10, \"type\": \"Feature\", \"geometry\": {\"type\": \"Point\", \"coordinates\": [0.0, 1.0]}}, {\"station\": 11, \"side\": 0, \"line\": 0, \"contraction\": {\"35\": {\"station\": 11, \"side\": 1, \"line\": 2}, \"36\": {\"station\": 11, \"side\": -1, \"line\": 2}}, \"nodeID\": 11, \"type\": \"Feature\", \"geometry\": {\"type\": \"Point\", \"coordinates\": [1.0, 1.0]}}, {\"station\": 12, \"side\": 0, \"line\": 0, \"contraction\": {\"37\": {\"station\": 12, \"side\": 1, \"line\": 2}, \"38\": {\"station\": 12, \"side\": -1, \"line\": 2}}, \"nodeID\": 12, \"type\": \"Feature\", \"geometry\": {\"type\": \"Point\", \"coordinates\": [2.0, 1.0]}}, {\"station\": 14, \"side\": 0, \"line\": 0, \"contraction\": {\"42\": {\"station\": 14, \"side\": 1, \"line\": 3}, \"43\": {\"station\": 14, \"side\": -1, \"line\": 3}, \"54\": {\"station\": 14, \"side\": 1, \"line\": 4}, \"55\": {\"station\": 14, \"side\": -1, \"line\": 4}}, \"nodeID\": 13, \"type\": \"Feature\", \"geometry\": {\"type\": \"Point\", \"coordinates\": [4.0, 1.0]}}, {\"station\": 15, \"side\": 0, \"line\": 0, \"contraction\": {\"44\": {\"station\": 15, \"side\": 1, \"line\": 3}, \"45\": {\"station\": 15, \"side\": -1, \"line\": 3}}, \"nodeID\": 14, \"type\": \"Feature\", \"geometry\": {\"type\": \"Point\", \"coordinates\": [5.0, 1.0]}}, {\"station\": 16, \"side\": 0, \"line\": 0, \"contraction\": {\"46\": {\"station\": 16, \"side\": 1, \"line\": 3}, \"47\": {\"station\": 16, \"side\": -1, \"line\": 3}}, \"nodeID\": 15, \"type\": \"Feature\", \"geometry\": {\"type\": \"Point\", \"coordinates\": [6.0, 1.0]}}, {\"station\": 21, \"side\": 0, \"line\": 0, \"contraction\": {\"50\": {\"station\": 21, \"side\": 1, \"line\": 4}, \"51\": {\"station\": 21, \"side\": -1, \"line\": 4}}, \"nodeID\": 16, \"type\": \"Feature\", \"geometry\": {\"type\": \"Point\", \"coordinates\": [1.0, 2.0]}}, {\"station\": 23, \"side\": 0, \"line\": 0, \"contraction\": {\"52\": {\"station\": 23, \"side\": 1, \"line\": 4}, \"53\": {\"station\": 23, \"side\": -1, \"line\": 4}}, \"nodeID\": 17, \"type\": \"Feature\", \"geometry\": {\"type\": \"Point\", \"coordinates\": [3.0, 2.0]}}]}}, {\"mode\": \"vega-lite\"});\n",
       "</script>"
      ],
      "text/plain": [
       "alt.LayerChart(...)"
      ]
     },
     "execution_count": 6,
     "metadata": {},
     "output_type": "execute_result"
    }
   ],
   "source": [
    "dataset.cg.altair_graph(dataset.cg.graph, 10)"
   ]
  },
  {
   "attachments": {},
   "cell_type": "markdown",
   "metadata": {},
   "source": [
    "# Model"
   ]
  },
  {
   "cell_type": "code",
   "execution_count": null,
   "metadata": {},
   "outputs": [],
   "source": [
    "A_init = torch.tensor(dataset.cg.adjacency_matrix(), requires_grad=True).float()"
   ]
  },
  {
   "cell_type": "code",
   "execution_count": null,
   "metadata": {},
   "outputs": [],
   "source": [
    "model = MetroModel(embedding_size=8, num_nodes=num_nodes, neighbor_nb=1, input_size=1, gsl_mode=\"matrix\") # , "
   ]
  },
  {
   "attachments": {},
   "cell_type": "markdown",
   "metadata": {},
   "source": [
    "# Training"
   ]
  },
  {
   "cell_type": "code",
   "execution_count": null,
   "metadata": {},
   "outputs": [],
   "source": [
    "train_loader = torch.utils.data.DataLoader(dataset, batch_size=8)\n",
    "trainer = Trainer(max_epochs=50)\n",
    "trainer.fit(model, train_loader)"
   ]
  },
  {
   "attachments": {},
   "cell_type": "markdown",
   "metadata": {},
   "source": [
    "# Evaluation"
   ]
  },
  {
   "cell_type": "code",
   "execution_count": null,
   "metadata": {},
   "outputs": [],
   "source": [
    "A = model.graph_matrix_learning().detach().numpy()\n",
    "# A = model.linear.weight.detach().numpy()\n",
    "# A = A / A.sum(axis=0)\n",
    "A = np.array(A)"
   ]
  },
  {
   "cell_type": "code",
   "execution_count": null,
   "metadata": {},
   "outputs": [],
   "source": [
    "learned_graph = nx.from_numpy_array(A, nx.DiGraph)\n",
    "dataset.cg.visualize(learned_graph, 10)"
   ]
  },
  {
   "cell_type": "code",
   "execution_count": null,
   "metadata": {},
   "outputs": [],
   "source": [
    "# learned_graph = nx.from_numpy_array(A, nx.DiGraph)\n",
    "# labels = {k: v for k, v in enumerate(dataset.dataframes[0].columns)}\n",
    "# learned_graph = nx.relabel_nodes(learned_graph, labels)\n",
    "# weight=nx.get_edge_attributes(learned_graph,'weight')\n",
    "# stations = nx.get_node_attributes(G, \"station\")\n",
    "# sides = nx.get_node_attributes(G, \"side\")\n",
    "# correctness = ['green' if e in G.edges() else 'red' for e in learned_graph.edges()]\n",
    "\n",
    "# nx.draw(learned_graph, pos, labels=labels, with_labels=True, width=list(weight.values()), edge_color=correctness)"
   ]
  },
  {
   "cell_type": "code",
   "execution_count": null,
   "metadata": {},
   "outputs": [],
   "source": [
    "# contracted_learned_graph = dataset.cg.contract(learned_graph)\n",
    "# pos = nx.nx_agraph.graphviz_layout(contracted_G, prog=\"twopi\", root=0)\n",
    "# labels = nx.get_node_attributes(contracted_G, \"station\")\n",
    "# nx.draw(contracted_learned_graph, contracted_pos, labels=contracted_labels, with_labels=True)"
   ]
  },
  {
   "cell_type": "code",
   "execution_count": null,
   "metadata": {},
   "outputs": [],
   "source": [
    "# TODO: Essayer avec les embeddings\n",
    "# TODO: Essayer avec un graph bruité en entrée\n",
    "# TODO: Essayer avec des data bruitées\n",
    "# TODO: Essayer avec différents réseaux (de métro)\n",
    "# TODO: Essayer avec le graphe contracté "
   ]
  },
  {
   "attachments": {},
   "cell_type": "markdown",
   "metadata": {},
   "source": [
    "# Altair"
   ]
  },
  {
   "cell_type": "code",
   "execution_count": null,
   "metadata": {},
   "outputs": [],
   "source": [
    "G = nx.Graph()\n",
    "G.add_node(1)\n",
    "G.add_node(2)\n",
    "G.add_node(3)\n",
    "G.add_edge(1,2)\n",
    "G.add_edge(2,3)\n",
    "\n",
    "pos = {\n",
    "    1: (0,1),\n",
    "    2: (0,2),\n",
    "    3: (1,3),\n",
    "}\n",
    "\n",
    "edge_geometry = {(a,b): LineString([pos[a], pos[b]]) for a,b in G.edges}\n",
    "edge_id = {(1,2): 1, (2,3): 2}\n",
    "nx.set_edge_attributes(G, edge_geometry, \"geometry\")\n",
    "nx.set_edge_attributes(G, edge_id, \"edge_id\")\n",
    "G = nx.relabel_nodes(G, pos)"
   ]
  },
  {
   "cell_type": "code",
   "execution_count": null,
   "metadata": {},
   "outputs": [],
   "source": [
    "gdf = momepy.nx_to_gdf(G)"
   ]
  },
  {
   "cell_type": "code",
   "execution_count": null,
   "metadata": {},
   "outputs": [],
   "source": [
    "gdf[1]"
   ]
  },
  {
   "cell_type": "code",
   "execution_count": null,
   "metadata": {},
   "outputs": [],
   "source": [
    "lines = alt.Chart(gdf[1]).mark_geoshape(\n",
    "    filled=False,\n",
    "    strokeWidth=10\n",
    ").encode(\n",
    "    alt.Color(\n",
    "        'edge_id:N',\n",
    "        # scale=line_scale\n",
    "    )\n",
    ")\n",
    "lines"
   ]
  }
 ],
 "metadata": {
  "kernelspec": {
   "display_name": "Python 3",
   "language": "python",
   "name": "python3"
  },
  "language_info": {
   "codemirror_mode": {
    "name": "ipython",
    "version": 3
   },
   "file_extension": ".py",
   "mimetype": "text/x-python",
   "name": "python",
   "nbconvert_exporter": "python",
   "pygments_lexer": "ipython3",
   "version": "3.10.9"
  },
  "orig_nbformat": 4
 },
 "nbformat": 4,
 "nbformat_minor": 2
}
