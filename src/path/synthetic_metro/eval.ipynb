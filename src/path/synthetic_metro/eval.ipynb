{
 "cells": [
  {
   "cell_type": "code",
   "execution_count": 1,
   "metadata": {},
   "outputs": [
    {
     "name": "stderr",
     "output_type": "stream",
     "text": [
      "c:\\Users\\simon\\Projets\\CountryTrends\\.conda\\lib\\site-packages\\geopandas\\_compat.py:123: UserWarning: The Shapely GEOS version (3.11.1-CAPI-1.17.1) is incompatible with the GEOS version PyGEOS was compiled with (3.10.4-CAPI-1.16.2). Conversions between both will be slow.\n",
      "  warnings.warn(\n",
      "c:\\Users\\simon\\Projets\\CountryTrends\\.conda\\lib\\site-packages\\momepy\\coins.py:15: UserWarning: Shapely 2.0 is installed, but because PyGEOS is also installed, GeoPandas will still use PyGEOS by default for now. To force to use and test Shapely 2.0, you have to set the environment variable USE_PYGEOS=0. You can do this before starting the Python process, or in your code before importing geopandas:\n",
      "\n",
      "import os\n",
      "os.environ['USE_PYGEOS'] = '0'\n",
      "import geopandas\n",
      "\n",
      "In a future release, GeoPandas will switch to using Shapely by default. If you are using PyGEOS directly (calling PyGEOS functions on geometries from GeoPandas), this will then stop working and you are encouraged to migrate from PyGEOS to Shapely 2.0 (https://shapely.readthedocs.io/en/latest/migration_pygeos.html).\n",
      "  import geopandas as gpd\n",
      "c:\\Users\\simon\\Projets\\CountryTrends\\.conda\\lib\\site-packages\\tqdm\\auto.py:21: TqdmWarning: IProgress not found. Please update jupyter and ipywidgets. See https://ipywidgets.readthedocs.io/en/stable/user_install.html\n",
      "  from .autonotebook import tqdm as notebook_tqdm\n"
     ]
    },
    {
     "data": {
      "text/plain": [
       "<torch._C.Generator at 0x1ddbae46c70>"
      ]
     },
     "execution_count": 1,
     "metadata": {},
     "output_type": "execute_result"
    }
   ],
   "source": [
    "import networkx as nx\n",
    "import matplotlib.pyplot as plt\n",
    "from metro_dataset import MetroDataset\n",
    "from config import Line\n",
    "from pytorch_lightning import Trainer\n",
    "from metro_model import MetroModel\n",
    "from networkx.drawing.layout import *\n",
    "from icecream import ic\n",
    "import numpy as np\n",
    "import pandas as pd\n",
    "import torch\n",
    "torch.manual_seed(0)"
   ]
  },
  {
   "attachments": {},
   "cell_type": "markdown",
   "metadata": {},
   "source": [
    "# Cycles"
   ]
  },
  {
   "cell_type": "code",
   "execution_count": 2,
   "metadata": {},
   "outputs": [],
   "source": [
    "line_1 = Line(nodes=[0, 1, 2, 3, 4, 5, 6, 7, 8, 9], weight=0.3)\n",
    "line_2 = Line(nodes=[10, 11, 12, 14], weight=0.3)\n",
    "line_3 = Line(nodes=[14, 15, 16, 27, 28, 29], weight=0.3)\n",
    "line_4 = Line(nodes=[21,23,14,4], weight=0.4)"
   ]
  },
  {
   "attachments": {},
   "cell_type": "markdown",
   "metadata": {},
   "source": [
    "# Dataset"
   ]
  },
  {
   "cell_type": "code",
   "execution_count": 3,
   "metadata": {},
   "outputs": [],
   "source": [
    "dataset = MetroDataset([line_1, line_2, line_3, line_4], init_nb=20)\n",
    "num_nodes = dataset.cg.num_nodes()"
   ]
  },
  {
   "cell_type": "code",
   "execution_count": 4,
   "metadata": {},
   "outputs": [],
   "source": [
    "# G  = dataset.cg.graph\n",
    "# pos = {node: get_pos(x['station']) for node, x in G.nodes(data=True)}\n",
    "# labels = nx.get_node_attributes(G, \"station\")\n",
    "# nx.draw(G, pos, with_labels=True)"
   ]
  },
  {
   "cell_type": "code",
   "execution_count": 5,
   "metadata": {},
   "outputs": [
    {
     "name": "stderr",
     "output_type": "stream",
     "text": [
      "c:\\Users\\simon\\Projets\\CountryTrends\\.conda\\lib\\site-packages\\momepy\\utils.py:430: UserWarning: Approach is not set. Defaulting to 'primal'.\n",
      "  warnings.warn(\"Approach is not set. Defaulting to 'primal'.\")\n"
     ]
    },
    {
     "data": {
      "text/html": [
       "\n",
       "<div id=\"altair-viz-064c934b4d04480b93e618029db74111\"></div>\n",
       "<script type=\"text/javascript\">\n",
       "  var VEGA_DEBUG = (typeof VEGA_DEBUG == \"undefined\") ? {} : VEGA_DEBUG;\n",
       "  (function(spec, embedOpt){\n",
       "    let outputDiv = document.currentScript.previousElementSibling;\n",
       "    if (outputDiv.id !== \"altair-viz-064c934b4d04480b93e618029db74111\") {\n",
       "      outputDiv = document.getElementById(\"altair-viz-064c934b4d04480b93e618029db74111\");\n",
       "    }\n",
       "    const paths = {\n",
       "      \"vega\": \"https://cdn.jsdelivr.net/npm//vega@5?noext\",\n",
       "      \"vega-lib\": \"https://cdn.jsdelivr.net/npm//vega-lib?noext\",\n",
       "      \"vega-lite\": \"https://cdn.jsdelivr.net/npm//vega-lite@4.17.0?noext\",\n",
       "      \"vega-embed\": \"https://cdn.jsdelivr.net/npm//vega-embed@6?noext\",\n",
       "    };\n",
       "\n",
       "    function maybeLoadScript(lib, version) {\n",
       "      var key = `${lib.replace(\"-\", \"\")}_version`;\n",
       "      return (VEGA_DEBUG[key] == version) ?\n",
       "        Promise.resolve(paths[lib]) :\n",
       "        new Promise(function(resolve, reject) {\n",
       "          var s = document.createElement('script');\n",
       "          document.getElementsByTagName(\"head\")[0].appendChild(s);\n",
       "          s.async = true;\n",
       "          s.onload = () => {\n",
       "            VEGA_DEBUG[key] = version;\n",
       "            return resolve(paths[lib]);\n",
       "          };\n",
       "          s.onerror = () => reject(`Error loading script: ${paths[lib]}`);\n",
       "          s.src = paths[lib];\n",
       "        });\n",
       "    }\n",
       "\n",
       "    function showError(err) {\n",
       "      outputDiv.innerHTML = `<div class=\"error\" style=\"color:red;\">${err}</div>`;\n",
       "      throw err;\n",
       "    }\n",
       "\n",
       "    function displayChart(vegaEmbed) {\n",
       "      vegaEmbed(outputDiv, spec, embedOpt)\n",
       "        .catch(err => showError(`Javascript Error: ${err.message}<br>This usually means there's a typo in your chart specification. See the javascript console for the full traceback.`));\n",
       "    }\n",
       "\n",
       "    if(typeof define === \"function\" && define.amd) {\n",
       "      requirejs.config({paths});\n",
       "      require([\"vega-embed\"], displayChart, err => showError(`Error loading script: ${err.message}`));\n",
       "    } else {\n",
       "      maybeLoadScript(\"vega\", \"5\")\n",
       "        .then(() => maybeLoadScript(\"vega-lite\", \"4.17.0\"))\n",
       "        .then(() => maybeLoadScript(\"vega-embed\", \"6\"))\n",
       "        .catch(showError)\n",
       "        .then(() => displayChart(vegaEmbed));\n",
       "    }\n",
       "  })({\"config\": {\"view\": {\"continuousWidth\": 400, \"continuousHeight\": 300}}, \"layer\": [{\"data\": {\"name\": \"data-f212f50dc8f13d7fb3511ad1b40472c9\"}, \"mark\": {\"type\": \"geoshape\", \"filled\": false, \"strokeWidth\": 10}, \"encoding\": {\"color\": {\"field\": \"line\", \"type\": \"nominal\"}}}, {\"data\": {\"name\": \"data-bcab4cf699acef313f5d1960b2e2e5b1\"}, \"mark\": {\"type\": \"geoshape\", \"filled\": false, \"strokeWidth\": 10}}], \"$schema\": \"https://vega.github.io/schema/vega-lite/v4.17.0.json\", \"datasets\": {\"data-f212f50dc8f13d7fb3511ad1b40472c9\": [{\"weight\": 0.3, \"type\": \"Feature\", \"geometry\": {\"type\": \"LineString\", \"coordinates\": [[0.0, 0.0], [1.0, 0.0]]}}, {\"weight\": 0.3, \"type\": \"Feature\", \"geometry\": {\"type\": \"LineString\", \"coordinates\": [[1.0, 0.0], [2.0, 0.0]]}}, {\"weight\": 0.3, \"type\": \"Feature\", \"geometry\": {\"type\": \"LineString\", \"coordinates\": [[2.0, 0.0], [3.0, 0.0]]}}, {\"weight\": 0.3, \"type\": \"Feature\", \"geometry\": {\"type\": \"LineString\", \"coordinates\": [[3.0, 0.0], [4.0, 0.0]]}}, {\"weight\": 0.3, \"type\": \"Feature\", \"geometry\": {\"type\": \"LineString\", \"coordinates\": [[4.0, 0.0], [5.0, 0.0]]}}, {\"weight\": 0.4, \"type\": \"Feature\", \"geometry\": {\"type\": \"LineString\", \"coordinates\": [[4.0, 0.0], [4.0, 1.0]]}}, {\"weight\": 0.3, \"type\": \"Feature\", \"geometry\": {\"type\": \"LineString\", \"coordinates\": [[5.0, 0.0], [6.0, 0.0]]}}, {\"weight\": 0.3, \"type\": \"Feature\", \"geometry\": {\"type\": \"LineString\", \"coordinates\": [[6.0, 0.0], [7.0, 0.0]]}}, {\"weight\": 0.3, \"type\": \"Feature\", \"geometry\": {\"type\": \"LineString\", \"coordinates\": [[7.0, 0.0], [8.0, 0.0]]}}, {\"weight\": 0.3, \"type\": \"Feature\", \"geometry\": {\"type\": \"LineString\", \"coordinates\": [[8.0, 0.0], [9.0, 0.0]]}}, {\"weight\": 0.3, \"type\": \"Feature\", \"geometry\": {\"type\": \"LineString\", \"coordinates\": [[0.0, 1.0], [1.0, 1.0]]}}, {\"weight\": 0.3, \"type\": \"Feature\", \"geometry\": {\"type\": \"LineString\", \"coordinates\": [[1.0, 1.0], [2.0, 1.0]]}}, {\"weight\": 0.3, \"type\": \"Feature\", \"geometry\": {\"type\": \"LineString\", \"coordinates\": [[2.0, 1.0], [4.0, 1.0]]}}, {\"weight\": 0.3, \"type\": \"Feature\", \"geometry\": {\"type\": \"LineString\", \"coordinates\": [[4.0, 1.0], [5.0, 1.0]]}}, {\"weight\": 0.4, \"type\": \"Feature\", \"geometry\": {\"type\": \"LineString\", \"coordinates\": [[4.0, 1.0], [3.0, 2.0]]}}, {\"weight\": 0.3, \"type\": \"Feature\", \"geometry\": {\"type\": \"LineString\", \"coordinates\": [[5.0, 1.0], [6.0, 1.0]]}}, {\"weight\": 0.3, \"type\": \"Feature\", \"geometry\": {\"type\": \"LineString\", \"coordinates\": [[6.0, 1.0], [7.0, 2.0]]}}, {\"weight\": 0.3, \"type\": \"Feature\", \"geometry\": {\"type\": \"LineString\", \"coordinates\": [[7.0, 2.0], [8.0, 2.0]]}}, {\"weight\": 0.3, \"type\": \"Feature\", \"geometry\": {\"type\": \"LineString\", \"coordinates\": [[8.0, 2.0], [9.0, 2.0]]}}, {\"weight\": 0.4, \"type\": \"Feature\", \"geometry\": {\"type\": \"LineString\", \"coordinates\": [[1.0, 2.0], [3.0, 2.0]]}}], \"data-bcab4cf699acef313f5d1960b2e2e5b1\": [{\"station\": 0, \"side\": 0, \"line\": 0, \"contraction\": {\"10\": {\"station\": 0, \"side\": 1, \"line\": 1}, \"11\": {\"station\": 0, \"side\": -1, \"line\": 1}}, \"nodeID\": 0, \"type\": \"Feature\", \"geometry\": {\"type\": \"Point\", \"coordinates\": [0.0, 0.0]}}, {\"station\": 1, \"side\": 0, \"line\": 0, \"contraction\": {\"12\": {\"station\": 1, \"side\": 1, \"line\": 1}, \"13\": {\"station\": 1, \"side\": -1, \"line\": 1}}, \"nodeID\": 1, \"type\": \"Feature\", \"geometry\": {\"type\": \"Point\", \"coordinates\": [1.0, 0.0]}}, {\"station\": 2, \"side\": 0, \"line\": 0, \"contraction\": {\"14\": {\"station\": 2, \"side\": 1, \"line\": 1}, \"15\": {\"station\": 2, \"side\": -1, \"line\": 1}}, \"nodeID\": 2, \"type\": \"Feature\", \"geometry\": {\"type\": \"Point\", \"coordinates\": [2.0, 0.0]}}, {\"station\": 3, \"side\": 0, \"line\": 0, \"contraction\": {\"16\": {\"station\": 3, \"side\": 1, \"line\": 1}, \"17\": {\"station\": 3, \"side\": -1, \"line\": 1}}, \"nodeID\": 3, \"type\": \"Feature\", \"geometry\": {\"type\": \"Point\", \"coordinates\": [3.0, 0.0]}}, {\"station\": 4, \"side\": 0, \"line\": 0, \"contraction\": {\"18\": {\"station\": 4, \"side\": 1, \"line\": 1}, \"19\": {\"station\": 4, \"side\": -1, \"line\": 1}, \"67\": {\"station\": 4, \"side\": 1, \"line\": 4}, \"68\": {\"station\": 4, \"side\": -1, \"line\": 4}}, \"nodeID\": 4, \"type\": \"Feature\", \"geometry\": {\"type\": \"Point\", \"coordinates\": [4.0, 0.0]}}, {\"station\": 5, \"side\": 0, \"line\": 0, \"contraction\": {\"20\": {\"station\": 5, \"side\": 1, \"line\": 1}, \"21\": {\"station\": 5, \"side\": -1, \"line\": 1}}, \"nodeID\": 5, \"type\": \"Feature\", \"geometry\": {\"type\": \"Point\", \"coordinates\": [5.0, 0.0]}}, {\"station\": 6, \"side\": 0, \"line\": 0, \"contraction\": {\"22\": {\"station\": 6, \"side\": 1, \"line\": 1}, \"23\": {\"station\": 6, \"side\": -1, \"line\": 1}}, \"nodeID\": 6, \"type\": \"Feature\", \"geometry\": {\"type\": \"Point\", \"coordinates\": [6.0, 0.0]}}, {\"station\": 7, \"side\": 0, \"line\": 0, \"contraction\": {\"24\": {\"station\": 7, \"side\": 1, \"line\": 1}, \"25\": {\"station\": 7, \"side\": -1, \"line\": 1}}, \"nodeID\": 7, \"type\": \"Feature\", \"geometry\": {\"type\": \"Point\", \"coordinates\": [7.0, 0.0]}}, {\"station\": 8, \"side\": 0, \"line\": 0, \"contraction\": {\"26\": {\"station\": 8, \"side\": 1, \"line\": 1}, \"27\": {\"station\": 8, \"side\": -1, \"line\": 1}}, \"nodeID\": 8, \"type\": \"Feature\", \"geometry\": {\"type\": \"Point\", \"coordinates\": [8.0, 0.0]}}, {\"station\": 9, \"side\": 0, \"line\": 0, \"contraction\": {\"28\": {\"station\": 9, \"side\": 1, \"line\": 1}, \"29\": {\"station\": 9, \"side\": -1, \"line\": 1}}, \"nodeID\": 9, \"type\": \"Feature\", \"geometry\": {\"type\": \"Point\", \"coordinates\": [9.0, 0.0]}}, {\"station\": 10, \"side\": 0, \"line\": 0, \"contraction\": {\"34\": {\"station\": 10, \"side\": 1, \"line\": 2}, \"35\": {\"station\": 10, \"side\": -1, \"line\": 2}}, \"nodeID\": 10, \"type\": \"Feature\", \"geometry\": {\"type\": \"Point\", \"coordinates\": [0.0, 1.0]}}, {\"station\": 11, \"side\": 0, \"line\": 0, \"contraction\": {\"36\": {\"station\": 11, \"side\": 1, \"line\": 2}, \"37\": {\"station\": 11, \"side\": -1, \"line\": 2}}, \"nodeID\": 11, \"type\": \"Feature\", \"geometry\": {\"type\": \"Point\", \"coordinates\": [1.0, 1.0]}}, {\"station\": 12, \"side\": 0, \"line\": 0, \"contraction\": {\"38\": {\"station\": 12, \"side\": 1, \"line\": 2}, \"39\": {\"station\": 12, \"side\": -1, \"line\": 2}}, \"nodeID\": 12, \"type\": \"Feature\", \"geometry\": {\"type\": \"Point\", \"coordinates\": [2.0, 1.0]}}, {\"station\": 14, \"side\": 0, \"line\": 0, \"contraction\": {\"40\": {\"station\": 14, \"side\": 1, \"line\": 2}, \"41\": {\"station\": 14, \"side\": -1, \"line\": 2}, \"47\": {\"station\": 14, \"side\": 1, \"line\": 3}, \"48\": {\"station\": 14, \"side\": -1, \"line\": 3}, \"65\": {\"station\": 14, \"side\": 1, \"line\": 4}, \"66\": {\"station\": 14, \"side\": -1, \"line\": 4}}, \"nodeID\": 13, \"type\": \"Feature\", \"geometry\": {\"type\": \"Point\", \"coordinates\": [4.0, 1.0]}}, {\"station\": 15, \"side\": 0, \"line\": 0, \"contraction\": {\"49\": {\"station\": 15, \"side\": 1, \"line\": 3}, \"50\": {\"station\": 15, \"side\": -1, \"line\": 3}}, \"nodeID\": 14, \"type\": \"Feature\", \"geometry\": {\"type\": \"Point\", \"coordinates\": [5.0, 1.0]}}, {\"station\": 16, \"side\": 0, \"line\": 0, \"contraction\": {\"51\": {\"station\": 16, \"side\": 1, \"line\": 3}, \"52\": {\"station\": 16, \"side\": -1, \"line\": 3}}, \"nodeID\": 15, \"type\": \"Feature\", \"geometry\": {\"type\": \"Point\", \"coordinates\": [6.0, 1.0]}}, {\"station\": 27, \"side\": 0, \"line\": 0, \"contraction\": {\"53\": {\"station\": 27, \"side\": 1, \"line\": 3}, \"54\": {\"station\": 27, \"side\": -1, \"line\": 3}}, \"nodeID\": 16, \"type\": \"Feature\", \"geometry\": {\"type\": \"Point\", \"coordinates\": [7.0, 2.0]}}, {\"station\": 28, \"side\": 0, \"line\": 0, \"contraction\": {\"55\": {\"station\": 28, \"side\": 1, \"line\": 3}, \"56\": {\"station\": 28, \"side\": -1, \"line\": 3}}, \"nodeID\": 17, \"type\": \"Feature\", \"geometry\": {\"type\": \"Point\", \"coordinates\": [8.0, 2.0]}}, {\"station\": 29, \"side\": 0, \"line\": 0, \"contraction\": {\"57\": {\"station\": 29, \"side\": 1, \"line\": 3}, \"58\": {\"station\": 29, \"side\": -1, \"line\": 3}}, \"nodeID\": 18, \"type\": \"Feature\", \"geometry\": {\"type\": \"Point\", \"coordinates\": [9.0, 2.0]}}, {\"station\": 21, \"side\": 0, \"line\": 0, \"contraction\": {\"61\": {\"station\": 21, \"side\": 1, \"line\": 4}, \"62\": {\"station\": 21, \"side\": -1, \"line\": 4}}, \"nodeID\": 19, \"type\": \"Feature\", \"geometry\": {\"type\": \"Point\", \"coordinates\": [1.0, 2.0]}}, {\"station\": 23, \"side\": 0, \"line\": 0, \"contraction\": {\"63\": {\"station\": 23, \"side\": 1, \"line\": 4}, \"64\": {\"station\": 23, \"side\": -1, \"line\": 4}}, \"nodeID\": 20, \"type\": \"Feature\", \"geometry\": {\"type\": \"Point\", \"coordinates\": [3.0, 2.0]}}]}}, {\"mode\": \"vega-lite\"});\n",
       "</script>"
      ],
      "text/plain": [
       "alt.LayerChart(...)"
      ]
     },
     "execution_count": 5,
     "metadata": {},
     "output_type": "execute_result"
    }
   ],
   "source": [
    "dataset.cg.altair_graph(dataset.cg.graph, 10)"
   ]
  },
  {
   "attachments": {},
   "cell_type": "markdown",
   "metadata": {},
   "source": [
    "# Model"
   ]
  },
  {
   "cell_type": "code",
   "execution_count": 6,
   "metadata": {},
   "outputs": [],
   "source": [
    "A_init = torch.tensor(dataset.cg.adjacency_matrix(), requires_grad=True).float()"
   ]
  },
  {
   "cell_type": "code",
   "execution_count": 7,
   "metadata": {},
   "outputs": [],
   "source": [
    "model = MetroModel(embedding_size=8, num_nodes=num_nodes, neighbor_nb=1, input_size=1, gsl_mode=\"matrix\") # , "
   ]
  },
  {
   "attachments": {},
   "cell_type": "markdown",
   "metadata": {},
   "source": [
    "# Training"
   ]
  },
  {
   "cell_type": "code",
   "execution_count": 8,
   "metadata": {},
   "outputs": [
    {
     "name": "stderr",
     "output_type": "stream",
     "text": [
      "GPU available: True (cuda), used: False\n",
      "TPU available: False, using: 0 TPU cores\n",
      "IPU available: False, using: 0 IPUs\n",
      "HPU available: False, using: 0 HPUs\n",
      "c:\\Users\\simon\\Projets\\CountryTrends\\.conda\\lib\\site-packages\\pytorch_lightning\\trainer\\setup.py:176: PossibleUserWarning: GPU available but not used. Set `accelerator` and `devices` using `Trainer(accelerator='gpu', devices=1)`.\n",
      "  rank_zero_warn(\n",
      "c:\\Users\\simon\\Projets\\CountryTrends\\.conda\\lib\\site-packages\\pytorch_lightning\\trainer\\connectors\\logger_connector\\logger_connector.py:67: UserWarning: Starting from v1.9.0, `tensorboardX` has been removed as a dependency of the `pytorch_lightning` package, due to potential conflicts with other packages in the ML ecosystem. For this reason, `logger=True` will use `CSVLogger` as the default logger, unless the `tensorboard` or `tensorboardX` packages are found. Please `pip install lightning[extra]` or one of them to enable TensorBoard support by default\n",
      "  warning_cache.warn(\n",
      "\n",
      "  | Name                   | Type      | Params\n",
      "-----------------------------------------------------\n",
      "0 | node_embeddings_start  | Embedding | 552   \n",
      "1 | node_embeddings_target | Embedding | 552   \n",
      "2 | graph_layer            | GraphConv | 3     \n",
      "3 | _linear1               | Linear    | 72    \n",
      "4 | _linear2               | Linear    | 72    \n",
      "5 | linear                 | Linear    | 4.8 K \n",
      "6 | softmax                | Softmax   | 0     \n",
      "-----------------------------------------------------\n",
      "10.8 K    Trainable params\n",
      "0         Non-trainable params\n",
      "10.8 K    Total params\n",
      "0.043     Total estimated model params size (MB)\n",
      "c:\\Users\\simon\\Projets\\CountryTrends\\.conda\\lib\\site-packages\\pytorch_lightning\\trainer\\connectors\\data_connector.py:224: PossibleUserWarning: The dataloader, train_dataloader, does not have many workers which may be a bottleneck. Consider increasing the value of the `num_workers` argument` (try 12 which is the number of cpus on this machine) in the `DataLoader` init to improve performance.\n",
      "  rank_zero_warn(\n"
     ]
    },
    {
     "name": "stdout",
     "output_type": "stream",
     "text": [
      "Epoch 0: 100%|██████████| 248/248 [00:01<00:00, 141.90it/s, loss=5.7, v_num=3]    "
     ]
    },
    {
     "name": "stderr",
     "output_type": "stream",
     "text": [
      "`Trainer.fit` stopped: `max_epochs=1` reached.\n"
     ]
    },
    {
     "name": "stdout",
     "output_type": "stream",
     "text": [
      "Epoch 0: 100%|██████████| 248/248 [00:01<00:00, 141.26it/s, loss=5.7, v_num=3]\n"
     ]
    }
   ],
   "source": [
    "train_loader = torch.utils.data.DataLoader(dataset, batch_size=8)\n",
    "trainer = Trainer(max_epochs=1)\n",
    "trainer.fit(model, train_loader)"
   ]
  },
  {
   "attachments": {},
   "cell_type": "markdown",
   "metadata": {},
   "source": [
    "# Evaluation"
   ]
  },
  {
   "cell_type": "code",
   "execution_count": 9,
   "metadata": {},
   "outputs": [],
   "source": [
    "A = model.graph_matrix_learning().detach().numpy()\n",
    "# A = model.linear.weight.detach().numpy()\n",
    "# A = A / A.sum(axis=0)\n",
    "A = np.array(A)"
   ]
  },
  {
   "cell_type": "code",
   "execution_count": 10,
   "metadata": {},
   "outputs": [
    {
     "data": {
      "text/html": [
       "\n",
       "<div id=\"altair-viz-554fc7db8ad348f99be8d80a6822110b\"></div>\n",
       "<script type=\"text/javascript\">\n",
       "  var VEGA_DEBUG = (typeof VEGA_DEBUG == \"undefined\") ? {} : VEGA_DEBUG;\n",
       "  (function(spec, embedOpt){\n",
       "    let outputDiv = document.currentScript.previousElementSibling;\n",
       "    if (outputDiv.id !== \"altair-viz-554fc7db8ad348f99be8d80a6822110b\") {\n",
       "      outputDiv = document.getElementById(\"altair-viz-554fc7db8ad348f99be8d80a6822110b\");\n",
       "    }\n",
       "    const paths = {\n",
       "      \"vega\": \"https://cdn.jsdelivr.net/npm//vega@5?noext\",\n",
       "      \"vega-lib\": \"https://cdn.jsdelivr.net/npm//vega-lib?noext\",\n",
       "      \"vega-lite\": \"https://cdn.jsdelivr.net/npm//vega-lite@4.17.0?noext\",\n",
       "      \"vega-embed\": \"https://cdn.jsdelivr.net/npm//vega-embed@6?noext\",\n",
       "    };\n",
       "\n",
       "    function maybeLoadScript(lib, version) {\n",
       "      var key = `${lib.replace(\"-\", \"\")}_version`;\n",
       "      return (VEGA_DEBUG[key] == version) ?\n",
       "        Promise.resolve(paths[lib]) :\n",
       "        new Promise(function(resolve, reject) {\n",
       "          var s = document.createElement('script');\n",
       "          document.getElementsByTagName(\"head\")[0].appendChild(s);\n",
       "          s.async = true;\n",
       "          s.onload = () => {\n",
       "            VEGA_DEBUG[key] = version;\n",
       "            return resolve(paths[lib]);\n",
       "          };\n",
       "          s.onerror = () => reject(`Error loading script: ${paths[lib]}`);\n",
       "          s.src = paths[lib];\n",
       "        });\n",
       "    }\n",
       "\n",
       "    function showError(err) {\n",
       "      outputDiv.innerHTML = `<div class=\"error\" style=\"color:red;\">${err}</div>`;\n",
       "      throw err;\n",
       "    }\n",
       "\n",
       "    function displayChart(vegaEmbed) {\n",
       "      vegaEmbed(outputDiv, spec, embedOpt)\n",
       "        .catch(err => showError(`Javascript Error: ${err.message}<br>This usually means there's a typo in your chart specification. See the javascript console for the full traceback.`));\n",
       "    }\n",
       "\n",
       "    if(typeof define === \"function\" && define.amd) {\n",
       "      requirejs.config({paths});\n",
       "      require([\"vega-embed\"], displayChart, err => showError(`Error loading script: ${err.message}`));\n",
       "    } else {\n",
       "      maybeLoadScript(\"vega\", \"5\")\n",
       "        .then(() => maybeLoadScript(\"vega-lite\", \"4.17.0\"))\n",
       "        .then(() => maybeLoadScript(\"vega-embed\", \"6\"))\n",
       "        .catch(showError)\n",
       "        .then(() => displayChart(vegaEmbed));\n",
       "    }\n",
       "  })({\"config\": {\"view\": {\"continuousWidth\": 400, \"continuousHeight\": 300}}, \"layer\": [{\"data\": {\"name\": \"data-5891f55c1222f948c1096ab1f95bef54\"}, \"mark\": {\"type\": \"geoshape\", \"filled\": false, \"strokeWidth\": 10}, \"encoding\": {\"color\": {\"field\": \"line\", \"type\": \"nominal\"}}}, {\"data\": {\"name\": \"data-96d8a832028d9f89c2d6375ba55ee08a\"}, \"mark\": {\"type\": \"geoshape\", \"filled\": false, \"strokeWidth\": 10}}], \"$schema\": \"https://vega.github.io/schema/vega-lite/v4.17.0.json\", \"datasets\": {\"data-5891f55c1222f948c1096ab1f95bef54\": [{\"weight\": 1.1433708667755127, \"type\": \"Feature\", \"geometry\": {\"type\": \"LineString\", \"coordinates\": [[0.0, 0.0], [6.0, 0.0]]}}, {\"weight\": 1.1616497039794922, \"type\": \"Feature\", \"geometry\": {\"type\": \"LineString\", \"coordinates\": [[0.0, 0.0], [4.0, 1.0]]}}, {\"weight\": 1.1320041418075562, \"type\": \"Feature\", \"geometry\": {\"type\": \"LineString\", \"coordinates\": [[0.0, 0.0], [1.0, 0.0]]}}, {\"weight\": 1.1442992687225342, \"type\": \"Feature\", \"geometry\": {\"type\": \"LineString\", \"coordinates\": [[0.0, 0.0], [5.0, 0.0]]}}, {\"weight\": 1.1475284099578857, \"type\": \"Feature\", \"geometry\": {\"type\": \"LineString\", \"coordinates\": [[0.0, 0.0], [8.0, 2.0]]}}, {\"weight\": 1.17055082321167, \"type\": \"Feature\", \"geometry\": {\"type\": \"LineString\", \"coordinates\": [[0.0, 0.0], [9.0, 2.0]]}}, {\"weight\": 1.1466583013534546, \"type\": \"Feature\", \"geometry\": {\"type\": \"LineString\", \"coordinates\": [[0.0, 0.0], [3.0, 2.0]]}}, {\"weight\": 1.139927625656128, \"type\": \"Feature\", \"geometry\": {\"type\": \"LineString\", \"coordinates\": [[1.0, 0.0], [6.0, 1.0]]}}, {\"weight\": 1.1565836668014526, \"type\": \"Feature\", \"geometry\": {\"type\": \"LineString\", \"coordinates\": [[1.0, 0.0], [3.0, 0.0]]}}, {\"weight\": 1.1494221687316895, \"type\": \"Feature\", \"geometry\": {\"type\": \"LineString\", \"coordinates\": [[1.0, 0.0], [8.0, 0.0]]}}, {\"weight\": 1.1224826574325562, \"type\": \"Feature\", \"geometry\": {\"type\": \"LineString\", \"coordinates\": [[1.0, 0.0], [1.0, 1.0]]}}, {\"weight\": 1.1498982906341553, \"type\": \"Feature\", \"geometry\": {\"type\": \"LineString\", \"coordinates\": [[1.0, 0.0], [4.0, 1.0]]}}, {\"weight\": 1.1528873443603516, \"type\": \"Feature\", \"geometry\": {\"type\": \"LineString\", \"coordinates\": [[1.0, 0.0], [7.0, 2.0]]}}, {\"weight\": 1.15041184425354, \"type\": \"Feature\", \"geometry\": {\"type\": \"LineString\", \"coordinates\": [[1.0, 0.0], [9.0, 2.0]]}}, {\"weight\": 1.143538236618042, \"type\": \"Feature\", \"geometry\": {\"type\": \"LineString\", \"coordinates\": [[2.0, 0.0], [7.0, 0.0]]}}, {\"weight\": 1.134114384651184, \"type\": \"Feature\", \"geometry\": {\"type\": \"LineString\", \"coordinates\": [[2.0, 0.0], [4.0, 0.0]]}}, {\"weight\": 1.1343543529510498, \"type\": \"Feature\", \"geometry\": {\"type\": \"LineString\", \"coordinates\": [[2.0, 0.0], [8.0, 0.0]]}}, {\"weight\": 1.1272283792495728, \"type\": \"Feature\", \"geometry\": {\"type\": \"LineString\", \"coordinates\": [[2.0, 0.0], [0.0, 1.0]]}}, {\"weight\": 1.1524550914764404, \"type\": \"Feature\", \"geometry\": {\"type\": \"LineString\", \"coordinates\": [[2.0, 0.0], [5.0, 1.0]]}}, {\"weight\": 1.140933871269226, \"type\": \"Feature\", \"geometry\": {\"type\": \"LineString\", \"coordinates\": [[2.0, 0.0], [9.0, 2.0]]}}, {\"weight\": 1.1321732997894287, \"type\": \"Feature\", \"geometry\": {\"type\": \"LineString\", \"coordinates\": [[3.0, 0.0], [8.0, 0.0]]}}, {\"weight\": 1.1349700689315796, \"type\": \"Feature\", \"geometry\": {\"type\": \"LineString\", \"coordinates\": [[3.0, 0.0], [5.0, 0.0]]}}, {\"weight\": 1.1503863334655762, \"type\": \"Feature\", \"geometry\": {\"type\": \"LineString\", \"coordinates\": [[3.0, 0.0], [7.0, 0.0]]}}, {\"weight\": 1.129227638244629, \"type\": \"Feature\", \"geometry\": {\"type\": \"LineString\", \"coordinates\": [[3.0, 0.0], [4.0, 1.0]]}}, {\"weight\": 1.147507667541504, \"type\": \"Feature\", \"geometry\": {\"type\": \"LineString\", \"coordinates\": [[3.0, 0.0], [6.0, 1.0]]}}, {\"weight\": 1.1318143606185913, \"type\": \"Feature\", \"geometry\": {\"type\": \"LineString\", \"coordinates\": [[4.0, 0.0], [9.0, 2.0]]}}, {\"weight\": 1.1424371004104614, \"type\": \"Feature\", \"geometry\": {\"type\": \"LineString\", \"coordinates\": [[4.0, 0.0], [7.0, 0.0]]}}, {\"weight\": 1.1369439363479614, \"type\": \"Feature\", \"geometry\": {\"type\": \"LineString\", \"coordinates\": [[4.0, 0.0], [6.0, 0.0]]}}, {\"weight\": 1.1307222843170166, \"type\": \"Feature\", \"geometry\": {\"type\": \"LineString\", \"coordinates\": [[4.0, 0.0], [9.0, 0.0]]}}, {\"weight\": 1.1371418237686157, \"type\": \"Feature\", \"geometry\": {\"type\": \"LineString\", \"coordinates\": [[4.0, 0.0], [2.0, 1.0]]}}, {\"weight\": 1.1418904066085815, \"type\": \"Feature\", \"geometry\": {\"type\": \"LineString\", \"coordinates\": [[4.0, 0.0], [4.0, 1.0]]}}, {\"weight\": 1.1423077583312988, \"type\": \"Feature\", \"geometry\": {\"type\": \"LineString\", \"coordinates\": [[4.0, 0.0], [6.0, 1.0]]}}, {\"weight\": 1.143035650253296, \"type\": \"Feature\", \"geometry\": {\"type\": \"LineString\", \"coordinates\": [[4.0, 0.0], [8.0, 2.0]]}}, {\"weight\": 1.1466002464294434, \"type\": \"Feature\", \"geometry\": {\"type\": \"LineString\", \"coordinates\": [[4.0, 0.0], [1.0, 2.0]]}}, {\"weight\": 1.142574667930603, \"type\": \"Feature\", \"geometry\": {\"type\": \"LineString\", \"coordinates\": [[4.0, 0.0], [3.0, 2.0]]}}, {\"weight\": 1.1371214389801025, \"type\": \"Feature\", \"geometry\": {\"type\": \"LineString\", \"coordinates\": [[5.0, 0.0], [8.0, 0.0]]}}, {\"weight\": 1.1328706741333008, \"type\": \"Feature\", \"geometry\": {\"type\": \"LineString\", \"coordinates\": [[5.0, 0.0], [4.0, 1.0]]}}, {\"weight\": 1.1351542472839355, \"type\": \"Feature\", \"geometry\": {\"type\": \"LineString\", \"coordinates\": [[5.0, 0.0], [1.0, 2.0]]}}, {\"weight\": 1.1404480934143066, \"type\": \"Feature\", \"geometry\": {\"type\": \"LineString\", \"coordinates\": [[5.0, 0.0], [3.0, 2.0]]}}, {\"weight\": 1.1352092027664185, \"type\": \"Feature\", \"geometry\": {\"type\": \"LineString\", \"coordinates\": [[5.0, 0.0], [6.0, 0.0]]}}, {\"weight\": 1.1490765810012817, \"type\": \"Feature\", \"geometry\": {\"type\": \"LineString\", \"coordinates\": [[5.0, 0.0], [7.0, 0.0]]}}, {\"weight\": 1.1498215198516846, \"type\": \"Feature\", \"geometry\": {\"type\": \"LineString\", \"coordinates\": [[5.0, 0.0], [0.0, 1.0]]}}, {\"weight\": 1.1437264680862427, \"type\": \"Feature\", \"geometry\": {\"type\": \"LineString\", \"coordinates\": [[5.0, 0.0], [5.0, 1.0]]}}, {\"weight\": 1.1402946710586548, \"type\": \"Feature\", \"geometry\": {\"type\": \"LineString\", \"coordinates\": [[6.0, 0.0], [6.0, 1.0]]}}, {\"weight\": 1.1483640670776367, \"type\": \"Feature\", \"geometry\": {\"type\": \"LineString\", \"coordinates\": [[6.0, 0.0], [7.0, 2.0]]}}, {\"weight\": 1.1432627439498901, \"type\": \"Feature\", \"geometry\": {\"type\": \"LineString\", \"coordinates\": [[6.0, 0.0], [7.0, 0.0]]}}, {\"weight\": 1.136276364326477, \"type\": \"Feature\", \"geometry\": {\"type\": \"LineString\", \"coordinates\": [[6.0, 0.0], [9.0, 0.0]]}}, {\"weight\": 1.153748631477356, \"type\": \"Feature\", \"geometry\": {\"type\": \"LineString\", \"coordinates\": [[6.0, 0.0], [0.0, 1.0]]}}, {\"weight\": 1.144639015197754, \"type\": \"Feature\", \"geometry\": {\"type\": \"LineString\", \"coordinates\": [[6.0, 0.0], [4.0, 1.0]]}}, {\"weight\": 1.134670615196228, \"type\": \"Feature\", \"geometry\": {\"type\": \"LineString\", \"coordinates\": [[6.0, 0.0], [5.0, 1.0]]}}, {\"weight\": 1.1469309329986572, \"type\": \"Feature\", \"geometry\": {\"type\": \"LineString\", \"coordinates\": [[7.0, 0.0], [9.0, 0.0]]}}, {\"weight\": 1.1425178050994873, \"type\": \"Feature\", \"geometry\": {\"type\": \"LineString\", \"coordinates\": [[7.0, 0.0], [3.0, 2.0]]}}, {\"weight\": 1.1482481956481934, \"type\": \"Feature\", \"geometry\": {\"type\": \"LineString\", \"coordinates\": [[7.0, 0.0], [2.0, 1.0]]}}, {\"weight\": 1.147371530532837, \"type\": \"Feature\", \"geometry\": {\"type\": \"LineString\", \"coordinates\": [[7.0, 0.0], [8.0, 2.0]]}}, {\"weight\": 1.1644234657287598, \"type\": \"Feature\", \"geometry\": {\"type\": \"LineString\", \"coordinates\": [[7.0, 0.0], [9.0, 2.0]]}}, {\"weight\": 1.1430902481079102, \"type\": \"Feature\", \"geometry\": {\"type\": \"LineString\", \"coordinates\": [[8.0, 0.0], [6.0, 1.0]]}}, {\"weight\": 1.1457037925720215, \"type\": \"Feature\", \"geometry\": {\"type\": \"LineString\", \"coordinates\": [[9.0, 0.0], [2.0, 1.0]]}}, {\"weight\": 1.144578456878662, \"type\": \"Feature\", \"geometry\": {\"type\": \"LineString\", \"coordinates\": [[9.0, 0.0], [7.0, 2.0]]}}, {\"weight\": 1.1413182020187378, \"type\": \"Feature\", \"geometry\": {\"type\": \"LineString\", \"coordinates\": [[9.0, 0.0], [4.0, 1.0]]}}, {\"weight\": 1.1580493450164795, \"type\": \"Feature\", \"geometry\": {\"type\": \"LineString\", \"coordinates\": [[9.0, 0.0], [8.0, 2.0]]}}, {\"weight\": 1.1606552600860596, \"type\": \"Feature\", \"geometry\": {\"type\": \"LineString\", \"coordinates\": [[9.0, 0.0], [1.0, 2.0]]}}, {\"weight\": 1.122531533241272, \"type\": \"Feature\", \"geometry\": {\"type\": \"LineString\", \"coordinates\": [[9.0, 0.0], [3.0, 2.0]]}}, {\"weight\": 1.134494423866272, \"type\": \"Feature\", \"geometry\": {\"type\": \"LineString\", \"coordinates\": [[0.0, 1.0], [5.0, 1.0]]}}, {\"weight\": 1.152953863143921, \"type\": \"Feature\", \"geometry\": {\"type\": \"LineString\", \"coordinates\": [[0.0, 1.0], [4.0, 1.0]]}}, {\"weight\": 1.1418440341949463, \"type\": \"Feature\", \"geometry\": {\"type\": \"LineString\", \"coordinates\": [[0.0, 1.0], [6.0, 1.0]]}}, {\"weight\": 1.158011555671692, \"type\": \"Feature\", \"geometry\": {\"type\": \"LineString\", \"coordinates\": [[0.0, 1.0], [7.0, 2.0]]}}, {\"weight\": 1.1563221216201782, \"type\": \"Feature\", \"geometry\": {\"type\": \"LineString\", \"coordinates\": [[0.0, 1.0], [8.0, 2.0]]}}, {\"weight\": 1.1428213119506836, \"type\": \"Feature\", \"geometry\": {\"type\": \"LineString\", \"coordinates\": [[1.0, 1.0], [8.0, 2.0]]}}, {\"weight\": 1.143093228340149, \"type\": \"Feature\", \"geometry\": {\"type\": \"LineString\", \"coordinates\": [[1.0, 1.0], [9.0, 2.0]]}}, {\"weight\": 1.1343392133712769, \"type\": \"Feature\", \"geometry\": {\"type\": \"LineString\", \"coordinates\": [[1.0, 1.0], [2.0, 1.0]]}}, {\"weight\": 1.153178095817566, \"type\": \"Feature\", \"geometry\": {\"type\": \"LineString\", \"coordinates\": [[1.0, 1.0], [4.0, 1.0]]}}, {\"weight\": 1.1473690271377563, \"type\": \"Feature\", \"geometry\": {\"type\": \"LineString\", \"coordinates\": [[2.0, 1.0], [4.0, 1.0]]}}, {\"weight\": 1.13979971408844, \"type\": \"Feature\", \"geometry\": {\"type\": \"LineString\", \"coordinates\": [[2.0, 1.0], [6.0, 1.0]]}}, {\"weight\": 1.1584222316741943, \"type\": \"Feature\", \"geometry\": {\"type\": \"LineString\", \"coordinates\": [[2.0, 1.0], [9.0, 2.0]]}}, {\"weight\": 1.129581332206726, \"type\": \"Feature\", \"geometry\": {\"type\": \"LineString\", \"coordinates\": [[4.0, 1.0], [8.0, 2.0]]}}, {\"weight\": 1.1367623805999756, \"type\": \"Feature\", \"geometry\": {\"type\": \"LineString\", \"coordinates\": [[4.0, 1.0], [6.0, 1.0]]}}, {\"weight\": 1.1241453886032104, \"type\": \"Feature\", \"geometry\": {\"type\": \"LineString\", \"coordinates\": [[4.0, 1.0], [7.0, 2.0]]}}, {\"weight\": 1.140842080116272, \"type\": \"Feature\", \"geometry\": {\"type\": \"LineString\", \"coordinates\": [[4.0, 1.0], [9.0, 2.0]]}}, {\"weight\": 1.138344645500183, \"type\": \"Feature\", \"geometry\": {\"type\": \"LineString\", \"coordinates\": [[4.0, 1.0], [3.0, 2.0]]}}, {\"weight\": 1.1406781673431396, \"type\": \"Feature\", \"geometry\": {\"type\": \"LineString\", \"coordinates\": [[5.0, 1.0], [8.0, 2.0]]}}, {\"weight\": 1.1453227996826172, \"type\": \"Feature\", \"geometry\": {\"type\": \"LineString\", \"coordinates\": [[5.0, 1.0], [7.0, 2.0]]}}, {\"weight\": 1.1475849151611328, \"type\": \"Feature\", \"geometry\": {\"type\": \"LineString\", \"coordinates\": [[7.0, 2.0], [8.0, 2.0]]}}, {\"weight\": 1.1431353092193604, \"type\": \"Feature\", \"geometry\": {\"type\": \"LineString\", \"coordinates\": [[8.0, 2.0], [1.0, 2.0]]}}, {\"weight\": 1.1479413509368896, \"type\": \"Feature\", \"geometry\": {\"type\": \"LineString\", \"coordinates\": [[9.0, 2.0], [3.0, 2.0]]}}, {\"weight\": 1.1381745338439941, \"type\": \"Feature\", \"geometry\": {\"type\": \"LineString\", \"coordinates\": [[1.0, 2.0], [3.0, 2.0]]}}], \"data-96d8a832028d9f89c2d6375ba55ee08a\": [{\"contraction\": {\"10\": {}, \"11\": {}}, \"nodeID\": 0, \"type\": \"Feature\", \"geometry\": {\"type\": \"Point\", \"coordinates\": [0.0, 0.0]}}, {\"contraction\": {\"12\": {}, \"13\": {}}, \"nodeID\": 1, \"type\": \"Feature\", \"geometry\": {\"type\": \"Point\", \"coordinates\": [1.0, 0.0]}}, {\"contraction\": {\"14\": {}, \"15\": {}}, \"nodeID\": 2, \"type\": \"Feature\", \"geometry\": {\"type\": \"Point\", \"coordinates\": [2.0, 0.0]}}, {\"contraction\": {\"16\": {}, \"17\": {}}, \"nodeID\": 3, \"type\": \"Feature\", \"geometry\": {\"type\": \"Point\", \"coordinates\": [3.0, 0.0]}}, {\"contraction\": {\"18\": {}, \"19\": {}, \"67\": {}, \"68\": {}}, \"nodeID\": 4, \"type\": \"Feature\", \"geometry\": {\"type\": \"Point\", \"coordinates\": [4.0, 0.0]}}, {\"contraction\": {\"20\": {}, \"21\": {}}, \"nodeID\": 5, \"type\": \"Feature\", \"geometry\": {\"type\": \"Point\", \"coordinates\": [5.0, 0.0]}}, {\"contraction\": {\"22\": {}, \"23\": {}}, \"nodeID\": 6, \"type\": \"Feature\", \"geometry\": {\"type\": \"Point\", \"coordinates\": [6.0, 0.0]}}, {\"contraction\": {\"24\": {}, \"25\": {}}, \"nodeID\": 7, \"type\": \"Feature\", \"geometry\": {\"type\": \"Point\", \"coordinates\": [7.0, 0.0]}}, {\"contraction\": {\"26\": {}, \"27\": {}}, \"nodeID\": 8, \"type\": \"Feature\", \"geometry\": {\"type\": \"Point\", \"coordinates\": [8.0, 0.0]}}, {\"contraction\": {\"28\": {}, \"29\": {}}, \"nodeID\": 9, \"type\": \"Feature\", \"geometry\": {\"type\": \"Point\", \"coordinates\": [9.0, 0.0]}}, {\"contraction\": {\"34\": {}, \"35\": {}}, \"nodeID\": 10, \"type\": \"Feature\", \"geometry\": {\"type\": \"Point\", \"coordinates\": [0.0, 1.0]}}, {\"contraction\": {\"36\": {}, \"37\": {}}, \"nodeID\": 11, \"type\": \"Feature\", \"geometry\": {\"type\": \"Point\", \"coordinates\": [1.0, 1.0]}}, {\"contraction\": {\"38\": {}, \"39\": {}}, \"nodeID\": 12, \"type\": \"Feature\", \"geometry\": {\"type\": \"Point\", \"coordinates\": [2.0, 1.0]}}, {\"contraction\": {\"40\": {}, \"41\": {}, \"47\": {}, \"48\": {}, \"65\": {}, \"66\": {}}, \"nodeID\": 13, \"type\": \"Feature\", \"geometry\": {\"type\": \"Point\", \"coordinates\": [4.0, 1.0]}}, {\"contraction\": {\"49\": {}, \"50\": {}}, \"nodeID\": 14, \"type\": \"Feature\", \"geometry\": {\"type\": \"Point\", \"coordinates\": [5.0, 1.0]}}, {\"contraction\": {\"51\": {}, \"52\": {}}, \"nodeID\": 15, \"type\": \"Feature\", \"geometry\": {\"type\": \"Point\", \"coordinates\": [6.0, 1.0]}}, {\"contraction\": {\"53\": {}, \"54\": {}}, \"nodeID\": 16, \"type\": \"Feature\", \"geometry\": {\"type\": \"Point\", \"coordinates\": [7.0, 2.0]}}, {\"contraction\": {\"55\": {}, \"56\": {}}, \"nodeID\": 17, \"type\": \"Feature\", \"geometry\": {\"type\": \"Point\", \"coordinates\": [8.0, 2.0]}}, {\"contraction\": {\"57\": {}, \"58\": {}}, \"nodeID\": 18, \"type\": \"Feature\", \"geometry\": {\"type\": \"Point\", \"coordinates\": [9.0, 2.0]}}, {\"contraction\": {\"61\": {}, \"62\": {}}, \"nodeID\": 19, \"type\": \"Feature\", \"geometry\": {\"type\": \"Point\", \"coordinates\": [1.0, 2.0]}}, {\"contraction\": {\"63\": {}, \"64\": {}}, \"nodeID\": 20, \"type\": \"Feature\", \"geometry\": {\"type\": \"Point\", \"coordinates\": [3.0, 2.0]}}]}}, {\"mode\": \"vega-lite\"});\n",
       "</script>"
      ],
      "text/plain": [
       "alt.LayerChart(...)"
      ]
     },
     "execution_count": 10,
     "metadata": {},
     "output_type": "execute_result"
    }
   ],
   "source": [
    "learned_graph = nx.from_numpy_array(A, nx.DiGraph)\n",
    "dataset.cg.altair_graph(learned_graph, 10)"
   ]
  },
  {
   "cell_type": "code",
   "execution_count": 11,
   "metadata": {},
   "outputs": [],
   "source": [
    "# learned_graph = nx.from_numpy_array(A, nx.DiGraph)\n",
    "# labels = {k: v for k, v in enumerate(dataset.dataframes[0].columns)}\n",
    "# learned_graph = nx.relabel_nodes(learned_graph, labels)\n",
    "# weight=nx.get_edge_attributes(learned_graph,'weight')\n",
    "# stations = nx.get_node_attributes(G, \"station\")\n",
    "# sides = nx.get_node_attributes(G, \"side\")\n",
    "# correctness = ['green' if e in G.edges() else 'red' for e in learned_graph.edges()]\n",
    "\n",
    "# nx.draw(learned_graph, pos, labels=labels, with_labels=True, width=list(weight.values()), edge_color=correctness)"
   ]
  },
  {
   "cell_type": "code",
   "execution_count": 12,
   "metadata": {},
   "outputs": [],
   "source": [
    "# contracted_learned_graph = dataset.cg.contract(learned_graph)\n",
    "# pos = nx.nx_agraph.graphviz_layout(contracted_G, prog=\"twopi\", root=0)\n",
    "# labels = nx.get_node_attributes(contracted_G, \"station\")\n",
    "# nx.draw(contracted_learned_graph, contracted_pos, labels=contracted_labels, with_labels=True)"
   ]
  },
  {
   "cell_type": "code",
   "execution_count": 13,
   "metadata": {},
   "outputs": [],
   "source": [
    "# TODO: Essayer avec les embeddings\n",
    "# TODO: Essayer avec un graph bruité en entrée\n",
    "# TODO: Essayer avec des data bruitées\n",
    "# TODO: Essayer avec différents réseaux (de métro)\n",
    "# TODO: Essayer avec le graphe contracté "
   ]
  },
  {
   "attachments": {},
   "cell_type": "markdown",
   "metadata": {},
   "source": [
    "# Altair"
   ]
  },
  {
   "cell_type": "code",
   "execution_count": 14,
   "metadata": {},
   "outputs": [
    {
     "ename": "NameError",
     "evalue": "name 'LineString' is not defined",
     "output_type": "error",
     "traceback": [
      "\u001b[1;31m---------------------------------------------------------------------------\u001b[0m",
      "\u001b[1;31mNameError\u001b[0m                                 Traceback (most recent call last)",
      "Cell \u001b[1;32mIn[14], line 14\u001b[0m\n\u001b[0;32m      6\u001b[0m G\u001b[39m.\u001b[39madd_edge(\u001b[39m2\u001b[39m,\u001b[39m3\u001b[39m)\n\u001b[0;32m      8\u001b[0m pos \u001b[39m=\u001b[39m {\n\u001b[0;32m      9\u001b[0m     \u001b[39m1\u001b[39m: (\u001b[39m0\u001b[39m,\u001b[39m1\u001b[39m),\n\u001b[0;32m     10\u001b[0m     \u001b[39m2\u001b[39m: (\u001b[39m0\u001b[39m,\u001b[39m2\u001b[39m),\n\u001b[0;32m     11\u001b[0m     \u001b[39m3\u001b[39m: (\u001b[39m1\u001b[39m,\u001b[39m3\u001b[39m),\n\u001b[0;32m     12\u001b[0m }\n\u001b[1;32m---> 14\u001b[0m edge_geometry \u001b[39m=\u001b[39m {(a,b): LineString([pos[a], pos[b]]) \u001b[39mfor\u001b[39;00m a,b \u001b[39min\u001b[39;00m G\u001b[39m.\u001b[39medges}\n\u001b[0;32m     15\u001b[0m edge_id \u001b[39m=\u001b[39m {(\u001b[39m1\u001b[39m,\u001b[39m2\u001b[39m): \u001b[39m1\u001b[39m, (\u001b[39m2\u001b[39m,\u001b[39m3\u001b[39m): \u001b[39m2\u001b[39m}\n\u001b[0;32m     16\u001b[0m nx\u001b[39m.\u001b[39mset_edge_attributes(G, edge_geometry, \u001b[39m\"\u001b[39m\u001b[39mgeometry\u001b[39m\u001b[39m\"\u001b[39m)\n",
      "Cell \u001b[1;32mIn[14], line 14\u001b[0m, in \u001b[0;36m<dictcomp>\u001b[1;34m(.0)\u001b[0m\n\u001b[0;32m      6\u001b[0m G\u001b[39m.\u001b[39madd_edge(\u001b[39m2\u001b[39m,\u001b[39m3\u001b[39m)\n\u001b[0;32m      8\u001b[0m pos \u001b[39m=\u001b[39m {\n\u001b[0;32m      9\u001b[0m     \u001b[39m1\u001b[39m: (\u001b[39m0\u001b[39m,\u001b[39m1\u001b[39m),\n\u001b[0;32m     10\u001b[0m     \u001b[39m2\u001b[39m: (\u001b[39m0\u001b[39m,\u001b[39m2\u001b[39m),\n\u001b[0;32m     11\u001b[0m     \u001b[39m3\u001b[39m: (\u001b[39m1\u001b[39m,\u001b[39m3\u001b[39m),\n\u001b[0;32m     12\u001b[0m }\n\u001b[1;32m---> 14\u001b[0m edge_geometry \u001b[39m=\u001b[39m {(a,b): LineString([pos[a], pos[b]]) \u001b[39mfor\u001b[39;00m a,b \u001b[39min\u001b[39;00m G\u001b[39m.\u001b[39medges}\n\u001b[0;32m     15\u001b[0m edge_id \u001b[39m=\u001b[39m {(\u001b[39m1\u001b[39m,\u001b[39m2\u001b[39m): \u001b[39m1\u001b[39m, (\u001b[39m2\u001b[39m,\u001b[39m3\u001b[39m): \u001b[39m2\u001b[39m}\n\u001b[0;32m     16\u001b[0m nx\u001b[39m.\u001b[39mset_edge_attributes(G, edge_geometry, \u001b[39m\"\u001b[39m\u001b[39mgeometry\u001b[39m\u001b[39m\"\u001b[39m)\n",
      "\u001b[1;31mNameError\u001b[0m: name 'LineString' is not defined"
     ]
    }
   ],
   "source": [
    "G = nx.Graph()\n",
    "G.add_node(1)\n",
    "G.add_node(2)\n",
    "G.add_node(3)\n",
    "G.add_edge(1,2)\n",
    "G.add_edge(2,3)\n",
    "\n",
    "pos = {\n",
    "    1: (0,1),\n",
    "    2: (0,2),\n",
    "    3: (1,3),\n",
    "}\n",
    "\n",
    "edge_geometry = {(a,b): LineString([pos[a], pos[b]]) for a,b in G.edges}\n",
    "edge_id = {(1,2): 1, (2,3): 2}\n",
    "nx.set_edge_attributes(G, edge_geometry, \"geometry\")\n",
    "nx.set_edge_attributes(G, edge_id, \"edge_id\")\n",
    "G = nx.relabel_nodes(G, pos)"
   ]
  },
  {
   "cell_type": "code",
   "execution_count": null,
   "metadata": {},
   "outputs": [],
   "source": [
    "gdf = momepy.nx_to_gdf(G)"
   ]
  },
  {
   "cell_type": "code",
   "execution_count": null,
   "metadata": {},
   "outputs": [],
   "source": [
    "gdf[1]"
   ]
  },
  {
   "cell_type": "code",
   "execution_count": null,
   "metadata": {},
   "outputs": [],
   "source": [
    "lines = alt.Chart(gdf[1]).mark_geoshape(\n",
    "    filled=False,\n",
    "    strokeWidth=10\n",
    ").encode(\n",
    "    alt.Color(\n",
    "        'edge_id:N',\n",
    "        # scale=line_scale\n",
    "    )\n",
    ")\n",
    "lines"
   ]
  }
 ],
 "metadata": {
  "kernelspec": {
   "display_name": "Python 3",
   "language": "python",
   "name": "python3"
  },
  "language_info": {
   "codemirror_mode": {
    "name": "ipython",
    "version": 3
   },
   "file_extension": ".py",
   "mimetype": "text/x-python",
   "name": "python",
   "nbconvert_exporter": "python",
   "pygments_lexer": "ipython3",
   "version": "3.10.9"
  },
  "orig_nbformat": 4
 },
 "nbformat": 4,
 "nbformat_minor": 2
}
